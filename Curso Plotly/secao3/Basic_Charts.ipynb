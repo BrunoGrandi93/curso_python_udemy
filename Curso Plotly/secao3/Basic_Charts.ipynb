{
 "cells": [
  {
   "cell_type": "code",
   "execution_count": 106,
   "metadata": {},
   "outputs": [
    {
     "data": {
      "text/html": [
       "<div>\n",
       "<style scoped>\n",
       "    .dataframe tbody tr th:only-of-type {\n",
       "        vertical-align: middle;\n",
       "    }\n",
       "\n",
       "    .dataframe tbody tr th {\n",
       "        vertical-align: top;\n",
       "    }\n",
       "\n",
       "    .dataframe thead th {\n",
       "        text-align: right;\n",
       "    }\n",
       "</style>\n",
       "<table border=\"1\" class=\"dataframe\">\n",
       "  <thead>\n",
       "    <tr style=\"text-align: right;\">\n",
       "      <th></th>\n",
       "      <th>PRIMARY_KEY</th>\n",
       "      <th>STATE</th>\n",
       "      <th>YEAR</th>\n",
       "      <th>ENROLL</th>\n",
       "      <th>TOTAL_REVENUE</th>\n",
       "      <th>FEDERAL_REVENUE</th>\n",
       "      <th>STATE_REVENUE</th>\n",
       "      <th>LOCAL_REVENUE</th>\n",
       "      <th>TOTAL_EXPENDITURE</th>\n",
       "      <th>INSTRUCTION_EXPENDITURE</th>\n",
       "      <th>...</th>\n",
       "      <th>GRADES_12_G</th>\n",
       "      <th>GRADES_1_8_G</th>\n",
       "      <th>GRADES_9_12_G</th>\n",
       "      <th>GRADES_ALL_G</th>\n",
       "      <th>AVG_MATH_4_SCORE</th>\n",
       "      <th>AVG_MATH_8_SCORE</th>\n",
       "      <th>AVG_READING_4_SCORE</th>\n",
       "      <th>AVG_READING_8_SCORE</th>\n",
       "      <th>expenditure_per_student</th>\n",
       "      <th>above_avg_math8</th>\n",
       "    </tr>\n",
       "  </thead>\n",
       "  <tbody>\n",
       "    <tr>\n",
       "      <th>0</th>\n",
       "      <td>1992_ALABAMA</td>\n",
       "      <td>ALABAMA</td>\n",
       "      <td>1992</td>\n",
       "      <td>NaN</td>\n",
       "      <td>2678885.0</td>\n",
       "      <td>304177.0</td>\n",
       "      <td>1659028.0</td>\n",
       "      <td>715680.0</td>\n",
       "      <td>2653798.0</td>\n",
       "      <td>1481703.0</td>\n",
       "      <td>...</td>\n",
       "      <td>41167.0</td>\n",
       "      <td>NaN</td>\n",
       "      <td>NaN</td>\n",
       "      <td>731634.0</td>\n",
       "      <td>208.0</td>\n",
       "      <td>252.0</td>\n",
       "      <td>207.0</td>\n",
       "      <td>NaN</td>\n",
       "      <td>3.627221</td>\n",
       "      <td>Below Avg</td>\n",
       "    </tr>\n",
       "    <tr>\n",
       "      <th>1</th>\n",
       "      <td>1992_ALASKA</td>\n",
       "      <td>ALASKA</td>\n",
       "      <td>1992</td>\n",
       "      <td>NaN</td>\n",
       "      <td>1049591.0</td>\n",
       "      <td>106780.0</td>\n",
       "      <td>720711.0</td>\n",
       "      <td>222100.0</td>\n",
       "      <td>972488.0</td>\n",
       "      <td>498362.0</td>\n",
       "      <td>...</td>\n",
       "      <td>6714.0</td>\n",
       "      <td>NaN</td>\n",
       "      <td>NaN</td>\n",
       "      <td>122487.0</td>\n",
       "      <td>NaN</td>\n",
       "      <td>NaN</td>\n",
       "      <td>NaN</td>\n",
       "      <td>NaN</td>\n",
       "      <td>7.939520</td>\n",
       "      <td>Below Avg</td>\n",
       "    </tr>\n",
       "    <tr>\n",
       "      <th>2</th>\n",
       "      <td>1992_ARIZONA</td>\n",
       "      <td>ARIZONA</td>\n",
       "      <td>1992</td>\n",
       "      <td>NaN</td>\n",
       "      <td>3258079.0</td>\n",
       "      <td>297888.0</td>\n",
       "      <td>1369815.0</td>\n",
       "      <td>1590376.0</td>\n",
       "      <td>3401580.0</td>\n",
       "      <td>1435908.0</td>\n",
       "      <td>...</td>\n",
       "      <td>37410.0</td>\n",
       "      <td>NaN</td>\n",
       "      <td>NaN</td>\n",
       "      <td>673477.0</td>\n",
       "      <td>215.0</td>\n",
       "      <td>265.0</td>\n",
       "      <td>209.0</td>\n",
       "      <td>NaN</td>\n",
       "      <td>5.050774</td>\n",
       "      <td>Below Avg</td>\n",
       "    </tr>\n",
       "    <tr>\n",
       "      <th>3</th>\n",
       "      <td>1992_ARKANSAS</td>\n",
       "      <td>ARKANSAS</td>\n",
       "      <td>1992</td>\n",
       "      <td>NaN</td>\n",
       "      <td>1711959.0</td>\n",
       "      <td>178571.0</td>\n",
       "      <td>958785.0</td>\n",
       "      <td>574603.0</td>\n",
       "      <td>1743022.0</td>\n",
       "      <td>964323.0</td>\n",
       "      <td>...</td>\n",
       "      <td>27651.0</td>\n",
       "      <td>NaN</td>\n",
       "      <td>NaN</td>\n",
       "      <td>441490.0</td>\n",
       "      <td>210.0</td>\n",
       "      <td>256.0</td>\n",
       "      <td>211.0</td>\n",
       "      <td>NaN</td>\n",
       "      <td>3.948044</td>\n",
       "      <td>Below Avg</td>\n",
       "    </tr>\n",
       "    <tr>\n",
       "      <th>4</th>\n",
       "      <td>1992_CALIFORNIA</td>\n",
       "      <td>CALIFORNIA</td>\n",
       "      <td>1992</td>\n",
       "      <td>NaN</td>\n",
       "      <td>26260025.0</td>\n",
       "      <td>2072470.0</td>\n",
       "      <td>16546514.0</td>\n",
       "      <td>7641041.0</td>\n",
       "      <td>27138832.0</td>\n",
       "      <td>14358922.0</td>\n",
       "      <td>...</td>\n",
       "      <td>270675.0</td>\n",
       "      <td>NaN</td>\n",
       "      <td>NaN</td>\n",
       "      <td>5254844.0</td>\n",
       "      <td>208.0</td>\n",
       "      <td>261.0</td>\n",
       "      <td>202.0</td>\n",
       "      <td>NaN</td>\n",
       "      <td>5.164536</td>\n",
       "      <td>Below Avg</td>\n",
       "    </tr>\n",
       "  </tbody>\n",
       "</table>\n",
       "<p>5 rows × 27 columns</p>\n",
       "</div>"
      ],
      "text/plain": [
       "       PRIMARY_KEY       STATE  YEAR  ENROLL  TOTAL_REVENUE  FEDERAL_REVENUE  \\\n",
       "0     1992_ALABAMA     ALABAMA  1992     NaN      2678885.0         304177.0   \n",
       "1      1992_ALASKA      ALASKA  1992     NaN      1049591.0         106780.0   \n",
       "2     1992_ARIZONA     ARIZONA  1992     NaN      3258079.0         297888.0   \n",
       "3    1992_ARKANSAS    ARKANSAS  1992     NaN      1711959.0         178571.0   \n",
       "4  1992_CALIFORNIA  CALIFORNIA  1992     NaN     26260025.0        2072470.0   \n",
       "\n",
       "   STATE_REVENUE  LOCAL_REVENUE  TOTAL_EXPENDITURE  INSTRUCTION_EXPENDITURE  \\\n",
       "0      1659028.0       715680.0          2653798.0                1481703.0   \n",
       "1       720711.0       222100.0           972488.0                 498362.0   \n",
       "2      1369815.0      1590376.0          3401580.0                1435908.0   \n",
       "3       958785.0       574603.0          1743022.0                 964323.0   \n",
       "4     16546514.0      7641041.0         27138832.0               14358922.0   \n",
       "\n",
       "   ...  GRADES_12_G  GRADES_1_8_G  GRADES_9_12_G  GRADES_ALL_G  \\\n",
       "0  ...      41167.0           NaN            NaN      731634.0   \n",
       "1  ...       6714.0           NaN            NaN      122487.0   \n",
       "2  ...      37410.0           NaN            NaN      673477.0   \n",
       "3  ...      27651.0           NaN            NaN      441490.0   \n",
       "4  ...     270675.0           NaN            NaN     5254844.0   \n",
       "\n",
       "   AVG_MATH_4_SCORE  AVG_MATH_8_SCORE  AVG_READING_4_SCORE  \\\n",
       "0             208.0             252.0                207.0   \n",
       "1               NaN               NaN                  NaN   \n",
       "2             215.0             265.0                209.0   \n",
       "3             210.0             256.0                211.0   \n",
       "4             208.0             261.0                202.0   \n",
       "\n",
       "   AVG_READING_8_SCORE  expenditure_per_student  above_avg_math8  \n",
       "0                  NaN                 3.627221        Below Avg  \n",
       "1                  NaN                 7.939520        Below Avg  \n",
       "2                  NaN                 5.050774        Below Avg  \n",
       "3                  NaN                 3.948044        Below Avg  \n",
       "4                  NaN                 5.164536        Below Avg  \n",
       "\n",
       "[5 rows x 27 columns]"
      ]
     },
     "execution_count": 106,
     "metadata": {},
     "output_type": "execute_result"
    }
   ],
   "source": [
    "import pandas as pd\n",
    "import numpy as np\n",
    "\n",
    "import plotly.graph_objects as go\n",
    "import plotly.express as px\n",
    "\n",
    "education = (\n",
    "    pd.read_csv(\"states_all.csv\")\n",
    "    .assign(\n",
    "        expenditure_per_student = lambda x: x[\"TOTAL_EXPENDITURE\"] / x[\"GRADES_ALL_G\"],\n",
    "        above_avg_math8 = lambda x:np.where(\n",
    "            x[\"AVG_MATH_8_SCORE\"] > x[\"AVG_MATH_8_SCORE\"].mean(),'Above Avg', 'Below Avg'\n",
    "        )\n",
    "    )\n",
    ")\n",
    "\n",
    "education.head()"
   ]
  },
  {
   "cell_type": "code",
   "execution_count": 107,
   "metadata": {},
   "outputs": [
    {
     "data": {
      "application/vnd.plotly.v1+json": {
       "config": {
        "plotlyServerURL": "https://plot.ly"
       },
       "data": [
        {
         "hovertemplate": "STATE=CALIFORNIA<br>LOCAL_REVENUE=%{x}<br>STATE_REVENUE=%{y}<extra></extra>",
         "legendgroup": "CALIFORNIA",
         "marker": {
          "color": "#636efa",
          "symbol": "circle"
         },
         "mode": "markers",
         "name": "CALIFORNIA",
         "orientation": "v",
         "showlegend": true,
         "type": "scatter",
         "x": {
          "bdata": "AAAAQPQlXUEAAABgkNZgQQAAAEDyKV9BAAAA4CKqZUEAAAAgqyhmQQAAAMC1RmdBAAAAQAUqaUEAAAAg/uNqQQAAAGBk/m1BAAAAABrRcEEAAAAgIcZxQQAAACAQdXNBAAAAAFPDdEEAAAAA2y1zQQAAAPDLcnRBAAAAkBXrdUEAAACwFxd3QQAAAKD3AndBAAAAwDRhdkEAAADgmSJ2QQAAACDwtHZBAAAAUA6xeEEAAABwO1V5QQAAAHDMBHtBAAAAAJYvfUEAAAAAAAD4fwAAAAAAAPh/AAAAAAAA+H8AAAAAAAD4fwAAAAAAAPh/AAAAAAAA+H8AAAAAAAD4fwAAAAAAAPh/",
          "dtype": "f8"
         },
         "xaxis": "x",
         "y": {
          "bdata": "AAAAQFqPb0EAAAAgDUZwQQAAAMBfIWlBAAAAwJ2kbUEAAAAgZkVwQQAAAKC1m3NBAAAAQEvIdUEAAABw75h2QQAAAAD+oXlBAAAAkOLrfUEAAABQqJF9QQAAADC7B4BBAAAAIBlJfkEAAAAwvaWAQQAAABhF2oFBAAAAKK4vhEEAAACo7ZeEQQAAAKAYHYNBAAAAuJ5LgEEAAABAfACCQQAAAMj6XIFBAAAAwLLBgEEAAADQyVCCQQAAALD0MoRBAAAAuO9FiEEAAAAAAAD4fwAAAAAAAPh/AAAAAAAA+H8AAAAAAAD4fwAAAAAAAPh/AAAAAAAA+H8AAAAAAAD4fwAAAAAAAPh/",
          "dtype": "f8"
         },
         "yaxis": "y"
        },
        {
         "alignmentgroup": "True",
         "hovertemplate": "STATE=CALIFORNIA<br>LOCAL_REVENUE=%{x}<extra></extra>",
         "legendgroup": "CALIFORNIA",
         "marker": {
          "color": "#636efa",
          "symbol": "circle"
         },
         "name": "CALIFORNIA",
         "notched": true,
         "offsetgroup": "CALIFORNIA",
         "showlegend": false,
         "type": "box",
         "x": {
          "bdata": "AAAAQPQlXUEAAABgkNZgQQAAAEDyKV9BAAAA4CKqZUEAAAAgqyhmQQAAAMC1RmdBAAAAQAUqaUEAAAAg/uNqQQAAAGBk/m1BAAAAABrRcEEAAAAgIcZxQQAAACAQdXNBAAAAAFPDdEEAAAAA2y1zQQAAAPDLcnRBAAAAkBXrdUEAAACwFxd3QQAAAKD3AndBAAAAwDRhdkEAAADgmSJ2QQAAACDwtHZBAAAAUA6xeEEAAABwO1V5QQAAAHDMBHtBAAAAAJYvfUEAAAAAAAD4fwAAAAAAAPh/AAAAAAAA+H8AAAAAAAD4fwAAAAAAAPh/AAAAAAAA+H8AAAAAAAD4fwAAAAAAAPh/",
          "dtype": "f8"
         },
         "xaxis": "x3",
         "yaxis": "y3"
        },
        {
         "alignmentgroup": "True",
         "hovertemplate": "STATE=CALIFORNIA<br>STATE_REVENUE=%{y}<extra></extra>",
         "legendgroup": "CALIFORNIA",
         "marker": {
          "color": "#636efa",
          "symbol": "circle"
         },
         "name": "CALIFORNIA",
         "notched": true,
         "offsetgroup": "CALIFORNIA",
         "showlegend": false,
         "type": "box",
         "xaxis": "x2",
         "y": {
          "bdata": "AAAAQFqPb0EAAAAgDUZwQQAAAMBfIWlBAAAAwJ2kbUEAAAAgZkVwQQAAAKC1m3NBAAAAQEvIdUEAAABw75h2QQAAAAD+oXlBAAAAkOLrfUEAAABQqJF9QQAAADC7B4BBAAAAIBlJfkEAAAAwvaWAQQAAABhF2oFBAAAAKK4vhEEAAACo7ZeEQQAAAKAYHYNBAAAAuJ5LgEEAAABAfACCQQAAAMj6XIFBAAAAwLLBgEEAAADQyVCCQQAAALD0MoRBAAAAuO9FiEEAAAAAAAD4fwAAAAAAAPh/AAAAAAAA+H8AAAAAAAD4fwAAAAAAAPh/AAAAAAAA+H8AAAAAAAD4fwAAAAAAAPh/",
          "dtype": "f8"
         },
         "yaxis": "y2"
        },
        {
         "hovertemplate": "<b>OLS trendline</b><br>STATE_REVENUE = 1.48043 * LOCAL_REVENUE + 2.77998e+06<br>R<sup>2</sup>=0.920627<br><br>STATE=CALIFORNIA<br>LOCAL_REVENUE=%{x}<br>STATE_REVENUE=%{y} <b>(trend)</b><extra></extra>",
         "legendgroup": "CALIFORNIA",
         "marker": {
          "color": "#636efa",
          "symbol": "circle"
         },
         "mode": "lines",
         "name": "CALIFORNIA",
         "showlegend": false,
         "type": "scatter",
         "x": {
          "bdata": "AAAAQPQlXUEAAABA8ilfQQAAAGCQ1mBBAAAA4CKqZUEAAAAgqyhmQQAAAMC1RmdBAAAAQAUqaUEAAAAg/uNqQQAAAGBk/m1BAAAAABrRcEEAAAAgIcZxQQAAAADbLXNBAAAAIBB1c0EAAADwy3J0QQAAAABTw3RBAAAAkBXrdUEAAADgmSJ2QQAAAMA0YXZBAAAAIPC0dkEAAACg9wJ3QQAAALAXF3dBAAAAUA6xeEEAAABwO1V5QQAAAHDMBHtBAAAAAJYvfUE=",
          "dtype": "f8"
         },
         "xaxis": "x",
         "y": {
          "bdata": "fWbzAdrgakGdtwXOy15sQa/3DVXjOm5B12ZxFwiwckFKlepHsQ1zQe6HAqNs4XNBlh55by1HdUFONFXUVI52QcUov1Nb2nhBEIwgmhiMe0GB45qQ1/Z8QUk5f/NjC39BSaKE2c50f0GhS4WcOHaAQdhqGSrUsYBB2gM5IMGMgUFTDnVG2bWBQdE+tpYw5IFBEWguWSsigkGmWwp97VuCQVewsx3TaoJBBmVrA0mag0GtdtyMzxOEQZ+HdhtDU4VBYrY6YuzthkE=",
          "dtype": "f8"
         },
         "yaxis": "y"
        },
        {
         "hovertemplate": "STATE=FLORIDA<br>LOCAL_REVENUE=%{x}<br>STATE_REVENUE=%{y}<extra></extra>",
         "legendgroup": "FLORIDA",
         "marker": {
          "color": "#EF553B",
          "symbol": "circle"
         },
         "mode": "markers",
         "name": "FLORIDA",
         "orientation": "v",
         "showlegend": true,
         "type": "scatter",
         "x": {
          "bdata": "AAAAgPIzU0EAAABADLNSQQAAAMCWF1RBAAAAwDQRVkEAAADAhihXQQAAAIAeOFhBAAAAQJKyWUEAAAAAkxtbQQAAAEBpD1xBAAAAQO+vXUEAAACAUWtfQQAAAGCa+2BBAAAAIG3MYkEAAADAQOFkQQAAAMCQUGhBAAAAYGhJbEEAAAAgz+1tQQAAAIBLI2xBAAAAAFdZakEAAADAkixoQQAAAIBel2dBAAAAAIdEZ0EAAABgt9lnQQAAAABXKWlBAAAAwP+6akEAAAAAAAD4fwAAAAAAAPh/AAAAAAAA+H8AAAAAAAD4fwAAAAAAAPh/AAAAAAAA+H8AAAAAAAD4fwAAAAAAAPh/",
          "dtype": "f8"
         },
         "xaxis": "x",
         "y": {
          "bdata": "AAAAQLuuVUEAAABAfw9VQQAAAEAUfldBAAAAQFHeWEEAAADAH3NZQQAAAED4yVpBAAAAwCOJXUEAAAAgzqFgQQAAACDvymBBAAAA4IplYUEAAADgUktgQQAAAKC+kmBBAAAAAHRMYkEAAACg6fViQQAAAIArfGNBAAAAgMYVZkEAAABAeZBmQQAAAEDEQWFBAAAAgAFYX0EAAADgR0xhQQAAAKAtmWBBAAAAQPkIYkEAAAAA4PNjQQAAAEDaVWRBAAAA4GvpZEEAAAAAAAD4fwAAAAAAAPh/AAAAAAAA+H8AAAAAAAD4fwAAAAAAAPh/AAAAAAAA+H8AAAAAAAD4fwAAAAAAAPh/",
          "dtype": "f8"
         },
         "yaxis": "y"
        },
        {
         "alignmentgroup": "True",
         "hovertemplate": "STATE=FLORIDA<br>LOCAL_REVENUE=%{x}<extra></extra>",
         "legendgroup": "FLORIDA",
         "marker": {
          "color": "#EF553B",
          "symbol": "circle"
         },
         "name": "FLORIDA",
         "notched": true,
         "offsetgroup": "FLORIDA",
         "showlegend": false,
         "type": "box",
         "x": {
          "bdata": "AAAAgPIzU0EAAABADLNSQQAAAMCWF1RBAAAAwDQRVkEAAADAhihXQQAAAIAeOFhBAAAAQJKyWUEAAAAAkxtbQQAAAEBpD1xBAAAAQO+vXUEAAACAUWtfQQAAAGCa+2BBAAAAIG3MYkEAAADAQOFkQQAAAMCQUGhBAAAAYGhJbEEAAAAgz+1tQQAAAIBLI2xBAAAAAFdZakEAAADAkixoQQAAAIBel2dBAAAAAIdEZ0EAAABgt9lnQQAAAABXKWlBAAAAwP+6akEAAAAAAAD4fwAAAAAAAPh/AAAAAAAA+H8AAAAAAAD4fwAAAAAAAPh/AAAAAAAA+H8AAAAAAAD4fwAAAAAAAPh/",
          "dtype": "f8"
         },
         "xaxis": "x3",
         "yaxis": "y3"
        },
        {
         "alignmentgroup": "True",
         "hovertemplate": "STATE=FLORIDA<br>STATE_REVENUE=%{y}<extra></extra>",
         "legendgroup": "FLORIDA",
         "marker": {
          "color": "#EF553B",
          "symbol": "circle"
         },
         "name": "FLORIDA",
         "notched": true,
         "offsetgroup": "FLORIDA",
         "showlegend": false,
         "type": "box",
         "xaxis": "x2",
         "y": {
          "bdata": "AAAAQLuuVUEAAABAfw9VQQAAAEAUfldBAAAAQFHeWEEAAADAH3NZQQAAAED4yVpBAAAAwCOJXUEAAAAgzqFgQQAAACDvymBBAAAA4IplYUEAAADgUktgQQAAAKC+kmBBAAAAAHRMYkEAAACg6fViQQAAAIArfGNBAAAAgMYVZkEAAABAeZBmQQAAAEDEQWFBAAAAgAFYX0EAAADgR0xhQQAAAKAtmWBBAAAAQPkIYkEAAAAA4PNjQQAAAEDaVWRBAAAA4GvpZEEAAAAAAAD4fwAAAAAAAPh/AAAAAAAA+H8AAAAAAAD4fwAAAAAAAPh/AAAAAAAA+H8AAAAAAAD4fwAAAAAAAPh/",
          "dtype": "f8"
         },
         "yaxis": "y2"
        },
        {
         "hovertemplate": "<b>OLS trendline</b><br>STATE_REVENUE = 0.417403 * LOCAL_REVENUE + 4.59798e+06<br>R<sup>2</sup>=0.718712<br><br>STATE=FLORIDA<br>LOCAL_REVENUE=%{x}<br>STATE_REVENUE=%{y} <b>(trend)</b><extra></extra>",
         "legendgroup": "FLORIDA",
         "marker": {
          "color": "#EF553B",
          "symbol": "circle"
         },
         "mode": "lines",
         "name": "FLORIDA",
         "showlegend": false,
         "type": "scatter",
         "x": {
          "bdata": "AAAAQAyzUkEAAACA8jNTQQAAAMCWF1RBAAAAwDQRVkEAAADAhihXQQAAAIAeOFhBAAAAQJKyWUEAAAAAkxtbQQAAAEBpD1xBAAAAQO+vXUEAAACAUWtfQQAAAGCa+2BBAAAAIG3MYkEAAADAQOFkQQAAAACHRGdBAAAAgF6XZ0EAAABgt9lnQQAAAMCSLGhBAAAAwJBQaEEAAAAAVylpQQAAAABXWWpBAAAAwP+6akEAAACASyNsQQAAAGBoSWxBAAAAIM/tbUE=",
          "dtype": "f8"
         },
         "xaxis": "x",
         "y": {
          "bdata": "7xHsBVdYWUEFqUaZJI5ZQapL80op7VlBlpBFITXAWkG+RNT2yzRbQerOChIppltBboa6qCBEXEFskCK1z9pcQdwXkPSWQF1BDMP2qHLuXUEDIZeIhKdeQfzscCOet19BAq083NOdYEHGI/grO3xhQbC3EQlhe2JBOJ00HfWdYkFWkc6nprliQWbYAVo83GJBL5EHTkLrYkEsaHnIvUVjQWg3VMWhxGNB4vgJKmXtY0EGaaapyINkQWSRszaxk2RBIfefSytDZUE=",
          "dtype": "f8"
         },
         "yaxis": "y"
        },
        {
         "hovertemplate": "STATE=TEXAS<br>LOCAL_REVENUE=%{x}<br>STATE_REVENUE=%{y}<extra></extra>",
         "legendgroup": "TEXAS",
         "marker": {
          "color": "#00cc96",
          "symbol": "circle"
         },
         "mode": "markers",
         "name": "TEXAS",
         "orientation": "v",
         "showlegend": true,
         "type": "scatter",
         "x": {
          "bdata": "AAAAgB0EYEEAAADASmJhQQAAACBJemJBAAAAYLeVY0EAAACgGZZkQQAAAODT+mVBAAAA4DnuZkEAAABgLgxpQQAAAECFx2pBAAAAYJOobUEAAAAAcyVwQQAAAGDhRHFBAAAAoA8wckEAAABgjrZzQQAAAGDP13VBAAAA4EbedkEAAACQN890QQAAAHC9YHZBAAAAkBuUdkEAAAAgSH12QQAAAJCJ7HZBAAAAgO7/d0EAAADAuGN5QQAAAMBAc3tBAAAAwO7rfEEAAAAAAAD4fwAAAAAAAPh/AAAAAAAA+H8AAAAAAAD4fwAAAAAAAPh/AAAAAAAA+H8AAAAAAAD4fwAAAAAAAPh/",
          "dtype": "f8"
         },
         "xaxis": "x",
         "y": {
          "bdata": "AAAAwMOVWUEAAAAgietiQQAAACBmWGBBAAAAYEehYEEAAADAHsJiQQAAACCo12JBAAAAwK5HZEEAAADAhJpkQQAAAADGyWdBAAAAIFszaEEAAACAwKloQQAAAIBbFWpBAAAAIOItaUEAAAAgK9RoQQAAAKBUwWlBAAAAgFZtbkEAAACQOABzQQAAADC2y3JBAAAA0CYGckEAAACg1bZyQQAAAIB04nJBAAAAYK3/cUEAAADwhY9zQQAAAFAA/3NBAAAAsCT8dEEAAAAAAAD4fwAAAAAAAPh/AAAAAAAA+H8AAAAAAAD4fwAAAAAAAPh/AAAAAAAA+H8AAAAAAAD4fwAAAAAAAPh/",
          "dtype": "f8"
         },
         "yaxis": "y"
        },
        {
         "alignmentgroup": "True",
         "hovertemplate": "STATE=TEXAS<br>LOCAL_REVENUE=%{x}<extra></extra>",
         "legendgroup": "TEXAS",
         "marker": {
          "color": "#00cc96",
          "symbol": "circle"
         },
         "name": "TEXAS",
         "notched": true,
         "offsetgroup": "TEXAS",
         "showlegend": false,
         "type": "box",
         "x": {
          "bdata": "AAAAgB0EYEEAAADASmJhQQAAACBJemJBAAAAYLeVY0EAAACgGZZkQQAAAODT+mVBAAAA4DnuZkEAAABgLgxpQQAAAECFx2pBAAAAYJOobUEAAAAAcyVwQQAAAGDhRHFBAAAAoA8wckEAAABgjrZzQQAAAGDP13VBAAAA4EbedkEAAACQN890QQAAAHC9YHZBAAAAkBuUdkEAAAAgSH12QQAAAJCJ7HZBAAAAgO7/d0EAAADAuGN5QQAAAMBAc3tBAAAAwO7rfEEAAAAAAAD4fwAAAAAAAPh/AAAAAAAA+H8AAAAAAAD4fwAAAAAAAPh/AAAAAAAA+H8AAAAAAAD4fwAAAAAAAPh/",
          "dtype": "f8"
         },
         "xaxis": "x3",
         "yaxis": "y3"
        },
        {
         "alignmentgroup": "True",
         "hovertemplate": "STATE=TEXAS<br>STATE_REVENUE=%{y}<extra></extra>",
         "legendgroup": "TEXAS",
         "marker": {
          "color": "#00cc96",
          "symbol": "circle"
         },
         "name": "TEXAS",
         "notched": true,
         "offsetgroup": "TEXAS",
         "showlegend": false,
         "type": "box",
         "xaxis": "x2",
         "y": {
          "bdata": "AAAAwMOVWUEAAAAgietiQQAAACBmWGBBAAAAYEehYEEAAADAHsJiQQAAACCo12JBAAAAwK5HZEEAAADAhJpkQQAAAADGyWdBAAAAIFszaEEAAACAwKloQQAAAIBbFWpBAAAAIOItaUEAAAAgK9RoQQAAAKBUwWlBAAAAgFZtbkEAAACQOABzQQAAADC2y3JBAAAA0CYGckEAAACg1bZyQQAAAIB04nJBAAAAYK3/cUEAAADwhY9zQQAAAFAA/3NBAAAAsCT8dEEAAAAAAAD4fwAAAAAAAPh/AAAAAAAA+H8AAAAAAAD4fwAAAAAAAPh/AAAAAAAA+H8AAAAAAAD4fwAAAAAAAPh/",
          "dtype": "f8"
         },
         "yaxis": "y2"
        },
        {
         "hovertemplate": "<b>OLS trendline</b><br>STATE_REVENUE = 0.657392 * LOCAL_REVENUE + 2.32014e+06<br>R<sup>2</sup>=0.887902<br><br>STATE=TEXAS<br>LOCAL_REVENUE=%{x}<br>STATE_REVENUE=%{y} <b>(trend)</b><extra></extra>",
         "legendgroup": "TEXAS",
         "marker": {
          "color": "#00cc96",
          "symbol": "circle"
         },
         "mode": "lines",
         "name": "TEXAS",
         "showlegend": false,
         "type": "scatter",
         "x": {
          "bdata": "AAAAgB0EYEEAAADASmJhQQAAACBJemJBAAAAYLeVY0EAAACgGZZkQQAAAODT+mVBAAAA4DnuZkEAAABgLgxpQQAAAECFx2pBAAAAYJOobUEAAAAAcyVwQQAAAGDhRHFBAAAAoA8wckEAAABgjrZzQQAAAJA3z3RBAAAAYM/XdUEAAABwvWB2QQAAACBIfXZBAAAAkBuUdkEAAADgRt52QQAAAJCJ7HZBAAAAgO7/d0EAAADAuGN5QQAAAMBAc3tBAAAAwO7rfEE=",
          "dtype": "f8"
         },
         "xaxis": "x",
         "y": {
          "bdata": "7Cuzq4foXUFyAbHI77RfQWm14quIkmBBlOSf39tMYUHA82JLZ/VhQTx2F8zp32JB95ch4ut/Y0Fq4dHBMuRkQRac4FylB2ZB9rFVFS7sZ0EWIWNreadpQQyLmFNiIWtBlFfEhZhWbEGmMvssA1huQZAo7FAFyW9B5KwJoXOScEGAJk7id+xwQROfpT07/3BBseFCqzwOcUH8KwHG/j5xQWEiprReSHFBORuCcmn9cUGW4w4tTudyQdFKYaEZQnRBdPMl7bk5dUE=",
          "dtype": "f8"
         },
         "yaxis": "y"
        }
       ],
       "layout": {
        "legend": {
         "title": {
          "text": "STATE"
         },
         "tracegroupgap": 0
        },
        "margin": {
         "t": 60
        },
        "template": {
         "data": {
          "bar": [
           {
            "error_x": {
             "color": "#2a3f5f"
            },
            "error_y": {
             "color": "#2a3f5f"
            },
            "marker": {
             "line": {
              "color": "#E5ECF6",
              "width": 0.5
             },
             "pattern": {
              "fillmode": "overlay",
              "size": 10,
              "solidity": 0.2
             }
            },
            "type": "bar"
           }
          ],
          "barpolar": [
           {
            "marker": {
             "line": {
              "color": "#E5ECF6",
              "width": 0.5
             },
             "pattern": {
              "fillmode": "overlay",
              "size": 10,
              "solidity": 0.2
             }
            },
            "type": "barpolar"
           }
          ],
          "carpet": [
           {
            "aaxis": {
             "endlinecolor": "#2a3f5f",
             "gridcolor": "white",
             "linecolor": "white",
             "minorgridcolor": "white",
             "startlinecolor": "#2a3f5f"
            },
            "baxis": {
             "endlinecolor": "#2a3f5f",
             "gridcolor": "white",
             "linecolor": "white",
             "minorgridcolor": "white",
             "startlinecolor": "#2a3f5f"
            },
            "type": "carpet"
           }
          ],
          "choropleth": [
           {
            "colorbar": {
             "outlinewidth": 0,
             "ticks": ""
            },
            "type": "choropleth"
           }
          ],
          "contour": [
           {
            "colorbar": {
             "outlinewidth": 0,
             "ticks": ""
            },
            "colorscale": [
             [
              0,
              "#0d0887"
             ],
             [
              0.1111111111111111,
              "#46039f"
             ],
             [
              0.2222222222222222,
              "#7201a8"
             ],
             [
              0.3333333333333333,
              "#9c179e"
             ],
             [
              0.4444444444444444,
              "#bd3786"
             ],
             [
              0.5555555555555556,
              "#d8576b"
             ],
             [
              0.6666666666666666,
              "#ed7953"
             ],
             [
              0.7777777777777778,
              "#fb9f3a"
             ],
             [
              0.8888888888888888,
              "#fdca26"
             ],
             [
              1,
              "#f0f921"
             ]
            ],
            "type": "contour"
           }
          ],
          "contourcarpet": [
           {
            "colorbar": {
             "outlinewidth": 0,
             "ticks": ""
            },
            "type": "contourcarpet"
           }
          ],
          "heatmap": [
           {
            "colorbar": {
             "outlinewidth": 0,
             "ticks": ""
            },
            "colorscale": [
             [
              0,
              "#0d0887"
             ],
             [
              0.1111111111111111,
              "#46039f"
             ],
             [
              0.2222222222222222,
              "#7201a8"
             ],
             [
              0.3333333333333333,
              "#9c179e"
             ],
             [
              0.4444444444444444,
              "#bd3786"
             ],
             [
              0.5555555555555556,
              "#d8576b"
             ],
             [
              0.6666666666666666,
              "#ed7953"
             ],
             [
              0.7777777777777778,
              "#fb9f3a"
             ],
             [
              0.8888888888888888,
              "#fdca26"
             ],
             [
              1,
              "#f0f921"
             ]
            ],
            "type": "heatmap"
           }
          ],
          "histogram": [
           {
            "marker": {
             "pattern": {
              "fillmode": "overlay",
              "size": 10,
              "solidity": 0.2
             }
            },
            "type": "histogram"
           }
          ],
          "histogram2d": [
           {
            "colorbar": {
             "outlinewidth": 0,
             "ticks": ""
            },
            "colorscale": [
             [
              0,
              "#0d0887"
             ],
             [
              0.1111111111111111,
              "#46039f"
             ],
             [
              0.2222222222222222,
              "#7201a8"
             ],
             [
              0.3333333333333333,
              "#9c179e"
             ],
             [
              0.4444444444444444,
              "#bd3786"
             ],
             [
              0.5555555555555556,
              "#d8576b"
             ],
             [
              0.6666666666666666,
              "#ed7953"
             ],
             [
              0.7777777777777778,
              "#fb9f3a"
             ],
             [
              0.8888888888888888,
              "#fdca26"
             ],
             [
              1,
              "#f0f921"
             ]
            ],
            "type": "histogram2d"
           }
          ],
          "histogram2dcontour": [
           {
            "colorbar": {
             "outlinewidth": 0,
             "ticks": ""
            },
            "colorscale": [
             [
              0,
              "#0d0887"
             ],
             [
              0.1111111111111111,
              "#46039f"
             ],
             [
              0.2222222222222222,
              "#7201a8"
             ],
             [
              0.3333333333333333,
              "#9c179e"
             ],
             [
              0.4444444444444444,
              "#bd3786"
             ],
             [
              0.5555555555555556,
              "#d8576b"
             ],
             [
              0.6666666666666666,
              "#ed7953"
             ],
             [
              0.7777777777777778,
              "#fb9f3a"
             ],
             [
              0.8888888888888888,
              "#fdca26"
             ],
             [
              1,
              "#f0f921"
             ]
            ],
            "type": "histogram2dcontour"
           }
          ],
          "mesh3d": [
           {
            "colorbar": {
             "outlinewidth": 0,
             "ticks": ""
            },
            "type": "mesh3d"
           }
          ],
          "parcoords": [
           {
            "line": {
             "colorbar": {
              "outlinewidth": 0,
              "ticks": ""
             }
            },
            "type": "parcoords"
           }
          ],
          "pie": [
           {
            "automargin": true,
            "type": "pie"
           }
          ],
          "scatter": [
           {
            "fillpattern": {
             "fillmode": "overlay",
             "size": 10,
             "solidity": 0.2
            },
            "type": "scatter"
           }
          ],
          "scatter3d": [
           {
            "line": {
             "colorbar": {
              "outlinewidth": 0,
              "ticks": ""
             }
            },
            "marker": {
             "colorbar": {
              "outlinewidth": 0,
              "ticks": ""
             }
            },
            "type": "scatter3d"
           }
          ],
          "scattercarpet": [
           {
            "marker": {
             "colorbar": {
              "outlinewidth": 0,
              "ticks": ""
             }
            },
            "type": "scattercarpet"
           }
          ],
          "scattergeo": [
           {
            "marker": {
             "colorbar": {
              "outlinewidth": 0,
              "ticks": ""
             }
            },
            "type": "scattergeo"
           }
          ],
          "scattergl": [
           {
            "marker": {
             "colorbar": {
              "outlinewidth": 0,
              "ticks": ""
             }
            },
            "type": "scattergl"
           }
          ],
          "scattermap": [
           {
            "marker": {
             "colorbar": {
              "outlinewidth": 0,
              "ticks": ""
             }
            },
            "type": "scattermap"
           }
          ],
          "scattermapbox": [
           {
            "marker": {
             "colorbar": {
              "outlinewidth": 0,
              "ticks": ""
             }
            },
            "type": "scattermapbox"
           }
          ],
          "scatterpolar": [
           {
            "marker": {
             "colorbar": {
              "outlinewidth": 0,
              "ticks": ""
             }
            },
            "type": "scatterpolar"
           }
          ],
          "scatterpolargl": [
           {
            "marker": {
             "colorbar": {
              "outlinewidth": 0,
              "ticks": ""
             }
            },
            "type": "scatterpolargl"
           }
          ],
          "scatterternary": [
           {
            "marker": {
             "colorbar": {
              "outlinewidth": 0,
              "ticks": ""
             }
            },
            "type": "scatterternary"
           }
          ],
          "surface": [
           {
            "colorbar": {
             "outlinewidth": 0,
             "ticks": ""
            },
            "colorscale": [
             [
              0,
              "#0d0887"
             ],
             [
              0.1111111111111111,
              "#46039f"
             ],
             [
              0.2222222222222222,
              "#7201a8"
             ],
             [
              0.3333333333333333,
              "#9c179e"
             ],
             [
              0.4444444444444444,
              "#bd3786"
             ],
             [
              0.5555555555555556,
              "#d8576b"
             ],
             [
              0.6666666666666666,
              "#ed7953"
             ],
             [
              0.7777777777777778,
              "#fb9f3a"
             ],
             [
              0.8888888888888888,
              "#fdca26"
             ],
             [
              1,
              "#f0f921"
             ]
            ],
            "type": "surface"
           }
          ],
          "table": [
           {
            "cells": {
             "fill": {
              "color": "#EBF0F8"
             },
             "line": {
              "color": "white"
             }
            },
            "header": {
             "fill": {
              "color": "#C8D4E3"
             },
             "line": {
              "color": "white"
             }
            },
            "type": "table"
           }
          ]
         },
         "layout": {
          "annotationdefaults": {
           "arrowcolor": "#2a3f5f",
           "arrowhead": 0,
           "arrowwidth": 1
          },
          "autotypenumbers": "strict",
          "coloraxis": {
           "colorbar": {
            "outlinewidth": 0,
            "ticks": ""
           }
          },
          "colorscale": {
           "diverging": [
            [
             0,
             "#8e0152"
            ],
            [
             0.1,
             "#c51b7d"
            ],
            [
             0.2,
             "#de77ae"
            ],
            [
             0.3,
             "#f1b6da"
            ],
            [
             0.4,
             "#fde0ef"
            ],
            [
             0.5,
             "#f7f7f7"
            ],
            [
             0.6,
             "#e6f5d0"
            ],
            [
             0.7,
             "#b8e186"
            ],
            [
             0.8,
             "#7fbc41"
            ],
            [
             0.9,
             "#4d9221"
            ],
            [
             1,
             "#276419"
            ]
           ],
           "sequential": [
            [
             0,
             "#0d0887"
            ],
            [
             0.1111111111111111,
             "#46039f"
            ],
            [
             0.2222222222222222,
             "#7201a8"
            ],
            [
             0.3333333333333333,
             "#9c179e"
            ],
            [
             0.4444444444444444,
             "#bd3786"
            ],
            [
             0.5555555555555556,
             "#d8576b"
            ],
            [
             0.6666666666666666,
             "#ed7953"
            ],
            [
             0.7777777777777778,
             "#fb9f3a"
            ],
            [
             0.8888888888888888,
             "#fdca26"
            ],
            [
             1,
             "#f0f921"
            ]
           ],
           "sequentialminus": [
            [
             0,
             "#0d0887"
            ],
            [
             0.1111111111111111,
             "#46039f"
            ],
            [
             0.2222222222222222,
             "#7201a8"
            ],
            [
             0.3333333333333333,
             "#9c179e"
            ],
            [
             0.4444444444444444,
             "#bd3786"
            ],
            [
             0.5555555555555556,
             "#d8576b"
            ],
            [
             0.6666666666666666,
             "#ed7953"
            ],
            [
             0.7777777777777778,
             "#fb9f3a"
            ],
            [
             0.8888888888888888,
             "#fdca26"
            ],
            [
             1,
             "#f0f921"
            ]
           ]
          },
          "colorway": [
           "#636efa",
           "#EF553B",
           "#00cc96",
           "#ab63fa",
           "#FFA15A",
           "#19d3f3",
           "#FF6692",
           "#B6E880",
           "#FF97FF",
           "#FECB52"
          ],
          "font": {
           "color": "#2a3f5f"
          },
          "geo": {
           "bgcolor": "white",
           "lakecolor": "white",
           "landcolor": "#E5ECF6",
           "showlakes": true,
           "showland": true,
           "subunitcolor": "white"
          },
          "hoverlabel": {
           "align": "left"
          },
          "hovermode": "closest",
          "mapbox": {
           "style": "light"
          },
          "paper_bgcolor": "white",
          "plot_bgcolor": "#E5ECF6",
          "polar": {
           "angularaxis": {
            "gridcolor": "white",
            "linecolor": "white",
            "ticks": ""
           },
           "bgcolor": "#E5ECF6",
           "radialaxis": {
            "gridcolor": "white",
            "linecolor": "white",
            "ticks": ""
           }
          },
          "scene": {
           "xaxis": {
            "backgroundcolor": "#E5ECF6",
            "gridcolor": "white",
            "gridwidth": 2,
            "linecolor": "white",
            "showbackground": true,
            "ticks": "",
            "zerolinecolor": "white"
           },
           "yaxis": {
            "backgroundcolor": "#E5ECF6",
            "gridcolor": "white",
            "gridwidth": 2,
            "linecolor": "white",
            "showbackground": true,
            "ticks": "",
            "zerolinecolor": "white"
           },
           "zaxis": {
            "backgroundcolor": "#E5ECF6",
            "gridcolor": "white",
            "gridwidth": 2,
            "linecolor": "white",
            "showbackground": true,
            "ticks": "",
            "zerolinecolor": "white"
           }
          },
          "shapedefaults": {
           "line": {
            "color": "#2a3f5f"
           }
          },
          "ternary": {
           "aaxis": {
            "gridcolor": "white",
            "linecolor": "white",
            "ticks": ""
           },
           "baxis": {
            "gridcolor": "white",
            "linecolor": "white",
            "ticks": ""
           },
           "bgcolor": "#E5ECF6",
           "caxis": {
            "gridcolor": "white",
            "linecolor": "white",
            "ticks": ""
           }
          },
          "title": {
           "x": 0.05
          },
          "xaxis": {
           "automargin": true,
           "gridcolor": "white",
           "linecolor": "white",
           "ticks": "",
           "title": {
            "standoff": 15
           },
           "zerolinecolor": "white",
           "zerolinewidth": 2
          },
          "yaxis": {
           "automargin": true,
           "gridcolor": "white",
           "linecolor": "white",
           "ticks": "",
           "title": {
            "standoff": 15
           },
           "zerolinecolor": "white",
           "zerolinewidth": 2
          }
         }
        },
        "xaxis": {
         "anchor": "y",
         "domain": [
          0,
          0.7363
         ],
         "title": {
          "text": "LOCAL_REVENUE"
         }
        },
        "xaxis2": {
         "anchor": "y2",
         "domain": [
          0.7413,
          1
         ],
         "matches": "x2",
         "showgrid": false,
         "showline": false,
         "showticklabels": false,
         "ticks": ""
        },
        "xaxis3": {
         "anchor": "y3",
         "domain": [
          0,
          0.7363
         ],
         "matches": "x",
         "showgrid": true,
         "showticklabels": false
        },
        "xaxis4": {
         "anchor": "y4",
         "domain": [
          0.7413,
          1
         ],
         "matches": "x2",
         "showgrid": false,
         "showline": false,
         "showticklabels": false,
         "ticks": ""
        },
        "yaxis": {
         "anchor": "x",
         "domain": [
          0,
          0.7326
         ],
         "title": {
          "text": "STATE_REVENUE"
         }
        },
        "yaxis2": {
         "anchor": "x2",
         "domain": [
          0,
          0.7326
         ],
         "matches": "y",
         "showgrid": true,
         "showticklabels": false
        },
        "yaxis3": {
         "anchor": "x3",
         "domain": [
          0.7426,
          1
         ],
         "matches": "y3",
         "showgrid": false,
         "showline": false,
         "showticklabels": false,
         "ticks": ""
        },
        "yaxis4": {
         "anchor": "x4",
         "domain": [
          0.7426,
          1
         ],
         "matches": "y3",
         "showgrid": true,
         "showline": false,
         "showticklabels": false,
         "ticks": ""
        }
       }
      }
     },
     "metadata": {},
     "output_type": "display_data"
    }
   ],
   "source": [
    "px.scatter(\n",
    "    education.query(\"STATE in ['CALIFORNIA', 'FLORIDA', 'TEXAS']\"),\n",
    "    x=\"LOCAL_REVENUE\",\n",
    "    y=\"STATE_REVENUE\",\n",
    "    # animation_frame=\"STATE\",\n",
    "    # text=\"STATE\",\n",
    "    color=\"STATE\",\n",
    "    trendline=\"ols\",\n",
    "    # trendline_scope=\"overall\",\n",
    "    marginal_x=\"box\",\n",
    "    marginal_y=\"box\",\n",
    "    # hover_name=\"STATE\"\n",
    ")"
   ]
  },
  {
   "cell_type": "code",
   "execution_count": 108,
   "metadata": {},
   "outputs": [
    {
     "data": {
      "application/vnd.plotly.v1+json": {
       "config": {
        "plotlyServerURL": "https://plot.ly"
       },
       "data": [
        {
         "hovertemplate": "YEAR=%{x}<br>TOTAL_REVENUE=%{y}<extra></extra>",
         "legendgroup": "",
         "line": {
          "color": "#636efa",
          "dash": "solid"
         },
         "marker": {
          "symbol": "circle"
         },
         "mode": "lines",
         "name": "",
         "orientation": "v",
         "showlegend": false,
         "type": "scatter",
         "x": {
          "bdata": "yQfKB8sHzAfNB84HzwfQB9EH0gfTB9QH1QfWB9cH2AfZB9oH2wfcB90H3gffB+AH",
          "dtype": "i2"
         },
         "xaxis": "x",
         "y": {
          "bdata": "AAAA/BP+rEEAAADaTOStQQAAAI1wpbBBAAAA0hp2sUEAAADL/ZayQQAAAFXPxbNBAAAAbwMktUEAAAAsRaC2QQAAAP7DV7hBAAAAyJ5suUEAAAAt3666QQAAAD8YC7xBAAAA0yudvUEAAAC1uJa/QQAAAH2I3MBBAACAoVqjwUEAAICM2+bBQQAAAK+e98FBAACAZYoqwkEAAIBlnwXCQQAAAIAvH8JBAACAgSa8wkEAAICSGnvDQQAAAB6vU8RB",
          "dtype": "f8"
         },
         "yaxis": "y"
        }
       ],
       "layout": {
        "legend": {
         "tracegroupgap": 0
        },
        "template": {
         "data": {
          "bar": [
           {
            "error_x": {
             "color": "#2a3f5f"
            },
            "error_y": {
             "color": "#2a3f5f"
            },
            "marker": {
             "line": {
              "color": "#E5ECF6",
              "width": 0.5
             },
             "pattern": {
              "fillmode": "overlay",
              "size": 10,
              "solidity": 0.2
             }
            },
            "type": "bar"
           }
          ],
          "barpolar": [
           {
            "marker": {
             "line": {
              "color": "#E5ECF6",
              "width": 0.5
             },
             "pattern": {
              "fillmode": "overlay",
              "size": 10,
              "solidity": 0.2
             }
            },
            "type": "barpolar"
           }
          ],
          "carpet": [
           {
            "aaxis": {
             "endlinecolor": "#2a3f5f",
             "gridcolor": "white",
             "linecolor": "white",
             "minorgridcolor": "white",
             "startlinecolor": "#2a3f5f"
            },
            "baxis": {
             "endlinecolor": "#2a3f5f",
             "gridcolor": "white",
             "linecolor": "white",
             "minorgridcolor": "white",
             "startlinecolor": "#2a3f5f"
            },
            "type": "carpet"
           }
          ],
          "choropleth": [
           {
            "colorbar": {
             "outlinewidth": 0,
             "ticks": ""
            },
            "type": "choropleth"
           }
          ],
          "contour": [
           {
            "colorbar": {
             "outlinewidth": 0,
             "ticks": ""
            },
            "colorscale": [
             [
              0,
              "#0d0887"
             ],
             [
              0.1111111111111111,
              "#46039f"
             ],
             [
              0.2222222222222222,
              "#7201a8"
             ],
             [
              0.3333333333333333,
              "#9c179e"
             ],
             [
              0.4444444444444444,
              "#bd3786"
             ],
             [
              0.5555555555555556,
              "#d8576b"
             ],
             [
              0.6666666666666666,
              "#ed7953"
             ],
             [
              0.7777777777777778,
              "#fb9f3a"
             ],
             [
              0.8888888888888888,
              "#fdca26"
             ],
             [
              1,
              "#f0f921"
             ]
            ],
            "type": "contour"
           }
          ],
          "contourcarpet": [
           {
            "colorbar": {
             "outlinewidth": 0,
             "ticks": ""
            },
            "type": "contourcarpet"
           }
          ],
          "heatmap": [
           {
            "colorbar": {
             "outlinewidth": 0,
             "ticks": ""
            },
            "colorscale": [
             [
              0,
              "#0d0887"
             ],
             [
              0.1111111111111111,
              "#46039f"
             ],
             [
              0.2222222222222222,
              "#7201a8"
             ],
             [
              0.3333333333333333,
              "#9c179e"
             ],
             [
              0.4444444444444444,
              "#bd3786"
             ],
             [
              0.5555555555555556,
              "#d8576b"
             ],
             [
              0.6666666666666666,
              "#ed7953"
             ],
             [
              0.7777777777777778,
              "#fb9f3a"
             ],
             [
              0.8888888888888888,
              "#fdca26"
             ],
             [
              1,
              "#f0f921"
             ]
            ],
            "type": "heatmap"
           }
          ],
          "histogram": [
           {
            "marker": {
             "pattern": {
              "fillmode": "overlay",
              "size": 10,
              "solidity": 0.2
             }
            },
            "type": "histogram"
           }
          ],
          "histogram2d": [
           {
            "colorbar": {
             "outlinewidth": 0,
             "ticks": ""
            },
            "colorscale": [
             [
              0,
              "#0d0887"
             ],
             [
              0.1111111111111111,
              "#46039f"
             ],
             [
              0.2222222222222222,
              "#7201a8"
             ],
             [
              0.3333333333333333,
              "#9c179e"
             ],
             [
              0.4444444444444444,
              "#bd3786"
             ],
             [
              0.5555555555555556,
              "#d8576b"
             ],
             [
              0.6666666666666666,
              "#ed7953"
             ],
             [
              0.7777777777777778,
              "#fb9f3a"
             ],
             [
              0.8888888888888888,
              "#fdca26"
             ],
             [
              1,
              "#f0f921"
             ]
            ],
            "type": "histogram2d"
           }
          ],
          "histogram2dcontour": [
           {
            "colorbar": {
             "outlinewidth": 0,
             "ticks": ""
            },
            "colorscale": [
             [
              0,
              "#0d0887"
             ],
             [
              0.1111111111111111,
              "#46039f"
             ],
             [
              0.2222222222222222,
              "#7201a8"
             ],
             [
              0.3333333333333333,
              "#9c179e"
             ],
             [
              0.4444444444444444,
              "#bd3786"
             ],
             [
              0.5555555555555556,
              "#d8576b"
             ],
             [
              0.6666666666666666,
              "#ed7953"
             ],
             [
              0.7777777777777778,
              "#fb9f3a"
             ],
             [
              0.8888888888888888,
              "#fdca26"
             ],
             [
              1,
              "#f0f921"
             ]
            ],
            "type": "histogram2dcontour"
           }
          ],
          "mesh3d": [
           {
            "colorbar": {
             "outlinewidth": 0,
             "ticks": ""
            },
            "type": "mesh3d"
           }
          ],
          "parcoords": [
           {
            "line": {
             "colorbar": {
              "outlinewidth": 0,
              "ticks": ""
             }
            },
            "type": "parcoords"
           }
          ],
          "pie": [
           {
            "automargin": true,
            "type": "pie"
           }
          ],
          "scatter": [
           {
            "fillpattern": {
             "fillmode": "overlay",
             "size": 10,
             "solidity": 0.2
            },
            "type": "scatter"
           }
          ],
          "scatter3d": [
           {
            "line": {
             "colorbar": {
              "outlinewidth": 0,
              "ticks": ""
             }
            },
            "marker": {
             "colorbar": {
              "outlinewidth": 0,
              "ticks": ""
             }
            },
            "type": "scatter3d"
           }
          ],
          "scattercarpet": [
           {
            "marker": {
             "colorbar": {
              "outlinewidth": 0,
              "ticks": ""
             }
            },
            "type": "scattercarpet"
           }
          ],
          "scattergeo": [
           {
            "marker": {
             "colorbar": {
              "outlinewidth": 0,
              "ticks": ""
             }
            },
            "type": "scattergeo"
           }
          ],
          "scattergl": [
           {
            "marker": {
             "colorbar": {
              "outlinewidth": 0,
              "ticks": ""
             }
            },
            "type": "scattergl"
           }
          ],
          "scattermap": [
           {
            "marker": {
             "colorbar": {
              "outlinewidth": 0,
              "ticks": ""
             }
            },
            "type": "scattermap"
           }
          ],
          "scattermapbox": [
           {
            "marker": {
             "colorbar": {
              "outlinewidth": 0,
              "ticks": ""
             }
            },
            "type": "scattermapbox"
           }
          ],
          "scatterpolar": [
           {
            "marker": {
             "colorbar": {
              "outlinewidth": 0,
              "ticks": ""
             }
            },
            "type": "scatterpolar"
           }
          ],
          "scatterpolargl": [
           {
            "marker": {
             "colorbar": {
              "outlinewidth": 0,
              "ticks": ""
             }
            },
            "type": "scatterpolargl"
           }
          ],
          "scatterternary": [
           {
            "marker": {
             "colorbar": {
              "outlinewidth": 0,
              "ticks": ""
             }
            },
            "type": "scatterternary"
           }
          ],
          "surface": [
           {
            "colorbar": {
             "outlinewidth": 0,
             "ticks": ""
            },
            "colorscale": [
             [
              0,
              "#0d0887"
             ],
             [
              0.1111111111111111,
              "#46039f"
             ],
             [
              0.2222222222222222,
              "#7201a8"
             ],
             [
              0.3333333333333333,
              "#9c179e"
             ],
             [
              0.4444444444444444,
              "#bd3786"
             ],
             [
              0.5555555555555556,
              "#d8576b"
             ],
             [
              0.6666666666666666,
              "#ed7953"
             ],
             [
              0.7777777777777778,
              "#fb9f3a"
             ],
             [
              0.8888888888888888,
              "#fdca26"
             ],
             [
              1,
              "#f0f921"
             ]
            ],
            "type": "surface"
           }
          ],
          "table": [
           {
            "cells": {
             "fill": {
              "color": "#EBF0F8"
             },
             "line": {
              "color": "white"
             }
            },
            "header": {
             "fill": {
              "color": "#C8D4E3"
             },
             "line": {
              "color": "white"
             }
            },
            "type": "table"
           }
          ]
         },
         "layout": {
          "annotationdefaults": {
           "arrowcolor": "#2a3f5f",
           "arrowhead": 0,
           "arrowwidth": 1
          },
          "autotypenumbers": "strict",
          "coloraxis": {
           "colorbar": {
            "outlinewidth": 0,
            "ticks": ""
           }
          },
          "colorscale": {
           "diverging": [
            [
             0,
             "#8e0152"
            ],
            [
             0.1,
             "#c51b7d"
            ],
            [
             0.2,
             "#de77ae"
            ],
            [
             0.3,
             "#f1b6da"
            ],
            [
             0.4,
             "#fde0ef"
            ],
            [
             0.5,
             "#f7f7f7"
            ],
            [
             0.6,
             "#e6f5d0"
            ],
            [
             0.7,
             "#b8e186"
            ],
            [
             0.8,
             "#7fbc41"
            ],
            [
             0.9,
             "#4d9221"
            ],
            [
             1,
             "#276419"
            ]
           ],
           "sequential": [
            [
             0,
             "#0d0887"
            ],
            [
             0.1111111111111111,
             "#46039f"
            ],
            [
             0.2222222222222222,
             "#7201a8"
            ],
            [
             0.3333333333333333,
             "#9c179e"
            ],
            [
             0.4444444444444444,
             "#bd3786"
            ],
            [
             0.5555555555555556,
             "#d8576b"
            ],
            [
             0.6666666666666666,
             "#ed7953"
            ],
            [
             0.7777777777777778,
             "#fb9f3a"
            ],
            [
             0.8888888888888888,
             "#fdca26"
            ],
            [
             1,
             "#f0f921"
            ]
           ],
           "sequentialminus": [
            [
             0,
             "#0d0887"
            ],
            [
             0.1111111111111111,
             "#46039f"
            ],
            [
             0.2222222222222222,
             "#7201a8"
            ],
            [
             0.3333333333333333,
             "#9c179e"
            ],
            [
             0.4444444444444444,
             "#bd3786"
            ],
            [
             0.5555555555555556,
             "#d8576b"
            ],
            [
             0.6666666666666666,
             "#ed7953"
            ],
            [
             0.7777777777777778,
             "#fb9f3a"
            ],
            [
             0.8888888888888888,
             "#fdca26"
            ],
            [
             1,
             "#f0f921"
            ]
           ]
          },
          "colorway": [
           "#636efa",
           "#EF553B",
           "#00cc96",
           "#ab63fa",
           "#FFA15A",
           "#19d3f3",
           "#FF6692",
           "#B6E880",
           "#FF97FF",
           "#FECB52"
          ],
          "font": {
           "color": "#2a3f5f"
          },
          "geo": {
           "bgcolor": "white",
           "lakecolor": "white",
           "landcolor": "#E5ECF6",
           "showlakes": true,
           "showland": true,
           "subunitcolor": "white"
          },
          "hoverlabel": {
           "align": "left"
          },
          "hovermode": "closest",
          "mapbox": {
           "style": "light"
          },
          "paper_bgcolor": "white",
          "plot_bgcolor": "#E5ECF6",
          "polar": {
           "angularaxis": {
            "gridcolor": "white",
            "linecolor": "white",
            "ticks": ""
           },
           "bgcolor": "#E5ECF6",
           "radialaxis": {
            "gridcolor": "white",
            "linecolor": "white",
            "ticks": ""
           }
          },
          "scene": {
           "xaxis": {
            "backgroundcolor": "#E5ECF6",
            "gridcolor": "white",
            "gridwidth": 2,
            "linecolor": "white",
            "showbackground": true,
            "ticks": "",
            "zerolinecolor": "white"
           },
           "yaxis": {
            "backgroundcolor": "#E5ECF6",
            "gridcolor": "white",
            "gridwidth": 2,
            "linecolor": "white",
            "showbackground": true,
            "ticks": "",
            "zerolinecolor": "white"
           },
           "zaxis": {
            "backgroundcolor": "#E5ECF6",
            "gridcolor": "white",
            "gridwidth": 2,
            "linecolor": "white",
            "showbackground": true,
            "ticks": "",
            "zerolinecolor": "white"
           }
          },
          "shapedefaults": {
           "line": {
            "color": "#2a3f5f"
           }
          },
          "ternary": {
           "aaxis": {
            "gridcolor": "white",
            "linecolor": "white",
            "ticks": ""
           },
           "baxis": {
            "gridcolor": "white",
            "linecolor": "white",
            "ticks": ""
           },
           "bgcolor": "#E5ECF6",
           "caxis": {
            "gridcolor": "white",
            "linecolor": "white",
            "ticks": ""
           }
          },
          "title": {
           "x": 0.05
          },
          "xaxis": {
           "automargin": true,
           "gridcolor": "white",
           "linecolor": "white",
           "ticks": "",
           "title": {
            "standoff": 15
           },
           "zerolinecolor": "white",
           "zerolinewidth": 2
          },
          "yaxis": {
           "automargin": true,
           "gridcolor": "white",
           "linecolor": "white",
           "ticks": "",
           "title": {
            "standoff": 15
           },
           "zerolinecolor": "white",
           "zerolinewidth": 2
          }
         }
        },
        "title": {
         "text": "EDUCATION REVENUE OVER TIME"
        },
        "xaxis": {
         "anchor": "y",
         "domain": [
          0,
          1
         ],
         "title": {
          "text": "YEAR"
         }
        },
        "yaxis": {
         "anchor": "x",
         "domain": [
          0,
          1
         ],
         "title": {
          "text": "TOTAL_REVENUE"
         }
        }
       }
      }
     },
     "metadata": {},
     "output_type": "display_data"
    }
   ],
   "source": [
    "px.line(\n",
    "    education\n",
    "    .query(\"1992 < YEAR < 2017\")\n",
    "    .groupby(\"YEAR\", as_index=False).sum(),\n",
    "    x=\"YEAR\",\n",
    "    y=\"TOTAL_REVENUE\",\n",
    "    # line_dash=\"above_avg_math8\",\n",
    "    # line_group=\"above_avg_math8\",\n",
    "    title=\"EDUCATION REVENUE OVER TIME\"\n",
    ")"
   ]
  },
  {
   "cell_type": "code",
   "execution_count": 109,
   "metadata": {},
   "outputs": [
    {
     "data": {
      "application/vnd.plotly.v1+json": {
       "config": {
        "plotlyServerURL": "https://plot.ly"
       },
       "data": [
        {
         "hovertemplate": "STATE=CALIFORNIA<br>YEAR=%{x}<br>TOTAL_REVENUE=%{y}<extra></extra>",
         "legendgroup": "CALIFORNIA",
         "line": {
          "color": "Grey",
          "dash": "solid"
         },
         "marker": {
          "symbol": "circle"
         },
         "mode": "lines",
         "name": "CALIFORNIA",
         "orientation": "v",
         "showlegend": true,
         "type": "scatter",
         "x": {
          "bdata": "yQfKB8sHzAfNB84HzwfQB9EH0gfTB9QH1QfWB9cH2AfZB9oH2wfcB90H3gffB+AH",
          "dtype": "i2"
         },
         "xaxis": "x",
         "y": {
          "bdata": "AAAAoIS+ekEAAADQ3Fp2QQAAAGAhJXxBAAAAUHLVfUEAAACwhvuAQQAAAFAVr4JBAAAA2Oi8g0EAAAB46zuGQQAAAHj/aIlBAAAAgIwYikEAAAB4vYWMQQAAALAIsIxBAAAAqFSljUEAAABgnJ2PQQAAACAVSpFBAAAAwN3KkUEAAADAF6KRQQAAALwgD5BBAAAAzKXqkEEAAAAgbXSQQQAAAJBma5BBAAAAGEhCkUEAAACo4aeSQQAAALhjRZVB",
          "dtype": "f8"
         },
         "yaxis": "y"
        },
        {
         "hovertemplate": "STATE=MASSACHUSETTS<br>YEAR=%{x}<br>TOTAL_REVENUE=%{y}<extra></extra>",
         "legendgroup": "MASSACHUSETTS",
         "line": {
          "color": "#EF553B",
          "dash": "solid"
         },
         "marker": {
          "symbol": "circle"
         },
         "mode": "lines",
         "name": "MASSACHUSETTS",
         "orientation": "v",
         "showlegend": true,
         "type": "scatter",
         "x": {
          "bdata": "yQfKB8sHzAfNB84HzwfQB9EH0gfTB9QH1QfWB9cH2AfZB9oH2wfcB90H3gffB+AH",
          "dtype": "i2"
         },
         "xaxis": "x",
         "y": {
          "bdata": "AAAAACNaV0EAAABAgXRYQQAAAAAu81tBAAAAQKcyW0EAAAAA1u9cQQAAAEBoeV1BAAAAAIb/X0EAAADgOQ1iQQAAACBKPmRBAAAAoBdlZUEAAAAAExxmQQAAACCU2WZBAAAA4BLAaEEAAABALgJrQQAAACAMe2tBAAAAQE3pa0EAAADAvC1tQQAAAGAKdWxBAAAAIOldbUEAAAAAABFuQQAAAOCLvG5BAAAAgPatb0EAAAAQxjJwQQAAAAC6rHBB",
          "dtype": "f8"
         },
         "yaxis": "y"
        }
       ],
       "layout": {
        "legend": {
         "title": {
          "text": "STATE"
         },
         "tracegroupgap": 0
        },
        "template": {
         "data": {
          "bar": [
           {
            "error_x": {
             "color": "#2a3f5f"
            },
            "error_y": {
             "color": "#2a3f5f"
            },
            "marker": {
             "line": {
              "color": "#E5ECF6",
              "width": 0.5
             },
             "pattern": {
              "fillmode": "overlay",
              "size": 10,
              "solidity": 0.2
             }
            },
            "type": "bar"
           }
          ],
          "barpolar": [
           {
            "marker": {
             "line": {
              "color": "#E5ECF6",
              "width": 0.5
             },
             "pattern": {
              "fillmode": "overlay",
              "size": 10,
              "solidity": 0.2
             }
            },
            "type": "barpolar"
           }
          ],
          "carpet": [
           {
            "aaxis": {
             "endlinecolor": "#2a3f5f",
             "gridcolor": "white",
             "linecolor": "white",
             "minorgridcolor": "white",
             "startlinecolor": "#2a3f5f"
            },
            "baxis": {
             "endlinecolor": "#2a3f5f",
             "gridcolor": "white",
             "linecolor": "white",
             "minorgridcolor": "white",
             "startlinecolor": "#2a3f5f"
            },
            "type": "carpet"
           }
          ],
          "choropleth": [
           {
            "colorbar": {
             "outlinewidth": 0,
             "ticks": ""
            },
            "type": "choropleth"
           }
          ],
          "contour": [
           {
            "colorbar": {
             "outlinewidth": 0,
             "ticks": ""
            },
            "colorscale": [
             [
              0,
              "#0d0887"
             ],
             [
              0.1111111111111111,
              "#46039f"
             ],
             [
              0.2222222222222222,
              "#7201a8"
             ],
             [
              0.3333333333333333,
              "#9c179e"
             ],
             [
              0.4444444444444444,
              "#bd3786"
             ],
             [
              0.5555555555555556,
              "#d8576b"
             ],
             [
              0.6666666666666666,
              "#ed7953"
             ],
             [
              0.7777777777777778,
              "#fb9f3a"
             ],
             [
              0.8888888888888888,
              "#fdca26"
             ],
             [
              1,
              "#f0f921"
             ]
            ],
            "type": "contour"
           }
          ],
          "contourcarpet": [
           {
            "colorbar": {
             "outlinewidth": 0,
             "ticks": ""
            },
            "type": "contourcarpet"
           }
          ],
          "heatmap": [
           {
            "colorbar": {
             "outlinewidth": 0,
             "ticks": ""
            },
            "colorscale": [
             [
              0,
              "#0d0887"
             ],
             [
              0.1111111111111111,
              "#46039f"
             ],
             [
              0.2222222222222222,
              "#7201a8"
             ],
             [
              0.3333333333333333,
              "#9c179e"
             ],
             [
              0.4444444444444444,
              "#bd3786"
             ],
             [
              0.5555555555555556,
              "#d8576b"
             ],
             [
              0.6666666666666666,
              "#ed7953"
             ],
             [
              0.7777777777777778,
              "#fb9f3a"
             ],
             [
              0.8888888888888888,
              "#fdca26"
             ],
             [
              1,
              "#f0f921"
             ]
            ],
            "type": "heatmap"
           }
          ],
          "histogram": [
           {
            "marker": {
             "pattern": {
              "fillmode": "overlay",
              "size": 10,
              "solidity": 0.2
             }
            },
            "type": "histogram"
           }
          ],
          "histogram2d": [
           {
            "colorbar": {
             "outlinewidth": 0,
             "ticks": ""
            },
            "colorscale": [
             [
              0,
              "#0d0887"
             ],
             [
              0.1111111111111111,
              "#46039f"
             ],
             [
              0.2222222222222222,
              "#7201a8"
             ],
             [
              0.3333333333333333,
              "#9c179e"
             ],
             [
              0.4444444444444444,
              "#bd3786"
             ],
             [
              0.5555555555555556,
              "#d8576b"
             ],
             [
              0.6666666666666666,
              "#ed7953"
             ],
             [
              0.7777777777777778,
              "#fb9f3a"
             ],
             [
              0.8888888888888888,
              "#fdca26"
             ],
             [
              1,
              "#f0f921"
             ]
            ],
            "type": "histogram2d"
           }
          ],
          "histogram2dcontour": [
           {
            "colorbar": {
             "outlinewidth": 0,
             "ticks": ""
            },
            "colorscale": [
             [
              0,
              "#0d0887"
             ],
             [
              0.1111111111111111,
              "#46039f"
             ],
             [
              0.2222222222222222,
              "#7201a8"
             ],
             [
              0.3333333333333333,
              "#9c179e"
             ],
             [
              0.4444444444444444,
              "#bd3786"
             ],
             [
              0.5555555555555556,
              "#d8576b"
             ],
             [
              0.6666666666666666,
              "#ed7953"
             ],
             [
              0.7777777777777778,
              "#fb9f3a"
             ],
             [
              0.8888888888888888,
              "#fdca26"
             ],
             [
              1,
              "#f0f921"
             ]
            ],
            "type": "histogram2dcontour"
           }
          ],
          "mesh3d": [
           {
            "colorbar": {
             "outlinewidth": 0,
             "ticks": ""
            },
            "type": "mesh3d"
           }
          ],
          "parcoords": [
           {
            "line": {
             "colorbar": {
              "outlinewidth": 0,
              "ticks": ""
             }
            },
            "type": "parcoords"
           }
          ],
          "pie": [
           {
            "automargin": true,
            "type": "pie"
           }
          ],
          "scatter": [
           {
            "fillpattern": {
             "fillmode": "overlay",
             "size": 10,
             "solidity": 0.2
            },
            "type": "scatter"
           }
          ],
          "scatter3d": [
           {
            "line": {
             "colorbar": {
              "outlinewidth": 0,
              "ticks": ""
             }
            },
            "marker": {
             "colorbar": {
              "outlinewidth": 0,
              "ticks": ""
             }
            },
            "type": "scatter3d"
           }
          ],
          "scattercarpet": [
           {
            "marker": {
             "colorbar": {
              "outlinewidth": 0,
              "ticks": ""
             }
            },
            "type": "scattercarpet"
           }
          ],
          "scattergeo": [
           {
            "marker": {
             "colorbar": {
              "outlinewidth": 0,
              "ticks": ""
             }
            },
            "type": "scattergeo"
           }
          ],
          "scattergl": [
           {
            "marker": {
             "colorbar": {
              "outlinewidth": 0,
              "ticks": ""
             }
            },
            "type": "scattergl"
           }
          ],
          "scattermap": [
           {
            "marker": {
             "colorbar": {
              "outlinewidth": 0,
              "ticks": ""
             }
            },
            "type": "scattermap"
           }
          ],
          "scattermapbox": [
           {
            "marker": {
             "colorbar": {
              "outlinewidth": 0,
              "ticks": ""
             }
            },
            "type": "scattermapbox"
           }
          ],
          "scatterpolar": [
           {
            "marker": {
             "colorbar": {
              "outlinewidth": 0,
              "ticks": ""
             }
            },
            "type": "scatterpolar"
           }
          ],
          "scatterpolargl": [
           {
            "marker": {
             "colorbar": {
              "outlinewidth": 0,
              "ticks": ""
             }
            },
            "type": "scatterpolargl"
           }
          ],
          "scatterternary": [
           {
            "marker": {
             "colorbar": {
              "outlinewidth": 0,
              "ticks": ""
             }
            },
            "type": "scatterternary"
           }
          ],
          "surface": [
           {
            "colorbar": {
             "outlinewidth": 0,
             "ticks": ""
            },
            "colorscale": [
             [
              0,
              "#0d0887"
             ],
             [
              0.1111111111111111,
              "#46039f"
             ],
             [
              0.2222222222222222,
              "#7201a8"
             ],
             [
              0.3333333333333333,
              "#9c179e"
             ],
             [
              0.4444444444444444,
              "#bd3786"
             ],
             [
              0.5555555555555556,
              "#d8576b"
             ],
             [
              0.6666666666666666,
              "#ed7953"
             ],
             [
              0.7777777777777778,
              "#fb9f3a"
             ],
             [
              0.8888888888888888,
              "#fdca26"
             ],
             [
              1,
              "#f0f921"
             ]
            ],
            "type": "surface"
           }
          ],
          "table": [
           {
            "cells": {
             "fill": {
              "color": "#EBF0F8"
             },
             "line": {
              "color": "white"
             }
            },
            "header": {
             "fill": {
              "color": "#C8D4E3"
             },
             "line": {
              "color": "white"
             }
            },
            "type": "table"
           }
          ]
         },
         "layout": {
          "annotationdefaults": {
           "arrowcolor": "#2a3f5f",
           "arrowhead": 0,
           "arrowwidth": 1
          },
          "autotypenumbers": "strict",
          "coloraxis": {
           "colorbar": {
            "outlinewidth": 0,
            "ticks": ""
           }
          },
          "colorscale": {
           "diverging": [
            [
             0,
             "#8e0152"
            ],
            [
             0.1,
             "#c51b7d"
            ],
            [
             0.2,
             "#de77ae"
            ],
            [
             0.3,
             "#f1b6da"
            ],
            [
             0.4,
             "#fde0ef"
            ],
            [
             0.5,
             "#f7f7f7"
            ],
            [
             0.6,
             "#e6f5d0"
            ],
            [
             0.7,
             "#b8e186"
            ],
            [
             0.8,
             "#7fbc41"
            ],
            [
             0.9,
             "#4d9221"
            ],
            [
             1,
             "#276419"
            ]
           ],
           "sequential": [
            [
             0,
             "#0d0887"
            ],
            [
             0.1111111111111111,
             "#46039f"
            ],
            [
             0.2222222222222222,
             "#7201a8"
            ],
            [
             0.3333333333333333,
             "#9c179e"
            ],
            [
             0.4444444444444444,
             "#bd3786"
            ],
            [
             0.5555555555555556,
             "#d8576b"
            ],
            [
             0.6666666666666666,
             "#ed7953"
            ],
            [
             0.7777777777777778,
             "#fb9f3a"
            ],
            [
             0.8888888888888888,
             "#fdca26"
            ],
            [
             1,
             "#f0f921"
            ]
           ],
           "sequentialminus": [
            [
             0,
             "#0d0887"
            ],
            [
             0.1111111111111111,
             "#46039f"
            ],
            [
             0.2222222222222222,
             "#7201a8"
            ],
            [
             0.3333333333333333,
             "#9c179e"
            ],
            [
             0.4444444444444444,
             "#bd3786"
            ],
            [
             0.5555555555555556,
             "#d8576b"
            ],
            [
             0.6666666666666666,
             "#ed7953"
            ],
            [
             0.7777777777777778,
             "#fb9f3a"
            ],
            [
             0.8888888888888888,
             "#fdca26"
            ],
            [
             1,
             "#f0f921"
            ]
           ]
          },
          "colorway": [
           "#636efa",
           "#EF553B",
           "#00cc96",
           "#ab63fa",
           "#FFA15A",
           "#19d3f3",
           "#FF6692",
           "#B6E880",
           "#FF97FF",
           "#FECB52"
          ],
          "font": {
           "color": "#2a3f5f"
          },
          "geo": {
           "bgcolor": "white",
           "lakecolor": "white",
           "landcolor": "#E5ECF6",
           "showlakes": true,
           "showland": true,
           "subunitcolor": "white"
          },
          "hoverlabel": {
           "align": "left"
          },
          "hovermode": "closest",
          "mapbox": {
           "style": "light"
          },
          "paper_bgcolor": "white",
          "plot_bgcolor": "#E5ECF6",
          "polar": {
           "angularaxis": {
            "gridcolor": "white",
            "linecolor": "white",
            "ticks": ""
           },
           "bgcolor": "#E5ECF6",
           "radialaxis": {
            "gridcolor": "white",
            "linecolor": "white",
            "ticks": ""
           }
          },
          "scene": {
           "xaxis": {
            "backgroundcolor": "#E5ECF6",
            "gridcolor": "white",
            "gridwidth": 2,
            "linecolor": "white",
            "showbackground": true,
            "ticks": "",
            "zerolinecolor": "white"
           },
           "yaxis": {
            "backgroundcolor": "#E5ECF6",
            "gridcolor": "white",
            "gridwidth": 2,
            "linecolor": "white",
            "showbackground": true,
            "ticks": "",
            "zerolinecolor": "white"
           },
           "zaxis": {
            "backgroundcolor": "#E5ECF6",
            "gridcolor": "white",
            "gridwidth": 2,
            "linecolor": "white",
            "showbackground": true,
            "ticks": "",
            "zerolinecolor": "white"
           }
          },
          "shapedefaults": {
           "line": {
            "color": "#2a3f5f"
           }
          },
          "ternary": {
           "aaxis": {
            "gridcolor": "white",
            "linecolor": "white",
            "ticks": ""
           },
           "baxis": {
            "gridcolor": "white",
            "linecolor": "white",
            "ticks": ""
           },
           "bgcolor": "#E5ECF6",
           "caxis": {
            "gridcolor": "white",
            "linecolor": "white",
            "ticks": ""
           }
          },
          "title": {
           "x": 0.05
          },
          "xaxis": {
           "automargin": true,
           "gridcolor": "white",
           "linecolor": "white",
           "ticks": "",
           "title": {
            "standoff": 15
           },
           "zerolinecolor": "white",
           "zerolinewidth": 2
          },
          "yaxis": {
           "automargin": true,
           "gridcolor": "white",
           "linecolor": "white",
           "ticks": "",
           "title": {
            "standoff": 15
           },
           "zerolinecolor": "white",
           "zerolinewidth": 2
          }
         }
        },
        "title": {
         "text": "EDUCATION REVENUE OVER TIME"
        },
        "xaxis": {
         "anchor": "y",
         "domain": [
          0,
          1
         ],
         "title": {
          "text": "YEAR"
         }
        },
        "yaxis": {
         "anchor": "x",
         "domain": [
          0,
          1
         ],
         "title": {
          "text": "TOTAL_REVENUE"
         }
        }
       }
      }
     },
     "metadata": {},
     "output_type": "display_data"
    }
   ],
   "source": [
    "px.line(\n",
    "    education\n",
    "    .query(\"1992 < YEAR < 2017 and STATE in ['CALIFORNIA','MASSACHUSETTS']\")\n",
    "    .groupby([\"YEAR\",\"STATE\"], as_index=False).sum(),\n",
    "    x=\"YEAR\",\n",
    "    y=\"TOTAL_REVENUE\",\n",
    "    color=\"STATE\",\n",
    "    color_discrete_map={\n",
    "        \"CALIFORNIA\": \"Grey\"\n",
    "    },\n",
    "    # line_dash=\"above_avg_math8\",\n",
    "    # line_group=\"above_avg_math8\",\n",
    "    title=\"EDUCATION REVENUE OVER TIME\"\n",
    ")"
   ]
  },
  {
   "cell_type": "code",
   "execution_count": 110,
   "metadata": {},
   "outputs": [
    {
     "data": {
      "application/vnd.plotly.v1+json": {
       "config": {
        "plotlyServerURL": "https://plot.ly"
       },
       "data": [
        {
         "hovertemplate": "STATE=%{x}<br>Expenditure Per Student (Thousands)=%{y}<extra></extra>",
         "legendgroup": "",
         "marker": {
          "color": "#636efa",
          "pattern": {
           "shape": ""
          }
         },
         "name": "",
         "orientation": "v",
         "showlegend": false,
         "textposition": "auto",
         "type": "bar",
         "x": [
          "WASHINGTON",
          "CALIFORNIA",
          "OREGON",
          "CALIFORNIA",
          "WASHINGTON",
          "OREGON",
          "CALIFORNIA",
          "CALIFORNIA",
          "WASHINGTON",
          "WASHINGTON",
          "WASHINGTON",
          "CALIFORNIA",
          "OREGON",
          "CALIFORNIA",
          "WASHINGTON",
          "WASHINGTON",
          "WASHINGTON",
          "CALIFORNIA",
          "WASHINGTON",
          "OREGON",
          "CALIFORNIA",
          "OREGON",
          "OREGON",
          "CALIFORNIA",
          "CALIFORNIA",
          "OREGON",
          "OREGON",
          "CALIFORNIA",
          "ALABAMA",
          "OREGON",
          "ALABAMA",
          "WASHINGTON",
          "ALABAMA",
          "CALIFORNIA",
          "ALABAMA",
          "OREGON",
          "ALABAMA",
          "ALABAMA",
          "ALABAMA",
          "OREGON",
          "ALABAMA",
          "OREGON",
          "CALIFORNIA",
          "ALABAMA",
          "ALABAMA",
          "WASHINGTON",
          "OREGON",
          "CALIFORNIA",
          "WASHINGTON",
          "OREGON",
          "OREGON",
          "CALIFORNIA",
          "ALABAMA",
          "WASHINGTON",
          "WASHINGTON",
          "OREGON",
          "CALIFORNIA",
          "WASHINGTON",
          "OREGON",
          "ALABAMA",
          "WASHINGTON",
          "WASHINGTON",
          "OREGON",
          "ALABAMA",
          "CALIFORNIA",
          "WASHINGTON",
          "OREGON",
          "ALABAMA",
          "WASHINGTON",
          "OREGON",
          "ALABAMA",
          "ALABAMA",
          "WASHINGTON",
          "CALIFORNIA",
          "ALABAMA",
          "WASHINGTON",
          "OREGON",
          "WASHINGTON",
          "CALIFORNIA",
          "WASHINGTON",
          "WASHINGTON",
          "ALABAMA",
          "OREGON",
          "OREGON",
          "OREGON",
          "WASHINGTON",
          "CALIFORNIA",
          "OREGON",
          "ALABAMA",
          "CALIFORNIA",
          "CALIFORNIA",
          "ALABAMA",
          "CALIFORNIA",
          "CALIFORNIA",
          "ALABAMA",
          "ALABAMA",
          "CALIFORNIA",
          "ALABAMA",
          "ALABAMA",
          "ALABAMA",
          "ALABAMA",
          "ALABAMA",
          "ALABAMA",
          "ALABAMA",
          "ALABAMA",
          "ALABAMA",
          "ALABAMA",
          "CALIFORNIA",
          "CALIFORNIA",
          "CALIFORNIA",
          "CALIFORNIA",
          "CALIFORNIA",
          "CALIFORNIA",
          "CALIFORNIA",
          "OREGON",
          "OREGON",
          "OREGON",
          "OREGON",
          "OREGON",
          "OREGON",
          "OREGON",
          "WASHINGTON",
          "WASHINGTON",
          "WASHINGTON",
          "WASHINGTON",
          "WASHINGTON",
          "WASHINGTON",
          "WASHINGTON",
          "ALABAMA",
          "CALIFORNIA",
          "OREGON",
          "WASHINGTON"
         ],
         "xaxis": "x",
         "y": {
          "bdata": "l00lmLCwK0DdFIgj6QsrQLj/faR16ilAarhbLLkrKUBYxuT95xMpQDdi2/ojVChA6ktDt508KEAWTvB2st8nQAGNOzcc2ydADAREXj2lJ0CXWjlieS0nQEJDO6I8FidA295pJdwKJ0APK8CkQ/kmQGHE0zg32SZA8bedGdHRJkB2U7W2W6YmQAB8xjg1piZAJDxVT4mFJkDbdyaYyGsmQODretf6SCZAflxsHJNFJkBdx7hXrzwmQAiDyL1+NyZAG1uDZ2EXJkC4HcmLEH4lQA/PJvcHdyVAklQXkQB0JUCliPKtRQwlQDYzZBd3ASVAMM48I0bfJEDvUIjHz7wkQNkfEX1jsiRAkF1tsRSRJEDG3+SIhGQkQAqjox0iRiRAGJq03WA+JEDDh04s/iskQK8Rn2yiESRApzJXXBPtI0C2hMVXUegjQL8JmBxwhiNADhPTv4BzI0AUTqFu1mUjQBBENKWbXyNAPgRYBmpQI0BEJZSz7SUjQOxPCAOooSJAlARozG83IkAZYEH0EhAiQAwRUrRL+iFA90ZRFBTGIUAKdMkqSLohQIBx0WuiqiFAY0h//508IUDmOZ9cVRohQP0BApQnrCBAN6ZyVj57IEDUswqUrxogQDluclVh1x9A8wWCdArQH0AVpMGHchkfQK721RAcnx5A5TRiyNfbHUBR79RNQdodQJBMk8Z92B1A3TsjDDgIHUDCjiLvnvwcQDWtnd8V5xxA3j8HX/UFHECye4pclNkbQGuJu1TQmBtAvlBC/sZoG0AbxlxqkwwbQNufILyDCxtASKY2vIIAG0AT4rIMHBoaQGFEuxjX7RlAMSAM4my1GUCehZHmonEZQGsXlbybShlAQ0ZK4KX2GED8JCURqqsYQJLcdPHzdRhA1BrYfgliGEC4d3PTa+sXQDRsNrBwVhdADMliZcK5FkCxYTaXibMWQNxokgTLMxZAI+dLuMS+FUDiwbhdZSkVQHyadu59GxVAIOmoLHyoFED8N8q91xoTQJa4KaYW+hFAZ0/l59oFEUCaLZuHedoQQGMJCby33g5AnUo2S4wEDUAAAAAAAAD4fwAAAAAAAPh/AAAAAAAA+H8AAAAAAAD4fwAAAAAAAPh/AAAAAAAA+H8AAAAAAAD4fwAAAAAAAPh/AAAAAAAA+H8AAAAAAAD4fwAAAAAAAPh/AAAAAAAA+H8AAAAAAAD4fwAAAAAAAPh/AAAAAAAA+H8AAAAAAAD4fwAAAAAAAPh/AAAAAAAA+H8AAAAAAAD4fwAAAAAAAPh/AAAAAAAA+H8AAAAAAAD4fwAAAAAAAPh/AAAAAAAA+H8AAAAAAAD4fwAAAAAAAPh/AAAAAAAA+H8AAAAAAAD4fwAAAAAAAPh/AAAAAAAA+H8AAAAAAAD4fwAAAAAAAPh/",
          "dtype": "f8"
         },
         "yaxis": "y"
        }
       ],
       "layout": {
        "barmode": "relative",
        "legend": {
         "tracegroupgap": 0
        },
        "margin": {
         "t": 60
        },
        "template": {
         "data": {
          "bar": [
           {
            "error_x": {
             "color": "#2a3f5f"
            },
            "error_y": {
             "color": "#2a3f5f"
            },
            "marker": {
             "line": {
              "color": "#E5ECF6",
              "width": 0.5
             },
             "pattern": {
              "fillmode": "overlay",
              "size": 10,
              "solidity": 0.2
             }
            },
            "type": "bar"
           }
          ],
          "barpolar": [
           {
            "marker": {
             "line": {
              "color": "#E5ECF6",
              "width": 0.5
             },
             "pattern": {
              "fillmode": "overlay",
              "size": 10,
              "solidity": 0.2
             }
            },
            "type": "barpolar"
           }
          ],
          "carpet": [
           {
            "aaxis": {
             "endlinecolor": "#2a3f5f",
             "gridcolor": "white",
             "linecolor": "white",
             "minorgridcolor": "white",
             "startlinecolor": "#2a3f5f"
            },
            "baxis": {
             "endlinecolor": "#2a3f5f",
             "gridcolor": "white",
             "linecolor": "white",
             "minorgridcolor": "white",
             "startlinecolor": "#2a3f5f"
            },
            "type": "carpet"
           }
          ],
          "choropleth": [
           {
            "colorbar": {
             "outlinewidth": 0,
             "ticks": ""
            },
            "type": "choropleth"
           }
          ],
          "contour": [
           {
            "colorbar": {
             "outlinewidth": 0,
             "ticks": ""
            },
            "colorscale": [
             [
              0,
              "#0d0887"
             ],
             [
              0.1111111111111111,
              "#46039f"
             ],
             [
              0.2222222222222222,
              "#7201a8"
             ],
             [
              0.3333333333333333,
              "#9c179e"
             ],
             [
              0.4444444444444444,
              "#bd3786"
             ],
             [
              0.5555555555555556,
              "#d8576b"
             ],
             [
              0.6666666666666666,
              "#ed7953"
             ],
             [
              0.7777777777777778,
              "#fb9f3a"
             ],
             [
              0.8888888888888888,
              "#fdca26"
             ],
             [
              1,
              "#f0f921"
             ]
            ],
            "type": "contour"
           }
          ],
          "contourcarpet": [
           {
            "colorbar": {
             "outlinewidth": 0,
             "ticks": ""
            },
            "type": "contourcarpet"
           }
          ],
          "heatmap": [
           {
            "colorbar": {
             "outlinewidth": 0,
             "ticks": ""
            },
            "colorscale": [
             [
              0,
              "#0d0887"
             ],
             [
              0.1111111111111111,
              "#46039f"
             ],
             [
              0.2222222222222222,
              "#7201a8"
             ],
             [
              0.3333333333333333,
              "#9c179e"
             ],
             [
              0.4444444444444444,
              "#bd3786"
             ],
             [
              0.5555555555555556,
              "#d8576b"
             ],
             [
              0.6666666666666666,
              "#ed7953"
             ],
             [
              0.7777777777777778,
              "#fb9f3a"
             ],
             [
              0.8888888888888888,
              "#fdca26"
             ],
             [
              1,
              "#f0f921"
             ]
            ],
            "type": "heatmap"
           }
          ],
          "histogram": [
           {
            "marker": {
             "pattern": {
              "fillmode": "overlay",
              "size": 10,
              "solidity": 0.2
             }
            },
            "type": "histogram"
           }
          ],
          "histogram2d": [
           {
            "colorbar": {
             "outlinewidth": 0,
             "ticks": ""
            },
            "colorscale": [
             [
              0,
              "#0d0887"
             ],
             [
              0.1111111111111111,
              "#46039f"
             ],
             [
              0.2222222222222222,
              "#7201a8"
             ],
             [
              0.3333333333333333,
              "#9c179e"
             ],
             [
              0.4444444444444444,
              "#bd3786"
             ],
             [
              0.5555555555555556,
              "#d8576b"
             ],
             [
              0.6666666666666666,
              "#ed7953"
             ],
             [
              0.7777777777777778,
              "#fb9f3a"
             ],
             [
              0.8888888888888888,
              "#fdca26"
             ],
             [
              1,
              "#f0f921"
             ]
            ],
            "type": "histogram2d"
           }
          ],
          "histogram2dcontour": [
           {
            "colorbar": {
             "outlinewidth": 0,
             "ticks": ""
            },
            "colorscale": [
             [
              0,
              "#0d0887"
             ],
             [
              0.1111111111111111,
              "#46039f"
             ],
             [
              0.2222222222222222,
              "#7201a8"
             ],
             [
              0.3333333333333333,
              "#9c179e"
             ],
             [
              0.4444444444444444,
              "#bd3786"
             ],
             [
              0.5555555555555556,
              "#d8576b"
             ],
             [
              0.6666666666666666,
              "#ed7953"
             ],
             [
              0.7777777777777778,
              "#fb9f3a"
             ],
             [
              0.8888888888888888,
              "#fdca26"
             ],
             [
              1,
              "#f0f921"
             ]
            ],
            "type": "histogram2dcontour"
           }
          ],
          "mesh3d": [
           {
            "colorbar": {
             "outlinewidth": 0,
             "ticks": ""
            },
            "type": "mesh3d"
           }
          ],
          "parcoords": [
           {
            "line": {
             "colorbar": {
              "outlinewidth": 0,
              "ticks": ""
             }
            },
            "type": "parcoords"
           }
          ],
          "pie": [
           {
            "automargin": true,
            "type": "pie"
           }
          ],
          "scatter": [
           {
            "fillpattern": {
             "fillmode": "overlay",
             "size": 10,
             "solidity": 0.2
            },
            "type": "scatter"
           }
          ],
          "scatter3d": [
           {
            "line": {
             "colorbar": {
              "outlinewidth": 0,
              "ticks": ""
             }
            },
            "marker": {
             "colorbar": {
              "outlinewidth": 0,
              "ticks": ""
             }
            },
            "type": "scatter3d"
           }
          ],
          "scattercarpet": [
           {
            "marker": {
             "colorbar": {
              "outlinewidth": 0,
              "ticks": ""
             }
            },
            "type": "scattercarpet"
           }
          ],
          "scattergeo": [
           {
            "marker": {
             "colorbar": {
              "outlinewidth": 0,
              "ticks": ""
             }
            },
            "type": "scattergeo"
           }
          ],
          "scattergl": [
           {
            "marker": {
             "colorbar": {
              "outlinewidth": 0,
              "ticks": ""
             }
            },
            "type": "scattergl"
           }
          ],
          "scattermap": [
           {
            "marker": {
             "colorbar": {
              "outlinewidth": 0,
              "ticks": ""
             }
            },
            "type": "scattermap"
           }
          ],
          "scattermapbox": [
           {
            "marker": {
             "colorbar": {
              "outlinewidth": 0,
              "ticks": ""
             }
            },
            "type": "scattermapbox"
           }
          ],
          "scatterpolar": [
           {
            "marker": {
             "colorbar": {
              "outlinewidth": 0,
              "ticks": ""
             }
            },
            "type": "scatterpolar"
           }
          ],
          "scatterpolargl": [
           {
            "marker": {
             "colorbar": {
              "outlinewidth": 0,
              "ticks": ""
             }
            },
            "type": "scatterpolargl"
           }
          ],
          "scatterternary": [
           {
            "marker": {
             "colorbar": {
              "outlinewidth": 0,
              "ticks": ""
             }
            },
            "type": "scatterternary"
           }
          ],
          "surface": [
           {
            "colorbar": {
             "outlinewidth": 0,
             "ticks": ""
            },
            "colorscale": [
             [
              0,
              "#0d0887"
             ],
             [
              0.1111111111111111,
              "#46039f"
             ],
             [
              0.2222222222222222,
              "#7201a8"
             ],
             [
              0.3333333333333333,
              "#9c179e"
             ],
             [
              0.4444444444444444,
              "#bd3786"
             ],
             [
              0.5555555555555556,
              "#d8576b"
             ],
             [
              0.6666666666666666,
              "#ed7953"
             ],
             [
              0.7777777777777778,
              "#fb9f3a"
             ],
             [
              0.8888888888888888,
              "#fdca26"
             ],
             [
              1,
              "#f0f921"
             ]
            ],
            "type": "surface"
           }
          ],
          "table": [
           {
            "cells": {
             "fill": {
              "color": "#EBF0F8"
             },
             "line": {
              "color": "white"
             }
            },
            "header": {
             "fill": {
              "color": "#C8D4E3"
             },
             "line": {
              "color": "white"
             }
            },
            "type": "table"
           }
          ]
         },
         "layout": {
          "annotationdefaults": {
           "arrowcolor": "#2a3f5f",
           "arrowhead": 0,
           "arrowwidth": 1
          },
          "autotypenumbers": "strict",
          "coloraxis": {
           "colorbar": {
            "outlinewidth": 0,
            "ticks": ""
           }
          },
          "colorscale": {
           "diverging": [
            [
             0,
             "#8e0152"
            ],
            [
             0.1,
             "#c51b7d"
            ],
            [
             0.2,
             "#de77ae"
            ],
            [
             0.3,
             "#f1b6da"
            ],
            [
             0.4,
             "#fde0ef"
            ],
            [
             0.5,
             "#f7f7f7"
            ],
            [
             0.6,
             "#e6f5d0"
            ],
            [
             0.7,
             "#b8e186"
            ],
            [
             0.8,
             "#7fbc41"
            ],
            [
             0.9,
             "#4d9221"
            ],
            [
             1,
             "#276419"
            ]
           ],
           "sequential": [
            [
             0,
             "#0d0887"
            ],
            [
             0.1111111111111111,
             "#46039f"
            ],
            [
             0.2222222222222222,
             "#7201a8"
            ],
            [
             0.3333333333333333,
             "#9c179e"
            ],
            [
             0.4444444444444444,
             "#bd3786"
            ],
            [
             0.5555555555555556,
             "#d8576b"
            ],
            [
             0.6666666666666666,
             "#ed7953"
            ],
            [
             0.7777777777777778,
             "#fb9f3a"
            ],
            [
             0.8888888888888888,
             "#fdca26"
            ],
            [
             1,
             "#f0f921"
            ]
           ],
           "sequentialminus": [
            [
             0,
             "#0d0887"
            ],
            [
             0.1111111111111111,
             "#46039f"
            ],
            [
             0.2222222222222222,
             "#7201a8"
            ],
            [
             0.3333333333333333,
             "#9c179e"
            ],
            [
             0.4444444444444444,
             "#bd3786"
            ],
            [
             0.5555555555555556,
             "#d8576b"
            ],
            [
             0.6666666666666666,
             "#ed7953"
            ],
            [
             0.7777777777777778,
             "#fb9f3a"
            ],
            [
             0.8888888888888888,
             "#fdca26"
            ],
            [
             1,
             "#f0f921"
            ]
           ]
          },
          "colorway": [
           "#636efa",
           "#EF553B",
           "#00cc96",
           "#ab63fa",
           "#FFA15A",
           "#19d3f3",
           "#FF6692",
           "#B6E880",
           "#FF97FF",
           "#FECB52"
          ],
          "font": {
           "color": "#2a3f5f"
          },
          "geo": {
           "bgcolor": "white",
           "lakecolor": "white",
           "landcolor": "#E5ECF6",
           "showlakes": true,
           "showland": true,
           "subunitcolor": "white"
          },
          "hoverlabel": {
           "align": "left"
          },
          "hovermode": "closest",
          "mapbox": {
           "style": "light"
          },
          "paper_bgcolor": "white",
          "plot_bgcolor": "#E5ECF6",
          "polar": {
           "angularaxis": {
            "gridcolor": "white",
            "linecolor": "white",
            "ticks": ""
           },
           "bgcolor": "#E5ECF6",
           "radialaxis": {
            "gridcolor": "white",
            "linecolor": "white",
            "ticks": ""
           }
          },
          "scene": {
           "xaxis": {
            "backgroundcolor": "#E5ECF6",
            "gridcolor": "white",
            "gridwidth": 2,
            "linecolor": "white",
            "showbackground": true,
            "ticks": "",
            "zerolinecolor": "white"
           },
           "yaxis": {
            "backgroundcolor": "#E5ECF6",
            "gridcolor": "white",
            "gridwidth": 2,
            "linecolor": "white",
            "showbackground": true,
            "ticks": "",
            "zerolinecolor": "white"
           },
           "zaxis": {
            "backgroundcolor": "#E5ECF6",
            "gridcolor": "white",
            "gridwidth": 2,
            "linecolor": "white",
            "showbackground": true,
            "ticks": "",
            "zerolinecolor": "white"
           }
          },
          "shapedefaults": {
           "line": {
            "color": "#2a3f5f"
           }
          },
          "ternary": {
           "aaxis": {
            "gridcolor": "white",
            "linecolor": "white",
            "ticks": ""
           },
           "baxis": {
            "gridcolor": "white",
            "linecolor": "white",
            "ticks": ""
           },
           "bgcolor": "#E5ECF6",
           "caxis": {
            "gridcolor": "white",
            "linecolor": "white",
            "ticks": ""
           }
          },
          "title": {
           "x": 0.05
          },
          "xaxis": {
           "automargin": true,
           "gridcolor": "white",
           "linecolor": "white",
           "ticks": "",
           "title": {
            "standoff": 15
           },
           "zerolinecolor": "white",
           "zerolinewidth": 2
          },
          "yaxis": {
           "automargin": true,
           "gridcolor": "white",
           "linecolor": "white",
           "ticks": "",
           "title": {
            "standoff": 15
           },
           "zerolinecolor": "white",
           "zerolinewidth": 2
          }
         }
        },
        "xaxis": {
         "anchor": "y",
         "domain": [
          0,
          1
         ],
         "title": {
          "text": "STATE"
         }
        },
        "yaxis": {
         "anchor": "x",
         "domain": [
          0,
          1
         ],
         "title": {
          "text": "Expenditure Per Student (Thousands)"
         }
        }
       }
      }
     },
     "metadata": {},
     "output_type": "display_data"
    }
   ],
   "source": [
    "# px.bar(education\n",
    "#        .query(\"STATE in ['CALIFORNIA', 'OREGON', 'WASHINGTON', 'ALABAMA']\")\n",
    "       \n",
    "#        ,x=\"STATE\",y=\"expenditure_per_student\")\n",
    "\n",
    "px.bar(\n",
    "    (education\n",
    "    .query(\"STATE in ['CALIFORNIA', 'OREGON', 'WASHINGTON', 'ALABAMA']\")\n",
    "#     #.groupby(\"STATE\", as_index=False)\n",
    "#     #.mean()\n",
    "    .rename({\"expenditure_per_student\": \"Expenditure Per Student (Thousands)\"}, axis=1)\n",
    "    .sort_values(\"Expenditure Per Student (Thousands)\", ascending=False)\n",
    "    ),\n",
    "    x=\"STATE\",\n",
    "    y=\"Expenditure Per Student (Thousands)\",\n",
    ")"
   ]
  },
  {
   "cell_type": "code",
   "execution_count": 111,
   "metadata": {},
   "outputs": [
    {
     "data": {
      "application/vnd.plotly.v1+json": {
       "config": {
        "plotlyServerURL": "https://plot.ly"
       },
       "data": [
        {
         "hovertemplate": "STATE=CALIFORNIA<br>YEAR=%{x}<br>TOTAL_EXPENDITURE=%{y}<extra></extra>",
         "legendgroup": "CALIFORNIA",
         "marker": {
          "color": "#636efa",
          "pattern": {
           "shape": ""
          }
         },
         "name": "CALIFORNIA",
         "orientation": "v",
         "showlegend": true,
         "textposition": "auto",
         "type": "bar",
         "x": {
          "bdata": "yQfKB8sHzAfNB84HzwfQB9EH0gfTB9QH1QfWB9cH2AfZB9oH2wfcB90H3gc=",
          "dtype": "i2"
         },
         "xaxis": "x",
         "y": {
          "bdata": "AAAAoAjPekEAAAAAVfJ1QQAAANAItHxBAAAAwH0ZfkEAAABIlCWAQQAAAJBfKYJBAAAAmLJ4g0EAAADIc9qFQQAAAGC71YhBAAAACJvsikEAAADor32MQQAAAIh0341BAAAAQJOQj0EAAAAAfGKQQQAAADhTdZFBAAAAxHFEkkEAAAAYXNORQQAAAJxb+5BBAAAAZCqnkEEAAAAULLyQQQAAADzOn5BBAAAA6HZJkUE=",
          "dtype": "f8"
         },
         "yaxis": "y"
        },
        {
         "hovertemplate": "STATE=MASSACHUSETTS<br>YEAR=%{x}<br>TOTAL_EXPENDITURE=%{y}<extra></extra>",
         "legendgroup": "MASSACHUSETTS",
         "marker": {
          "color": "#EF553B",
          "pattern": {
           "shape": ""
          }
         },
         "name": "MASSACHUSETTS",
         "orientation": "v",
         "showlegend": true,
         "textposition": "auto",
         "type": "bar",
         "x": {
          "bdata": "yQfKB8sHzAfNB84HzwfQB9EH0gfTB9QH1QfWB9cH2AfZB9oH2wfcB90H3gc=",
          "dtype": "i2"
         },
         "xaxis": "x",
         "y": {
          "bdata": "AAAAQCeqVUEAAADAVmFYQQAAAIDolFlBAAAAAEaIXEEAAADAG4hcQQAAAADo5F5BAAAA4BOLYEEAAABgPw5iQQAAAEAtKmRBAAAAwN3yZUEAAADAz7VlQQAAACCo82ZBAAAAYAFGaEEAAACgkMFpQQAAAMD/TWtBAAAAIE/oa0EAAADAk/FsQQAAAODLVmxBAAAAQOblbEEAAACgF/BtQQAAACAW525BAAAA4J2Bb0E=",
          "dtype": "f8"
         },
         "yaxis": "y"
        }
       ],
       "layout": {
        "barmode": "relative",
        "legend": {
         "title": {
          "text": "STATE"
         },
         "tracegroupgap": 0
        },
        "template": {
         "data": {
          "bar": [
           {
            "error_x": {
             "color": "#2a3f5f"
            },
            "error_y": {
             "color": "#2a3f5f"
            },
            "marker": {
             "line": {
              "color": "#E5ECF6",
              "width": 0.5
             },
             "pattern": {
              "fillmode": "overlay",
              "size": 10,
              "solidity": 0.2
             }
            },
            "type": "bar"
           }
          ],
          "barpolar": [
           {
            "marker": {
             "line": {
              "color": "#E5ECF6",
              "width": 0.5
             },
             "pattern": {
              "fillmode": "overlay",
              "size": 10,
              "solidity": 0.2
             }
            },
            "type": "barpolar"
           }
          ],
          "carpet": [
           {
            "aaxis": {
             "endlinecolor": "#2a3f5f",
             "gridcolor": "white",
             "linecolor": "white",
             "minorgridcolor": "white",
             "startlinecolor": "#2a3f5f"
            },
            "baxis": {
             "endlinecolor": "#2a3f5f",
             "gridcolor": "white",
             "linecolor": "white",
             "minorgridcolor": "white",
             "startlinecolor": "#2a3f5f"
            },
            "type": "carpet"
           }
          ],
          "choropleth": [
           {
            "colorbar": {
             "outlinewidth": 0,
             "ticks": ""
            },
            "type": "choropleth"
           }
          ],
          "contour": [
           {
            "colorbar": {
             "outlinewidth": 0,
             "ticks": ""
            },
            "colorscale": [
             [
              0,
              "#0d0887"
             ],
             [
              0.1111111111111111,
              "#46039f"
             ],
             [
              0.2222222222222222,
              "#7201a8"
             ],
             [
              0.3333333333333333,
              "#9c179e"
             ],
             [
              0.4444444444444444,
              "#bd3786"
             ],
             [
              0.5555555555555556,
              "#d8576b"
             ],
             [
              0.6666666666666666,
              "#ed7953"
             ],
             [
              0.7777777777777778,
              "#fb9f3a"
             ],
             [
              0.8888888888888888,
              "#fdca26"
             ],
             [
              1,
              "#f0f921"
             ]
            ],
            "type": "contour"
           }
          ],
          "contourcarpet": [
           {
            "colorbar": {
             "outlinewidth": 0,
             "ticks": ""
            },
            "type": "contourcarpet"
           }
          ],
          "heatmap": [
           {
            "colorbar": {
             "outlinewidth": 0,
             "ticks": ""
            },
            "colorscale": [
             [
              0,
              "#0d0887"
             ],
             [
              0.1111111111111111,
              "#46039f"
             ],
             [
              0.2222222222222222,
              "#7201a8"
             ],
             [
              0.3333333333333333,
              "#9c179e"
             ],
             [
              0.4444444444444444,
              "#bd3786"
             ],
             [
              0.5555555555555556,
              "#d8576b"
             ],
             [
              0.6666666666666666,
              "#ed7953"
             ],
             [
              0.7777777777777778,
              "#fb9f3a"
             ],
             [
              0.8888888888888888,
              "#fdca26"
             ],
             [
              1,
              "#f0f921"
             ]
            ],
            "type": "heatmap"
           }
          ],
          "histogram": [
           {
            "marker": {
             "pattern": {
              "fillmode": "overlay",
              "size": 10,
              "solidity": 0.2
             }
            },
            "type": "histogram"
           }
          ],
          "histogram2d": [
           {
            "colorbar": {
             "outlinewidth": 0,
             "ticks": ""
            },
            "colorscale": [
             [
              0,
              "#0d0887"
             ],
             [
              0.1111111111111111,
              "#46039f"
             ],
             [
              0.2222222222222222,
              "#7201a8"
             ],
             [
              0.3333333333333333,
              "#9c179e"
             ],
             [
              0.4444444444444444,
              "#bd3786"
             ],
             [
              0.5555555555555556,
              "#d8576b"
             ],
             [
              0.6666666666666666,
              "#ed7953"
             ],
             [
              0.7777777777777778,
              "#fb9f3a"
             ],
             [
              0.8888888888888888,
              "#fdca26"
             ],
             [
              1,
              "#f0f921"
             ]
            ],
            "type": "histogram2d"
           }
          ],
          "histogram2dcontour": [
           {
            "colorbar": {
             "outlinewidth": 0,
             "ticks": ""
            },
            "colorscale": [
             [
              0,
              "#0d0887"
             ],
             [
              0.1111111111111111,
              "#46039f"
             ],
             [
              0.2222222222222222,
              "#7201a8"
             ],
             [
              0.3333333333333333,
              "#9c179e"
             ],
             [
              0.4444444444444444,
              "#bd3786"
             ],
             [
              0.5555555555555556,
              "#d8576b"
             ],
             [
              0.6666666666666666,
              "#ed7953"
             ],
             [
              0.7777777777777778,
              "#fb9f3a"
             ],
             [
              0.8888888888888888,
              "#fdca26"
             ],
             [
              1,
              "#f0f921"
             ]
            ],
            "type": "histogram2dcontour"
           }
          ],
          "mesh3d": [
           {
            "colorbar": {
             "outlinewidth": 0,
             "ticks": ""
            },
            "type": "mesh3d"
           }
          ],
          "parcoords": [
           {
            "line": {
             "colorbar": {
              "outlinewidth": 0,
              "ticks": ""
             }
            },
            "type": "parcoords"
           }
          ],
          "pie": [
           {
            "automargin": true,
            "type": "pie"
           }
          ],
          "scatter": [
           {
            "fillpattern": {
             "fillmode": "overlay",
             "size": 10,
             "solidity": 0.2
            },
            "type": "scatter"
           }
          ],
          "scatter3d": [
           {
            "line": {
             "colorbar": {
              "outlinewidth": 0,
              "ticks": ""
             }
            },
            "marker": {
             "colorbar": {
              "outlinewidth": 0,
              "ticks": ""
             }
            },
            "type": "scatter3d"
           }
          ],
          "scattercarpet": [
           {
            "marker": {
             "colorbar": {
              "outlinewidth": 0,
              "ticks": ""
             }
            },
            "type": "scattercarpet"
           }
          ],
          "scattergeo": [
           {
            "marker": {
             "colorbar": {
              "outlinewidth": 0,
              "ticks": ""
             }
            },
            "type": "scattergeo"
           }
          ],
          "scattergl": [
           {
            "marker": {
             "colorbar": {
              "outlinewidth": 0,
              "ticks": ""
             }
            },
            "type": "scattergl"
           }
          ],
          "scattermap": [
           {
            "marker": {
             "colorbar": {
              "outlinewidth": 0,
              "ticks": ""
             }
            },
            "type": "scattermap"
           }
          ],
          "scattermapbox": [
           {
            "marker": {
             "colorbar": {
              "outlinewidth": 0,
              "ticks": ""
             }
            },
            "type": "scattermapbox"
           }
          ],
          "scatterpolar": [
           {
            "marker": {
             "colorbar": {
              "outlinewidth": 0,
              "ticks": ""
             }
            },
            "type": "scatterpolar"
           }
          ],
          "scatterpolargl": [
           {
            "marker": {
             "colorbar": {
              "outlinewidth": 0,
              "ticks": ""
             }
            },
            "type": "scatterpolargl"
           }
          ],
          "scatterternary": [
           {
            "marker": {
             "colorbar": {
              "outlinewidth": 0,
              "ticks": ""
             }
            },
            "type": "scatterternary"
           }
          ],
          "surface": [
           {
            "colorbar": {
             "outlinewidth": 0,
             "ticks": ""
            },
            "colorscale": [
             [
              0,
              "#0d0887"
             ],
             [
              0.1111111111111111,
              "#46039f"
             ],
             [
              0.2222222222222222,
              "#7201a8"
             ],
             [
              0.3333333333333333,
              "#9c179e"
             ],
             [
              0.4444444444444444,
              "#bd3786"
             ],
             [
              0.5555555555555556,
              "#d8576b"
             ],
             [
              0.6666666666666666,
              "#ed7953"
             ],
             [
              0.7777777777777778,
              "#fb9f3a"
             ],
             [
              0.8888888888888888,
              "#fdca26"
             ],
             [
              1,
              "#f0f921"
             ]
            ],
            "type": "surface"
           }
          ],
          "table": [
           {
            "cells": {
             "fill": {
              "color": "#EBF0F8"
             },
             "line": {
              "color": "white"
             }
            },
            "header": {
             "fill": {
              "color": "#C8D4E3"
             },
             "line": {
              "color": "white"
             }
            },
            "type": "table"
           }
          ]
         },
         "layout": {
          "annotationdefaults": {
           "arrowcolor": "#2a3f5f",
           "arrowhead": 0,
           "arrowwidth": 1
          },
          "autotypenumbers": "strict",
          "coloraxis": {
           "colorbar": {
            "outlinewidth": 0,
            "ticks": ""
           }
          },
          "colorscale": {
           "diverging": [
            [
             0,
             "#8e0152"
            ],
            [
             0.1,
             "#c51b7d"
            ],
            [
             0.2,
             "#de77ae"
            ],
            [
             0.3,
             "#f1b6da"
            ],
            [
             0.4,
             "#fde0ef"
            ],
            [
             0.5,
             "#f7f7f7"
            ],
            [
             0.6,
             "#e6f5d0"
            ],
            [
             0.7,
             "#b8e186"
            ],
            [
             0.8,
             "#7fbc41"
            ],
            [
             0.9,
             "#4d9221"
            ],
            [
             1,
             "#276419"
            ]
           ],
           "sequential": [
            [
             0,
             "#0d0887"
            ],
            [
             0.1111111111111111,
             "#46039f"
            ],
            [
             0.2222222222222222,
             "#7201a8"
            ],
            [
             0.3333333333333333,
             "#9c179e"
            ],
            [
             0.4444444444444444,
             "#bd3786"
            ],
            [
             0.5555555555555556,
             "#d8576b"
            ],
            [
             0.6666666666666666,
             "#ed7953"
            ],
            [
             0.7777777777777778,
             "#fb9f3a"
            ],
            [
             0.8888888888888888,
             "#fdca26"
            ],
            [
             1,
             "#f0f921"
            ]
           ],
           "sequentialminus": [
            [
             0,
             "#0d0887"
            ],
            [
             0.1111111111111111,
             "#46039f"
            ],
            [
             0.2222222222222222,
             "#7201a8"
            ],
            [
             0.3333333333333333,
             "#9c179e"
            ],
            [
             0.4444444444444444,
             "#bd3786"
            ],
            [
             0.5555555555555556,
             "#d8576b"
            ],
            [
             0.6666666666666666,
             "#ed7953"
            ],
            [
             0.7777777777777778,
             "#fb9f3a"
            ],
            [
             0.8888888888888888,
             "#fdca26"
            ],
            [
             1,
             "#f0f921"
            ]
           ]
          },
          "colorway": [
           "#636efa",
           "#EF553B",
           "#00cc96",
           "#ab63fa",
           "#FFA15A",
           "#19d3f3",
           "#FF6692",
           "#B6E880",
           "#FF97FF",
           "#FECB52"
          ],
          "font": {
           "color": "#2a3f5f"
          },
          "geo": {
           "bgcolor": "white",
           "lakecolor": "white",
           "landcolor": "#E5ECF6",
           "showlakes": true,
           "showland": true,
           "subunitcolor": "white"
          },
          "hoverlabel": {
           "align": "left"
          },
          "hovermode": "closest",
          "mapbox": {
           "style": "light"
          },
          "paper_bgcolor": "white",
          "plot_bgcolor": "#E5ECF6",
          "polar": {
           "angularaxis": {
            "gridcolor": "white",
            "linecolor": "white",
            "ticks": ""
           },
           "bgcolor": "#E5ECF6",
           "radialaxis": {
            "gridcolor": "white",
            "linecolor": "white",
            "ticks": ""
           }
          },
          "scene": {
           "xaxis": {
            "backgroundcolor": "#E5ECF6",
            "gridcolor": "white",
            "gridwidth": 2,
            "linecolor": "white",
            "showbackground": true,
            "ticks": "",
            "zerolinecolor": "white"
           },
           "yaxis": {
            "backgroundcolor": "#E5ECF6",
            "gridcolor": "white",
            "gridwidth": 2,
            "linecolor": "white",
            "showbackground": true,
            "ticks": "",
            "zerolinecolor": "white"
           },
           "zaxis": {
            "backgroundcolor": "#E5ECF6",
            "gridcolor": "white",
            "gridwidth": 2,
            "linecolor": "white",
            "showbackground": true,
            "ticks": "",
            "zerolinecolor": "white"
           }
          },
          "shapedefaults": {
           "line": {
            "color": "#2a3f5f"
           }
          },
          "ternary": {
           "aaxis": {
            "gridcolor": "white",
            "linecolor": "white",
            "ticks": ""
           },
           "baxis": {
            "gridcolor": "white",
            "linecolor": "white",
            "ticks": ""
           },
           "bgcolor": "#E5ECF6",
           "caxis": {
            "gridcolor": "white",
            "linecolor": "white",
            "ticks": ""
           }
          },
          "title": {
           "x": 0.05
          },
          "xaxis": {
           "automargin": true,
           "gridcolor": "white",
           "linecolor": "white",
           "ticks": "",
           "title": {
            "standoff": 15
           },
           "zerolinecolor": "white",
           "zerolinewidth": 2
          },
          "yaxis": {
           "automargin": true,
           "gridcolor": "white",
           "linecolor": "white",
           "ticks": "",
           "title": {
            "standoff": 15
           },
           "zerolinecolor": "white",
           "zerolinewidth": 2
          }
         }
        },
        "title": {
         "text": "California and Massachusetts Total Ed. Spending"
        },
        "xaxis": {
         "anchor": "y",
         "domain": [
          0,
          1
         ],
         "title": {
          "text": "YEAR"
         }
        },
        "yaxis": {
         "anchor": "x",
         "domain": [
          0,
          1
         ],
         "title": {
          "text": "TOTAL_EXPENDITURE"
         }
        }
       }
      }
     },
     "metadata": {},
     "output_type": "display_data"
    }
   ],
   "source": [
    "px.bar(\n",
    "    education.query(\"STATE in ['CALIFORNIA', 'MASSACHUSETTS'] and 1992 < YEAR < 2015\"),\n",
    "    x=\"YEAR\",\n",
    "    y=\"TOTAL_EXPENDITURE\",\n",
    "    color=\"STATE\",\n",
    "    title=\"California and Massachusetts Total Ed. Spending\",\n",
    ")"
   ]
  },
  {
   "cell_type": "code",
   "execution_count": 112,
   "metadata": {},
   "outputs": [
    {
     "data": {
      "application/vnd.plotly.v1+json": {
       "config": {
        "plotlyServerURL": "https://plot.ly"
       },
       "data": [
        {
         "hovertemplate": "above_avg_math8=Below Avg<br>Math=%{x}<br>Reading=%{y}<br>expenditure_per_student=%{marker.size}<extra></extra>",
         "legendgroup": "Below Avg",
         "marker": {
          "color": "orange",
          "size": {
           "bdata": "wo4i7578HEBzuIQqgYsYQC+tuQ29iRxA7E8IA6ihIkAIVAhLgmQmQAWxQXJaVixAPGecLN8xH0BMGGLLNsEhQBosAjpTdCFADbZ+AXNBJECLfHWP2VccQFFMpPTqUB5AJP1wxmEYJECevNXUAGUmQLLUx78n+hlAotlo3+c6H0CUgPlTqXQgQLVzGFot9RtA8hw1yp6oJED2fgYHujshQGkkPzT9rhtAugbofro8IUCqLCeZLvQhQDluclVh1x9Ar879XF8VGkDWWZP6X94gQJBdbbEUkSRAzZ+xk5A+LEAFUjpYPNYhQGuaH0YeIiJAbAvyBlBRI0D5JFMps94kQBMlvKex6iBA/wVRWsInIkDlA4J59r8mQJv0nHUzhSdAP9mUH4YuHUB9DRINsc4hQNV0ubfp5CBAfYnKlw1vIkAfbS9zDCkeQFbVj7yPVydAcFOwvqyiHUDQfXdDjjcjQBBENKWbXyNAQh0D5a8EIEDrMt+XZvQjQEJDO6I8FidAprYo7BwWLUBbzxJ83mImQKeHP0heFSVASV6wzjt0KEBBmzA+8owjQPYHM2PscCdAkrLNmTPVIEB39w5h5z4kQDasHuD87iNAuBxGegEmIUAztVq32DUsQAR6QJwANyBAuxmH8CseJUAwzjwjRt8kQLvvy630xiFAtKQt4Z3hJEAWTvB2st8nQJoOyGzAMidAAXr89PPQJkCIgvY1KLwpQOrm8nFbUCdAJdCYyjM/KEA7lpIzM30iQFdnD9pAWCVAxcrf/aKYJ0B3LNV6/CUiQMm0GRb47C1Ag6kXX161IUBQ/jBIixYmQLaExVdR6CNACIPIvX43JkDT1yiQ7YwxQPe8r5OPOyRAtI/iHn9mJEBcEhFUubooQEbubDKLXidAtsGisCu3IUDdoVhf4l8jQGcKuA4r6SVAl4PT96rtIUA9eJnx+/IpQK8Rn2yiESRAhCUZmjlVJUAbW4NnYRcmQLq4Bhz0vTBAeTq8gGFSJkAZfqzASL4hQIM4Z73C9SFA7lfign3ZJEBCeAbK7QAhQIv/caPOnSJAHIhCXejVKEDDh04s/iskQBnJ4SCNviVAKKU4tHIyMECZ+f79rIkjQMJKIsq4ASZAWaCck5d6J0CrIMBjaRknQGw7QkXx+yJAtqtTFv/kIUBw3hkp5OomQBd37JtA2iFAzgczE9UBJ0DfVEiG+RkjQN3muL/X/ShA",
           "dtype": "f8"
          },
          "sizemode": "area",
          "sizeref": 0.0600143520898531,
          "symbol": "circle"
         },
         "mode": "markers",
         "name": "Below Avg",
         "orientation": "v",
         "showlegend": true,
         "type": "scatter",
         "x": {
          "bdata": "AAAAAABgcEAAAAAAAPBwQAAAAAAAoHBAAAAAAACwcEAAAAAAAFBxQAAAAAAAYG5AAAAAAADwcEAAAAAAAOBwQAAAAAAAoHBAAAAAAABQcUAAAAAAACBxQAAAAAAAoHBAAAAAAABgcUAAAAAAAEBxQAAAAAAAUHBAAAAAAADAcEAAAAAAAHBwQAAAAAAAAHFAAAAAAAAAcUAAAAAAAFBxQAAAAAAAwHBAAAAAAABQcUAAAAAAAPBwQAAAAAAAYHBAAAAAAAAgcUAAAAAAAABxQAAAAAAA0HBAAAAAAACgbkAAAAAAACBxQAAAAAAAAHFAAAAAAACgcEAAAAAAAGBxQAAAAAAAIHFAAAAAAADAcEAAAAAAAGBxQAAAAAAAUHFAAAAAAABgcEAAAAAAAEBxQAAAAAAA4HBAAAAAAABwcEAAAAAAAPBwQAAAAAAAAHFAAAAAAADwcEAAAAAAANBwQAAAAAAAoHBAAAAAAABAcUAAAAAAACBxQAAAAAAA4HBAAAAAAAAAb0AAAAAAAFBxQAAAAAAAMHFAAAAAAADQcEAAAAAAAABxQAAAAAAAUHFAAAAAAACQcEAAAAAAAPBwQAAAAAAAwHBAAAAAAAAwcUAAAAAAADBxQAAAAAAAIHFAAAAAAADgcEAAAAAAANBwQAAAAAAAUHFAAAAAAABAcUAAAAAAAOBwQAAAAAAAwG9AAAAAAABgcUAAAAAAACBxQAAAAAAAAHFAAAAAAABgcUAAAAAAAJBwQAAAAAAAIHFAAAAAAADgcEAAAAAAAEBxQAAAAAAAYHFAAAAAAAAwcUAAAAAAAOBwQAAAAAAA0HBAAAAAAAAQcUAAAAAAAEBwQAAAAAAAYHFAAAAAAABgcUAAAAAAAGBxQAAAAAAAEHFAAAAAAADQcEAAAAAAAGBxQAAAAAAAIHFAAAAAAAAgcUAAAAAAABBxQAAAAAAA0HBAAAAAAABgcUAAAAAAAEBxQAAAAAAAkHBAAAAAAAAQcUAAAAAAAPBwQAAAAAAAYHFAAAAAAAAQcUAAAAAAAEBxQAAAAAAAYHFAAAAAAAAgcUAAAAAAALBwQAAAAAAAMHFAAAAAAABwcEAAAAAAADBxQAAAAAAAYHFAAAAAAADAcEAAAAAAAGBxQAAAAAAA8HBAAAAAAAAwcUAAAAAAAPBwQAAAAAAAMHFAAAAAAABAcUAAAAAAAGBxQAAAAAAA8HBA",
          "dtype": "f8"
         },
         "xaxis": "x",
         "y": {
          "bdata": "AAAAAACgb0AAAAAAAOBvQAAAAAAAIHBAAAAAAABgb0AAAAAAAJBwQAAAAAAA4G1AAAAAAAAQcEAAAAAAACBwQAAAAAAAYG9AAAAAAACgcEAAAAAAAKBwQAAAAAAAoG9AAAAAAABgcEAAAAAAAIBwQAAAAAAA4G9AAAAAAACAb0AAAAAAAIBvQAAAAAAAYHBAAAAAAABQcEAAAAAAACBwQAAAAAAAIHBAAAAAAAAwcEAAAAAAAEBwQAAAAAAAgG9AAAAAAADgb0AAAAAAACBwQAAAAAAAQG9AAAAAAADAbUAAAAAAAABwQAAAAAAAEHBAAAAAAAAgb0AAAAAAAIBwQAAAAAAAgHBAAAAAAACgb0AAAAAAAFBwQAAAAAAAUHBAAAAAAABgb0AAAAAAAJBwQAAAAAAAoG9AAAAAAABgb0AAAAAAAEBwQAAAAAAAUHBAAAAAAAAwcEAAAAAAAOBvQAAAAAAAgG9AAAAAAADgb0AAAAAAACBwQAAAAAAAYG9AAAAAAAAgbkAAAAAAAEBwQAAAAAAAMHBAAAAAAABgb0AAAAAAAKBvQAAAAAAAQHBAAAAAAABAb0AAAAAAAIBvQAAAAAAAYG9AAAAAAABAcEAAAAAAACBwQAAAAAAAMHBAAAAAAADgb0AAAAAAAOBvQAAAAAAAIHBAAAAAAAAgcEAAAAAAAKBvQAAAAAAAQG5AAAAAAABAcEAAAAAAAOBvQAAAAAAAoG9AAAAAAABgcEAAAAAAAGBvQAAAAAAAwG9AAAAAAADAb0AAAAAAADBwQAAAAAAAQHBAAAAAAABQcEAAAAAAAOBvQAAAAAAAIHBAAAAAAADgb0AAAAAAAEBuQAAAAAAAYHBAAAAAAABgcEAAAAAAABBwQAAAAAAA4G9AAAAAAADAb0AAAAAAACBwQAAAAAAAAHBAAAAAAAAwcEAAAAAAAABwQAAAAAAAEHBAAAAAAABgcEAAAAAAAGBwQAAAAAAAAG9AAAAAAAAQcEAAAAAAAKBvQAAAAAAAYHBAAAAAAAAAcEAAAAAAAGBwQAAAAAAAkHBAAAAAAAAQcEAAAAAAADBwQAAAAAAAMHBAAAAAAAAAb0AAAAAAAHBwQAAAAAAAwHBAAAAAAADgb0AAAAAAAIBwQAAAAAAAgG9AAAAAAAAwcEAAAAAAAKBvQAAAAAAAcHBAAAAAAABAcEAAAAAAAJBwQAAAAAAAQHBA",
          "dtype": "f8"
         },
         "yaxis": "y"
        },
        {
         "hovertemplate": "above_avg_math8=Above Avg<br>Math=%{x}<br>Reading=%{y}<br>expenditure_per_student=%{marker.size}<extra></extra>",
         "legendgroup": "Above Avg",
         "marker": {
          "color": "green",
          "size": {
           "bdata": "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",
           "dtype": "f8"
          },
          "sizemode": "area",
          "sizeref": 0.0600143520898531,
          "symbol": "circle"
         },
         "mode": "markers",
         "name": "Above Avg",
         "orientation": "v",
         "showlegend": true,
         "type": "scatter",
         "x": {
          "bdata": "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",
          "dtype": "f8"
         },
         "xaxis": "x",
         "y": {
          "bdata": "AAAAAAAAcEAAAAAAAMBwQAAAAAAAsHBAAAAAAACAcEAAAAAAAJBwQAAAAAAAwHBAAAAAAACgcEAAAAAAAMBwQAAAAAAAEHFAAAAAAADAcEAAAAAAALBwQAAAAAAA4HBAAAAAAACgcEAAAAAAAPBwQAAAAAAAwHBAAAAAAACQcEAAAAAAAGBwQAAAAAAA4HBAAAAAAACwcEAAAAAAAIBwQAAAAAAAgHBAAAAAAADgcEAAAAAAAIBwQAAAAAAA8HBAAAAAAADAcEAAAAAAAIBwQAAAAAAAoHBAAAAAAACwcEAAAAAAADBwQAAAAAAAkHBAAAAAAACAcEAAAAAAAKBwQAAAAAAAgHBAAAAAAABQcEAAAAAAALBwQAAAAAAAsHBAAAAAAADgcEAAAAAAACBxQAAAAAAAwHBAAAAAAADQcEAAAAAAALBwQAAAAAAA4HBAAAAAAADQcEAAAAAAAJBwQAAAAAAAIHBAAAAAAADgcEAAAAAAALBwQAAAAAAAcHBAAAAAAACwcEAAAAAAABBwQAAAAAAA0HBAAAAAAAAgcEAAAAAAAGBwQAAAAAAA0HBAAAAAAADAcEAAAAAAAJBwQAAAAAAAoHBAAAAAAADAcEAAAAAAADBwQAAAAAAAoHBAAAAAAACwcEAAAAAAAJBwQAAAAAAAkHBAAAAAAABwcEAAAAAAAIBwQAAAAAAAsHBAAAAAAACwcEAAAAAAAGBwQAAAAAAA4HBAAAAAAACQcEAAAAAAABBxQAAAAAAAwHBAAAAAAABwcEAAAAAAAPBwQAAAAAAAsHBAAAAAAADgcEAAAAAAAOBwQAAAAAAAgHBAAAAAAAAwcEAAAAAAAMBwQAAAAAAAwHBAAAAAAACgcEAAAAAAAMBwQAAAAAAAEHBAAAAAAADgcEAAAAAAAFBwQAAAAAAAYHBAAAAAAAAQcUAAAAAAALBwQAAAAAAAkHBAAAAAAACAcEAAAAAAAKBwQAAAAAAAMHBAAAAAAACgcEAAAAAAAABxQAAAAAAAkHBAAAAAAACAcEAAAAAAAJBwQAAAAAAAkHBAAAAAAACgcEAAAAAAAJBwQAAAAAAAsHBAAAAAAACwcEAAAAAAAMBwQAAAAAAAsHBAAAAAAAAgcUAAAAAAAOBwQAAAAAAAsHBAAAAAAADgcEAAAAAAALBwQAAAAAAA8HBAAAAAAAAQcUAAAAAAAIBwQAAAAAAAQHBAAAAAAADQcEAAAAAAANBwQAAAAAAAkHBAAAAAAADwcEAAAAAAABBwQAAAAAAA4HBAAAAAAABAcEAAAAAAAKBwQAAAAAAAAHFAAAAAAACgcEAAAAAAALBwQAAAAAAAoHBAAAAAAADAcEAAAAAAAFBwQAAAAAAAQHBAAAAAAAAwcEAAAAAAAPBwQAAAAAAAMHFAAAAAAACgcEAAAAAAAMBwQAAAAAAAoHBAAAAAAACQcEAAAAAAAJBwQAAAAAAAsHBAAAAAAADQcEAAAAAAAOBwQAAAAAAA8HBAAAAAAAAwcUAAAAAAAJBwQAAAAAAA4HBAAAAAAACwcEAAAAAAABBxQAAAAAAAwHBAAAAAAAAAcUAAAAAAADBxQAAAAAAAoHBAAAAAAABwcEAAAAAAANBwQAAAAAAAwHBAAAAAAABAcEAAAAAAAIBwQAAAAAAAwHBAAAAAAACQcEAAAAAAAEBwQAAAAAAA0HBAAAAAAABQcEAAAAAAALBwQAAAAAAAIHFAAAAAAACwcEAAAAAAAMBwQAAAAAAAsHBAAAAAAADgcEAAAAAAAFBwQAAAAAAAQHBAAAAAAADwcEAAAAAAACBxQAAAAAAAoHBAAAAAAACgcEAAAAAAAJBwQAAAAAAAQHBAAAAAAADgcEAAAAAAALBwQAAAAAAAsHBAAAAAAADQcEAAAAAAALBwQAAAAAAA4HBAAAAAAADQcEAAAAAAACBxQAAAAAAAUHFAAAAAAACgcEAAAAAAAPBwQAAAAAAAsHBAAAAAAAAAcUAAAAAAANBwQAAAAAAAIHFAAAAAAABAcUAAAAAAAKBwQAAAAAAAkHBAAAAAAADAcEAAAAAAANBwQAAAAAAAwHBAAAAAAAAAcUAAAAAAALBwQAAAAAAAUHBAAAAAAADAcEAAAAAAAIBwQAAAAAAA4HBAAAAAAAAgcUAAAAAAAMBwQAAAAAAAAHFAAAAAAADAcEAAAAAAAPBwQAAAAAAAQHBAAAAAAABwcEAAAAAAAMBwQAAAAAAAEHFAAAAAAABwcEAAAAAAAGBwQAAAAAAAEHBAAAAAAADQcEAAAAAAALBwQAAAAAAAwHBAAAAAAADAcEAAAAAAALBwQAAAAAAAwHBAAAAAAADAcEAAAAAAACBxQAAAAAAA4HBAAAAAAACwcEAAAAAAAOBwQAAAAAAA0HBAAAAAAAAwcUAAAAAAAPBwQAAAAAAAcHBAAAAAAABQcEAAAAAAALBwQAAAAAAAoHBAAAAAAADQcEAAAAAAAJBwQAAAAAAAsHBAAAAAAABQcEAAAAAAANBwQAAAAAAAIHFAAAAAAACwcEAAAAAAALBwQAAAAAAA4HBAAAAAAADQcEA=",
          "dtype": "f8"
         },
         "yaxis": "y"
        }
       ],
       "layout": {
        "font": {
         "color": "Green"
        },
        "legend": {
         "itemsizing": "constant",
         "title": {
          "font": {
           "color": "Red",
           "family": "Lato"
          },
          "text": "Funding"
         },
         "tracegroupgap": 0
        },
        "template": {
         "data": {
          "bar": [
           {
            "error_x": {
             "color": "#2a3f5f"
            },
            "error_y": {
             "color": "#2a3f5f"
            },
            "marker": {
             "line": {
              "color": "#E5ECF6",
              "width": 0.5
             },
             "pattern": {
              "fillmode": "overlay",
              "size": 10,
              "solidity": 0.2
             }
            },
            "type": "bar"
           }
          ],
          "barpolar": [
           {
            "marker": {
             "line": {
              "color": "#E5ECF6",
              "width": 0.5
             },
             "pattern": {
              "fillmode": "overlay",
              "size": 10,
              "solidity": 0.2
             }
            },
            "type": "barpolar"
           }
          ],
          "carpet": [
           {
            "aaxis": {
             "endlinecolor": "#2a3f5f",
             "gridcolor": "white",
             "linecolor": "white",
             "minorgridcolor": "white",
             "startlinecolor": "#2a3f5f"
            },
            "baxis": {
             "endlinecolor": "#2a3f5f",
             "gridcolor": "white",
             "linecolor": "white",
             "minorgridcolor": "white",
             "startlinecolor": "#2a3f5f"
            },
            "type": "carpet"
           }
          ],
          "choropleth": [
           {
            "colorbar": {
             "outlinewidth": 0,
             "ticks": ""
            },
            "type": "choropleth"
           }
          ],
          "contour": [
           {
            "colorbar": {
             "outlinewidth": 0,
             "ticks": ""
            },
            "colorscale": [
             [
              0,
              "#0d0887"
             ],
             [
              0.1111111111111111,
              "#46039f"
             ],
             [
              0.2222222222222222,
              "#7201a8"
             ],
             [
              0.3333333333333333,
              "#9c179e"
             ],
             [
              0.4444444444444444,
              "#bd3786"
             ],
             [
              0.5555555555555556,
              "#d8576b"
             ],
             [
              0.6666666666666666,
              "#ed7953"
             ],
             [
              0.7777777777777778,
              "#fb9f3a"
             ],
             [
              0.8888888888888888,
              "#fdca26"
             ],
             [
              1,
              "#f0f921"
             ]
            ],
            "type": "contour"
           }
          ],
          "contourcarpet": [
           {
            "colorbar": {
             "outlinewidth": 0,
             "ticks": ""
            },
            "type": "contourcarpet"
           }
          ],
          "heatmap": [
           {
            "colorbar": {
             "outlinewidth": 0,
             "ticks": ""
            },
            "colorscale": [
             [
              0,
              "#0d0887"
             ],
             [
              0.1111111111111111,
              "#46039f"
             ],
             [
              0.2222222222222222,
              "#7201a8"
             ],
             [
              0.3333333333333333,
              "#9c179e"
             ],
             [
              0.4444444444444444,
              "#bd3786"
             ],
             [
              0.5555555555555556,
              "#d8576b"
             ],
             [
              0.6666666666666666,
              "#ed7953"
             ],
             [
              0.7777777777777778,
              "#fb9f3a"
             ],
             [
              0.8888888888888888,
              "#fdca26"
             ],
             [
              1,
              "#f0f921"
             ]
            ],
            "type": "heatmap"
           }
          ],
          "histogram": [
           {
            "marker": {
             "pattern": {
              "fillmode": "overlay",
              "size": 10,
              "solidity": 0.2
             }
            },
            "type": "histogram"
           }
          ],
          "histogram2d": [
           {
            "colorbar": {
             "outlinewidth": 0,
             "ticks": ""
            },
            "colorscale": [
             [
              0,
              "#0d0887"
             ],
             [
              0.1111111111111111,
              "#46039f"
             ],
             [
              0.2222222222222222,
              "#7201a8"
             ],
             [
              0.3333333333333333,
              "#9c179e"
             ],
             [
              0.4444444444444444,
              "#bd3786"
             ],
             [
              0.5555555555555556,
              "#d8576b"
             ],
             [
              0.6666666666666666,
              "#ed7953"
             ],
             [
              0.7777777777777778,
              "#fb9f3a"
             ],
             [
              0.8888888888888888,
              "#fdca26"
             ],
             [
              1,
              "#f0f921"
             ]
            ],
            "type": "histogram2d"
           }
          ],
          "histogram2dcontour": [
           {
            "colorbar": {
             "outlinewidth": 0,
             "ticks": ""
            },
            "colorscale": [
             [
              0,
              "#0d0887"
             ],
             [
              0.1111111111111111,
              "#46039f"
             ],
             [
              0.2222222222222222,
              "#7201a8"
             ],
             [
              0.3333333333333333,
              "#9c179e"
             ],
             [
              0.4444444444444444,
              "#bd3786"
             ],
             [
              0.5555555555555556,
              "#d8576b"
             ],
             [
              0.6666666666666666,
              "#ed7953"
             ],
             [
              0.7777777777777778,
              "#fb9f3a"
             ],
             [
              0.8888888888888888,
              "#fdca26"
             ],
             [
              1,
              "#f0f921"
             ]
            ],
            "type": "histogram2dcontour"
           }
          ],
          "mesh3d": [
           {
            "colorbar": {
             "outlinewidth": 0,
             "ticks": ""
            },
            "type": "mesh3d"
           }
          ],
          "parcoords": [
           {
            "line": {
             "colorbar": {
              "outlinewidth": 0,
              "ticks": ""
             }
            },
            "type": "parcoords"
           }
          ],
          "pie": [
           {
            "automargin": true,
            "type": "pie"
           }
          ],
          "scatter": [
           {
            "fillpattern": {
             "fillmode": "overlay",
             "size": 10,
             "solidity": 0.2
            },
            "type": "scatter"
           }
          ],
          "scatter3d": [
           {
            "line": {
             "colorbar": {
              "outlinewidth": 0,
              "ticks": ""
             }
            },
            "marker": {
             "colorbar": {
              "outlinewidth": 0,
              "ticks": ""
             }
            },
            "type": "scatter3d"
           }
          ],
          "scattercarpet": [
           {
            "marker": {
             "colorbar": {
              "outlinewidth": 0,
              "ticks": ""
             }
            },
            "type": "scattercarpet"
           }
          ],
          "scattergeo": [
           {
            "marker": {
             "colorbar": {
              "outlinewidth": 0,
              "ticks": ""
             }
            },
            "type": "scattergeo"
           }
          ],
          "scattergl": [
           {
            "marker": {
             "colorbar": {
              "outlinewidth": 0,
              "ticks": ""
             }
            },
            "type": "scattergl"
           }
          ],
          "scattermap": [
           {
            "marker": {
             "colorbar": {
              "outlinewidth": 0,
              "ticks": ""
             }
            },
            "type": "scattermap"
           }
          ],
          "scattermapbox": [
           {
            "marker": {
             "colorbar": {
              "outlinewidth": 0,
              "ticks": ""
             }
            },
            "type": "scattermapbox"
           }
          ],
          "scatterpolar": [
           {
            "marker": {
             "colorbar": {
              "outlinewidth": 0,
              "ticks": ""
             }
            },
            "type": "scatterpolar"
           }
          ],
          "scatterpolargl": [
           {
            "marker": {
             "colorbar": {
              "outlinewidth": 0,
              "ticks": ""
             }
            },
            "type": "scatterpolargl"
           }
          ],
          "scatterternary": [
           {
            "marker": {
             "colorbar": {
              "outlinewidth": 0,
              "ticks": ""
             }
            },
            "type": "scatterternary"
           }
          ],
          "surface": [
           {
            "colorbar": {
             "outlinewidth": 0,
             "ticks": ""
            },
            "colorscale": [
             [
              0,
              "#0d0887"
             ],
             [
              0.1111111111111111,
              "#46039f"
             ],
             [
              0.2222222222222222,
              "#7201a8"
             ],
             [
              0.3333333333333333,
              "#9c179e"
             ],
             [
              0.4444444444444444,
              "#bd3786"
             ],
             [
              0.5555555555555556,
              "#d8576b"
             ],
             [
              0.6666666666666666,
              "#ed7953"
             ],
             [
              0.7777777777777778,
              "#fb9f3a"
             ],
             [
              0.8888888888888888,
              "#fdca26"
             ],
             [
              1,
              "#f0f921"
             ]
            ],
            "type": "surface"
           }
          ],
          "table": [
           {
            "cells": {
             "fill": {
              "color": "#EBF0F8"
             },
             "line": {
              "color": "white"
             }
            },
            "header": {
             "fill": {
              "color": "#C8D4E3"
             },
             "line": {
              "color": "white"
             }
            },
            "type": "table"
           }
          ]
         },
         "layout": {
          "annotationdefaults": {
           "arrowcolor": "#2a3f5f",
           "arrowhead": 0,
           "arrowwidth": 1
          },
          "autotypenumbers": "strict",
          "coloraxis": {
           "colorbar": {
            "outlinewidth": 0,
            "ticks": ""
           }
          },
          "colorscale": {
           "diverging": [
            [
             0,
             "#8e0152"
            ],
            [
             0.1,
             "#c51b7d"
            ],
            [
             0.2,
             "#de77ae"
            ],
            [
             0.3,
             "#f1b6da"
            ],
            [
             0.4,
             "#fde0ef"
            ],
            [
             0.5,
             "#f7f7f7"
            ],
            [
             0.6,
             "#e6f5d0"
            ],
            [
             0.7,
             "#b8e186"
            ],
            [
             0.8,
             "#7fbc41"
            ],
            [
             0.9,
             "#4d9221"
            ],
            [
             1,
             "#276419"
            ]
           ],
           "sequential": [
            [
             0,
             "#0d0887"
            ],
            [
             0.1111111111111111,
             "#46039f"
            ],
            [
             0.2222222222222222,
             "#7201a8"
            ],
            [
             0.3333333333333333,
             "#9c179e"
            ],
            [
             0.4444444444444444,
             "#bd3786"
            ],
            [
             0.5555555555555556,
             "#d8576b"
            ],
            [
             0.6666666666666666,
             "#ed7953"
            ],
            [
             0.7777777777777778,
             "#fb9f3a"
            ],
            [
             0.8888888888888888,
             "#fdca26"
            ],
            [
             1,
             "#f0f921"
            ]
           ],
           "sequentialminus": [
            [
             0,
             "#0d0887"
            ],
            [
             0.1111111111111111,
             "#46039f"
            ],
            [
             0.2222222222222222,
             "#7201a8"
            ],
            [
             0.3333333333333333,
             "#9c179e"
            ],
            [
             0.4444444444444444,
             "#bd3786"
            ],
            [
             0.5555555555555556,
             "#d8576b"
            ],
            [
             0.6666666666666666,
             "#ed7953"
            ],
            [
             0.7777777777777778,
             "#fb9f3a"
            ],
            [
             0.8888888888888888,
             "#fdca26"
            ],
            [
             1,
             "#f0f921"
            ]
           ]
          },
          "colorway": [
           "#636efa",
           "#EF553B",
           "#00cc96",
           "#ab63fa",
           "#FFA15A",
           "#19d3f3",
           "#FF6692",
           "#B6E880",
           "#FF97FF",
           "#FECB52"
          ],
          "font": {
           "color": "#2a3f5f"
          },
          "geo": {
           "bgcolor": "white",
           "lakecolor": "white",
           "landcolor": "#E5ECF6",
           "showlakes": true,
           "showland": true,
           "subunitcolor": "white"
          },
          "hoverlabel": {
           "align": "left"
          },
          "hovermode": "closest",
          "mapbox": {
           "style": "light"
          },
          "paper_bgcolor": "white",
          "plot_bgcolor": "#E5ECF6",
          "polar": {
           "angularaxis": {
            "gridcolor": "white",
            "linecolor": "white",
            "ticks": ""
           },
           "bgcolor": "#E5ECF6",
           "radialaxis": {
            "gridcolor": "white",
            "linecolor": "white",
            "ticks": ""
           }
          },
          "scene": {
           "xaxis": {
            "backgroundcolor": "#E5ECF6",
            "gridcolor": "white",
            "gridwidth": 2,
            "linecolor": "white",
            "showbackground": true,
            "ticks": "",
            "zerolinecolor": "white"
           },
           "yaxis": {
            "backgroundcolor": "#E5ECF6",
            "gridcolor": "white",
            "gridwidth": 2,
            "linecolor": "white",
            "showbackground": true,
            "ticks": "",
            "zerolinecolor": "white"
           },
           "zaxis": {
            "backgroundcolor": "#E5ECF6",
            "gridcolor": "white",
            "gridwidth": 2,
            "linecolor": "white",
            "showbackground": true,
            "ticks": "",
            "zerolinecolor": "white"
           }
          },
          "shapedefaults": {
           "line": {
            "color": "#2a3f5f"
           }
          },
          "ternary": {
           "aaxis": {
            "gridcolor": "white",
            "linecolor": "white",
            "ticks": ""
           },
           "baxis": {
            "gridcolor": "white",
            "linecolor": "white",
            "ticks": ""
           },
           "bgcolor": "#E5ECF6",
           "caxis": {
            "gridcolor": "white",
            "linecolor": "white",
            "ticks": ""
           }
          },
          "title": {
           "x": 0.05
          },
          "xaxis": {
           "automargin": true,
           "gridcolor": "white",
           "linecolor": "white",
           "ticks": "",
           "title": {
            "standoff": 15
           },
           "zerolinecolor": "white",
           "zerolinewidth": 2
          },
          "yaxis": {
           "automargin": true,
           "gridcolor": "white",
           "linecolor": "white",
           "ticks": "",
           "title": {
            "standoff": 15
           },
           "zerolinecolor": "white",
           "zerolinewidth": 2
          }
         }
        },
        "title": {
         "text": "Relationship between Math, Reading Scores & Student Funding"
        },
        "xaxis": {
         "anchor": "y",
         "domain": [
          0,
          1
         ],
         "title": {
          "text": "Math"
         }
        },
        "yaxis": {
         "anchor": "x",
         "domain": [
          0,
          1
         ],
         "title": {
          "text": "Reading"
         }
        }
       }
      }
     },
     "metadata": {},
     "output_type": "display_data"
    }
   ],
   "source": [
    "px.scatter(\n",
    "    education.dropna(),\n",
    "    x=\"AVG_MATH_8_SCORE\",\n",
    "    y=\"AVG_READING_8_SCORE\",\n",
    "    size=\"expenditure_per_student\",\n",
    "    color=\"above_avg_math8\",\n",
    "    color_discrete_map={\n",
    "        \"Below Avg\": \"orange\",\n",
    "        \"Above Avg\":\"green\"    \n",
    "        },\n",
    "        labels={\"AVG_MATH_8_SCORE\": \"Math\",\n",
    "                \"AVG_READING_8_SCORE\": \"Reading\"},\n",
    "        title=\"Relationship between Math, Reading Scores & Student Funding\",\n",
    ").update_layout(\n",
    "#    legend_title=\"Funding\"\n",
    "    font_color=\"Green\",\n",
    "    legend_title={\n",
    "        \"text\": \"Funding\",\n",
    "        \"font\":{\n",
    "            \"color\":\"Red\",\n",
    "            \"family\": \"Lato\"\n",
    "        }\n",
    "    }\n",
    ")"
   ]
  },
  {
   "cell_type": "code",
   "execution_count": 125,
   "metadata": {},
   "outputs": [
    {
     "data": {
      "application/vnd.plotly.v1+json": {
       "config": {
        "plotlyServerURL": "https://plot.ly"
       },
       "data": [
        {
         "domain": {
          "x": [
           0,
           1
          ],
          "y": [
           0,
           1
          ]
         },
         "hole": 0.6,
         "hovertemplate": "STATE=%{label}<br>GRADES_ALL_G=%{value}<extra></extra>",
         "labels": [
          "CALIFORNIA",
          "OREGON",
          "WASHINGTON"
         ],
         "legendgroup": "",
         "name": "",
         "showlegend": true,
         "type": "pie",
         "values": {
          "bdata": "AAAAgIIMWEEAAAAAHI4iQQAAAABf8TBB",
          "dtype": "f8"
         }
        }
       ],
       "layout": {
        "legend": {
         "tracegroupgap": 0
        },
        "margin": {
         "t": 60
        },
        "template": {
         "data": {
          "bar": [
           {
            "error_x": {
             "color": "#2a3f5f"
            },
            "error_y": {
             "color": "#2a3f5f"
            },
            "marker": {
             "line": {
              "color": "#E5ECF6",
              "width": 0.5
             },
             "pattern": {
              "fillmode": "overlay",
              "size": 10,
              "solidity": 0.2
             }
            },
            "type": "bar"
           }
          ],
          "barpolar": [
           {
            "marker": {
             "line": {
              "color": "#E5ECF6",
              "width": 0.5
             },
             "pattern": {
              "fillmode": "overlay",
              "size": 10,
              "solidity": 0.2
             }
            },
            "type": "barpolar"
           }
          ],
          "carpet": [
           {
            "aaxis": {
             "endlinecolor": "#2a3f5f",
             "gridcolor": "white",
             "linecolor": "white",
             "minorgridcolor": "white",
             "startlinecolor": "#2a3f5f"
            },
            "baxis": {
             "endlinecolor": "#2a3f5f",
             "gridcolor": "white",
             "linecolor": "white",
             "minorgridcolor": "white",
             "startlinecolor": "#2a3f5f"
            },
            "type": "carpet"
           }
          ],
          "choropleth": [
           {
            "colorbar": {
             "outlinewidth": 0,
             "ticks": ""
            },
            "type": "choropleth"
           }
          ],
          "contour": [
           {
            "colorbar": {
             "outlinewidth": 0,
             "ticks": ""
            },
            "colorscale": [
             [
              0,
              "#0d0887"
             ],
             [
              0.1111111111111111,
              "#46039f"
             ],
             [
              0.2222222222222222,
              "#7201a8"
             ],
             [
              0.3333333333333333,
              "#9c179e"
             ],
             [
              0.4444444444444444,
              "#bd3786"
             ],
             [
              0.5555555555555556,
              "#d8576b"
             ],
             [
              0.6666666666666666,
              "#ed7953"
             ],
             [
              0.7777777777777778,
              "#fb9f3a"
             ],
             [
              0.8888888888888888,
              "#fdca26"
             ],
             [
              1,
              "#f0f921"
             ]
            ],
            "type": "contour"
           }
          ],
          "contourcarpet": [
           {
            "colorbar": {
             "outlinewidth": 0,
             "ticks": ""
            },
            "type": "contourcarpet"
           }
          ],
          "heatmap": [
           {
            "colorbar": {
             "outlinewidth": 0,
             "ticks": ""
            },
            "colorscale": [
             [
              0,
              "#0d0887"
             ],
             [
              0.1111111111111111,
              "#46039f"
             ],
             [
              0.2222222222222222,
              "#7201a8"
             ],
             [
              0.3333333333333333,
              "#9c179e"
             ],
             [
              0.4444444444444444,
              "#bd3786"
             ],
             [
              0.5555555555555556,
              "#d8576b"
             ],
             [
              0.6666666666666666,
              "#ed7953"
             ],
             [
              0.7777777777777778,
              "#fb9f3a"
             ],
             [
              0.8888888888888888,
              "#fdca26"
             ],
             [
              1,
              "#f0f921"
             ]
            ],
            "type": "heatmap"
           }
          ],
          "histogram": [
           {
            "marker": {
             "pattern": {
              "fillmode": "overlay",
              "size": 10,
              "solidity": 0.2
             }
            },
            "type": "histogram"
           }
          ],
          "histogram2d": [
           {
            "colorbar": {
             "outlinewidth": 0,
             "ticks": ""
            },
            "colorscale": [
             [
              0,
              "#0d0887"
             ],
             [
              0.1111111111111111,
              "#46039f"
             ],
             [
              0.2222222222222222,
              "#7201a8"
             ],
             [
              0.3333333333333333,
              "#9c179e"
             ],
             [
              0.4444444444444444,
              "#bd3786"
             ],
             [
              0.5555555555555556,
              "#d8576b"
             ],
             [
              0.6666666666666666,
              "#ed7953"
             ],
             [
              0.7777777777777778,
              "#fb9f3a"
             ],
             [
              0.8888888888888888,
              "#fdca26"
             ],
             [
              1,
              "#f0f921"
             ]
            ],
            "type": "histogram2d"
           }
          ],
          "histogram2dcontour": [
           {
            "colorbar": {
             "outlinewidth": 0,
             "ticks": ""
            },
            "colorscale": [
             [
              0,
              "#0d0887"
             ],
             [
              0.1111111111111111,
              "#46039f"
             ],
             [
              0.2222222222222222,
              "#7201a8"
             ],
             [
              0.3333333333333333,
              "#9c179e"
             ],
             [
              0.4444444444444444,
              "#bd3786"
             ],
             [
              0.5555555555555556,
              "#d8576b"
             ],
             [
              0.6666666666666666,
              "#ed7953"
             ],
             [
              0.7777777777777778,
              "#fb9f3a"
             ],
             [
              0.8888888888888888,
              "#fdca26"
             ],
             [
              1,
              "#f0f921"
             ]
            ],
            "type": "histogram2dcontour"
           }
          ],
          "mesh3d": [
           {
            "colorbar": {
             "outlinewidth": 0,
             "ticks": ""
            },
            "type": "mesh3d"
           }
          ],
          "parcoords": [
           {
            "line": {
             "colorbar": {
              "outlinewidth": 0,
              "ticks": ""
             }
            },
            "type": "parcoords"
           }
          ],
          "pie": [
           {
            "automargin": true,
            "type": "pie"
           }
          ],
          "scatter": [
           {
            "fillpattern": {
             "fillmode": "overlay",
             "size": 10,
             "solidity": 0.2
            },
            "type": "scatter"
           }
          ],
          "scatter3d": [
           {
            "line": {
             "colorbar": {
              "outlinewidth": 0,
              "ticks": ""
             }
            },
            "marker": {
             "colorbar": {
              "outlinewidth": 0,
              "ticks": ""
             }
            },
            "type": "scatter3d"
           }
          ],
          "scattercarpet": [
           {
            "marker": {
             "colorbar": {
              "outlinewidth": 0,
              "ticks": ""
             }
            },
            "type": "scattercarpet"
           }
          ],
          "scattergeo": [
           {
            "marker": {
             "colorbar": {
              "outlinewidth": 0,
              "ticks": ""
             }
            },
            "type": "scattergeo"
           }
          ],
          "scattergl": [
           {
            "marker": {
             "colorbar": {
              "outlinewidth": 0,
              "ticks": ""
             }
            },
            "type": "scattergl"
           }
          ],
          "scattermap": [
           {
            "marker": {
             "colorbar": {
              "outlinewidth": 0,
              "ticks": ""
             }
            },
            "type": "scattermap"
           }
          ],
          "scattermapbox": [
           {
            "marker": {
             "colorbar": {
              "outlinewidth": 0,
              "ticks": ""
             }
            },
            "type": "scattermapbox"
           }
          ],
          "scatterpolar": [
           {
            "marker": {
             "colorbar": {
              "outlinewidth": 0,
              "ticks": ""
             }
            },
            "type": "scatterpolar"
           }
          ],
          "scatterpolargl": [
           {
            "marker": {
             "colorbar": {
              "outlinewidth": 0,
              "ticks": ""
             }
            },
            "type": "scatterpolargl"
           }
          ],
          "scatterternary": [
           {
            "marker": {
             "colorbar": {
              "outlinewidth": 0,
              "ticks": ""
             }
            },
            "type": "scatterternary"
           }
          ],
          "surface": [
           {
            "colorbar": {
             "outlinewidth": 0,
             "ticks": ""
            },
            "colorscale": [
             [
              0,
              "#0d0887"
             ],
             [
              0.1111111111111111,
              "#46039f"
             ],
             [
              0.2222222222222222,
              "#7201a8"
             ],
             [
              0.3333333333333333,
              "#9c179e"
             ],
             [
              0.4444444444444444,
              "#bd3786"
             ],
             [
              0.5555555555555556,
              "#d8576b"
             ],
             [
              0.6666666666666666,
              "#ed7953"
             ],
             [
              0.7777777777777778,
              "#fb9f3a"
             ],
             [
              0.8888888888888888,
              "#fdca26"
             ],
             [
              1,
              "#f0f921"
             ]
            ],
            "type": "surface"
           }
          ],
          "table": [
           {
            "cells": {
             "fill": {
              "color": "#EBF0F8"
             },
             "line": {
              "color": "white"
             }
            },
            "header": {
             "fill": {
              "color": "#C8D4E3"
             },
             "line": {
              "color": "white"
             }
            },
            "type": "table"
           }
          ]
         },
         "layout": {
          "annotationdefaults": {
           "arrowcolor": "#2a3f5f",
           "arrowhead": 0,
           "arrowwidth": 1
          },
          "autotypenumbers": "strict",
          "coloraxis": {
           "colorbar": {
            "outlinewidth": 0,
            "ticks": ""
           }
          },
          "colorscale": {
           "diverging": [
            [
             0,
             "#8e0152"
            ],
            [
             0.1,
             "#c51b7d"
            ],
            [
             0.2,
             "#de77ae"
            ],
            [
             0.3,
             "#f1b6da"
            ],
            [
             0.4,
             "#fde0ef"
            ],
            [
             0.5,
             "#f7f7f7"
            ],
            [
             0.6,
             "#e6f5d0"
            ],
            [
             0.7,
             "#b8e186"
            ],
            [
             0.8,
             "#7fbc41"
            ],
            [
             0.9,
             "#4d9221"
            ],
            [
             1,
             "#276419"
            ]
           ],
           "sequential": [
            [
             0,
             "#0d0887"
            ],
            [
             0.1111111111111111,
             "#46039f"
            ],
            [
             0.2222222222222222,
             "#7201a8"
            ],
            [
             0.3333333333333333,
             "#9c179e"
            ],
            [
             0.4444444444444444,
             "#bd3786"
            ],
            [
             0.5555555555555556,
             "#d8576b"
            ],
            [
             0.6666666666666666,
             "#ed7953"
            ],
            [
             0.7777777777777778,
             "#fb9f3a"
            ],
            [
             0.8888888888888888,
             "#fdca26"
            ],
            [
             1,
             "#f0f921"
            ]
           ],
           "sequentialminus": [
            [
             0,
             "#0d0887"
            ],
            [
             0.1111111111111111,
             "#46039f"
            ],
            [
             0.2222222222222222,
             "#7201a8"
            ],
            [
             0.3333333333333333,
             "#9c179e"
            ],
            [
             0.4444444444444444,
             "#bd3786"
            ],
            [
             0.5555555555555556,
             "#d8576b"
            ],
            [
             0.6666666666666666,
             "#ed7953"
            ],
            [
             0.7777777777777778,
             "#fb9f3a"
            ],
            [
             0.8888888888888888,
             "#fdca26"
            ],
            [
             1,
             "#f0f921"
            ]
           ]
          },
          "colorway": [
           "#636efa",
           "#EF553B",
           "#00cc96",
           "#ab63fa",
           "#FFA15A",
           "#19d3f3",
           "#FF6692",
           "#B6E880",
           "#FF97FF",
           "#FECB52"
          ],
          "font": {
           "color": "#2a3f5f"
          },
          "geo": {
           "bgcolor": "white",
           "lakecolor": "white",
           "landcolor": "#E5ECF6",
           "showlakes": true,
           "showland": true,
           "subunitcolor": "white"
          },
          "hoverlabel": {
           "align": "left"
          },
          "hovermode": "closest",
          "mapbox": {
           "style": "light"
          },
          "paper_bgcolor": "white",
          "plot_bgcolor": "#E5ECF6",
          "polar": {
           "angularaxis": {
            "gridcolor": "white",
            "linecolor": "white",
            "ticks": ""
           },
           "bgcolor": "#E5ECF6",
           "radialaxis": {
            "gridcolor": "white",
            "linecolor": "white",
            "ticks": ""
           }
          },
          "scene": {
           "xaxis": {
            "backgroundcolor": "#E5ECF6",
            "gridcolor": "white",
            "gridwidth": 2,
            "linecolor": "white",
            "showbackground": true,
            "ticks": "",
            "zerolinecolor": "white"
           },
           "yaxis": {
            "backgroundcolor": "#E5ECF6",
            "gridcolor": "white",
            "gridwidth": 2,
            "linecolor": "white",
            "showbackground": true,
            "ticks": "",
            "zerolinecolor": "white"
           },
           "zaxis": {
            "backgroundcolor": "#E5ECF6",
            "gridcolor": "white",
            "gridwidth": 2,
            "linecolor": "white",
            "showbackground": true,
            "ticks": "",
            "zerolinecolor": "white"
           }
          },
          "shapedefaults": {
           "line": {
            "color": "#2a3f5f"
           }
          },
          "ternary": {
           "aaxis": {
            "gridcolor": "white",
            "linecolor": "white",
            "ticks": ""
           },
           "baxis": {
            "gridcolor": "white",
            "linecolor": "white",
            "ticks": ""
           },
           "bgcolor": "#E5ECF6",
           "caxis": {
            "gridcolor": "white",
            "linecolor": "white",
            "ticks": ""
           }
          },
          "title": {
           "x": 0.05
          },
          "xaxis": {
           "automargin": true,
           "gridcolor": "white",
           "linecolor": "white",
           "ticks": "",
           "title": {
            "standoff": 15
           },
           "zerolinecolor": "white",
           "zerolinewidth": 2
          },
          "yaxis": {
           "automargin": true,
           "gridcolor": "white",
           "linecolor": "white",
           "ticks": "",
           "title": {
            "standoff": 15
           },
           "zerolinecolor": "white",
           "zerolinewidth": 2
          }
         }
        }
       }
      }
     },
     "metadata": {},
     "output_type": "display_data"
    }
   ],
   "source": [
    "px.pie(\n",
    "    education.query(\"YEAR == 2017 and STATE in ['CALIFORNIA','OREGON','WASHINGTON']\"),\n",
    "    values=\"GRADES_ALL_G\",\n",
    "    names=\"STATE\",\n",
    "    hole=.6,\n",
    "    #category_orders={\"STATE\": [ \"CALIFORNIA\", \"WASHINGTON\", \"OREGON\" ] }\n",
    "    \n",
    ")"
   ]
  }
 ],
 "metadata": {
  "kernelspec": {
   "display_name": "Python 3",
   "language": "python",
   "name": "python3"
  },
  "language_info": {
   "codemirror_mode": {
    "name": "ipython",
    "version": 3
   },
   "file_extension": ".py",
   "mimetype": "text/x-python",
   "name": "python",
   "nbconvert_exporter": "python",
   "pygments_lexer": "ipython3",
   "version": "3.11.9"
  }
 },
 "nbformat": 4,
 "nbformat_minor": 2
}
