{
 "cells": [
  {
   "cell_type": "code",
   "execution_count": null,
   "metadata": {},
   "outputs": [
    {
     "name": "stderr",
     "output_type": "stream",
     "text": [
      "C:\\Users\\bgran\\AppData\\Local\\Temp\\ipykernel_23144\\3138468794.py:23: DeprecationWarning: connections() is deprecated and will be removed; use net_connections() instead\n",
      "  for conn in proc.connections(kind='inet'):\n"
     ]
    },
    {
     "name": "stdout",
     "output_type": "stream",
     "text": [
      "Rodando na porta 55682\n"
     ]
    },
    {
     "ename": "NameError",
     "evalue": "name 'app' is not defined",
     "output_type": "error",
     "traceback": [
      "\u001b[31m---------------------------------------------------------------------------\u001b[39m",
      "\u001b[31mNameError\u001b[39m                                 Traceback (most recent call last)",
      "\u001b[36mCell\u001b[39m\u001b[36m \u001b[39m\u001b[32mIn[2]\u001b[39m\u001b[32m, line 34\u001b[39m\n\u001b[32m     32\u001b[39m kill_previous_process(port)\n\u001b[32m     33\u001b[39m \u001b[38;5;28mprint\u001b[39m(\u001b[33mf\u001b[39m\u001b[33m\"\u001b[39m\u001b[33mRodando na porta \u001b[39m\u001b[38;5;132;01m{\u001b[39;00mport\u001b[38;5;132;01m}\u001b[39;00m\u001b[33m\"\u001b[39m)\n\u001b[32m---> \u001b[39m\u001b[32m34\u001b[39m \u001b[43mapp\u001b[49m.run(port=port)\n",
      "\u001b[31mNameError\u001b[39m: name 'app' is not defined"
     ]
    }
   ],
   "source": [
    "import socket\n",
    "import psutil\n",
    "import os\n",
    "from dash import Dash, html, dcc\n",
    "\n",
    "DEFAULT_PORT = 8050  # Porta padrão\n",
    "\n",
    "def find_free_port():\n",
    "    \"\"\"Tenta usar a porta padrão; se estiver ocupada, encontra uma livre.\"\"\"\n",
    "    with socket.socket(socket.AF_INET, socket.SOCK_STREAM) as s:\n",
    "        if s.connect_ex((\"127.0.0.1\", DEFAULT_PORT)) != 0:\n",
    "            return DEFAULT_PORT  # Porta padrão está livre, então usa ela.\n",
    "\n",
    "    # Se a porta padrão estiver ocupada, busca uma nova\n",
    "    with socket.socket(socket.AF_INET, socket.SOCK_STREAM) as s:\n",
    "        s.bind((\"127.0.0.1\", 0))  # Pega uma porta livre automaticamente\n",
    "        return s.getsockname()[1]  # Retorna o número da porta disponível\n",
    "\n",
    "def kill_previous_process(port):\n",
    "    \"\"\"Encerra processos rodando na porta especificada (Windows compatível).\"\"\"\n",
    "    for proc in psutil.process_iter(attrs=['pid', 'name']):\n",
    "        try:\n",
    "            for conn in proc.connections(kind='inet'):\n",
    "                if conn.laddr.port == port:\n",
    "                    print(f\"Encerrando processo {proc.pid} ({proc.name()}) na porta {port}...\")\n",
    "                    os.kill(proc.pid, 9)  # Mata o processo\n",
    "        except (psutil.NoSuchProcess, psutil.AccessDenied, psutil.ZombieProcess):\n",
    "            pass  # Ignora processos inacessíveis\n",
    "\n",
    "#Código#\n",
    "\n",
    "\n",
    "\n",
    "\n",
    "\n",
    "\n",
    "\n",
    "\n",
    "\n",
    "\n",
    "if __name__ == \"__main__\":\n",
    "    port = find_free_port()\n",
    "    kill_previous_process(port)\n",
    "    print(f\"Rodando na porta {port}\")\n",
    "    app.run(port=port)"
   ]
  }
 ],
 "metadata": {
  "kernelspec": {
   "display_name": "Python 3",
   "language": "python",
   "name": "python3"
  },
  "language_info": {
   "codemirror_mode": {
    "name": "ipython",
    "version": 3
   },
   "file_extension": ".py",
   "mimetype": "text/x-python",
   "name": "python",
   "nbconvert_exporter": "python",
   "pygments_lexer": "ipython3",
   "version": "3.11.9"
  }
 },
 "nbformat": 4,
 "nbformat_minor": 2
}
