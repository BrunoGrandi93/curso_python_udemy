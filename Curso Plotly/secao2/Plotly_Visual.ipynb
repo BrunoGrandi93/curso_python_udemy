{
 "cells": [
  {
   "cell_type": "code",
   "execution_count": 62,
   "metadata": {},
   "outputs": [
    {
     "data": {
      "text/html": [
       "<div>\n",
       "<style scoped>\n",
       "    .dataframe tbody tr th:only-of-type {\n",
       "        vertical-align: middle;\n",
       "    }\n",
       "\n",
       "    .dataframe tbody tr th {\n",
       "        vertical-align: top;\n",
       "    }\n",
       "\n",
       "    .dataframe thead th {\n",
       "        text-align: right;\n",
       "    }\n",
       "</style>\n",
       "<table border=\"1\" class=\"dataframe\">\n",
       "  <thead>\n",
       "    <tr style=\"text-align: right;\">\n",
       "      <th></th>\n",
       "      <th>dataset</th>\n",
       "      <th>x</th>\n",
       "      <th>y</th>\n",
       "    </tr>\n",
       "  </thead>\n",
       "  <tbody>\n",
       "    <tr>\n",
       "      <th>0</th>\n",
       "      <td>I</td>\n",
       "      <td>10.0</td>\n",
       "      <td>8.04</td>\n",
       "    </tr>\n",
       "    <tr>\n",
       "      <th>1</th>\n",
       "      <td>I</td>\n",
       "      <td>8.0</td>\n",
       "      <td>6.95</td>\n",
       "    </tr>\n",
       "    <tr>\n",
       "      <th>2</th>\n",
       "      <td>I</td>\n",
       "      <td>13.0</td>\n",
       "      <td>7.58</td>\n",
       "    </tr>\n",
       "    <tr>\n",
       "      <th>3</th>\n",
       "      <td>I</td>\n",
       "      <td>9.0</td>\n",
       "      <td>8.81</td>\n",
       "    </tr>\n",
       "    <tr>\n",
       "      <th>4</th>\n",
       "      <td>I</td>\n",
       "      <td>11.0</td>\n",
       "      <td>8.33</td>\n",
       "    </tr>\n",
       "  </tbody>\n",
       "</table>\n",
       "</div>"
      ],
      "text/plain": [
       "  dataset     x     y\n",
       "0       I  10.0  8.04\n",
       "1       I   8.0  6.95\n",
       "2       I  13.0  7.58\n",
       "3       I   9.0  8.81\n",
       "4       I  11.0  8.33"
      ]
     },
     "execution_count": 62,
     "metadata": {},
     "output_type": "execute_result"
    }
   ],
   "source": [
    "import seaborn as sns\n",
    "import numpy as np\n",
    "import pandas as pd\n",
    "import matplotlib.pyplot as plt\n",
    "\n",
    "df = sns.load_dataset(\"anscombe\")\n",
    "df.head()"
   ]
  },
  {
   "cell_type": "code",
   "execution_count": 65,
   "metadata": {},
   "outputs": [],
   "source": [
    "# df[\"dataset\"].unique()\n",
    "\n",
    "# df.query(\"dataset == 'III'\")\n",
    "\n",
    "# import plotly.express as px\n",
    "\n",
    "# px.scatter(\n",
    "#     df.query(\"dataset == 'II'\"),\n",
    "#     x=\"x\",\n",
    "#     y=\"y\"\n",
    "#     )"
   ]
  },
  {
   "cell_type": "code",
   "execution_count": 68,
   "metadata": {},
   "outputs": [
    {
     "name": "stderr",
     "output_type": "stream",
     "text": [
      "C:\\Users\\bgran\\AppData\\Local\\Temp\\ipykernel_28956\\3315473517.py:24: DeprecationWarning:\n",
      "\n",
      "connections() is deprecated and will be removed; use net_connections() instead\n",
      "\n"
     ]
    },
    {
     "name": "stdout",
     "output_type": "stream",
     "text": [
      "Rodando na porta 58478\n"
     ]
    },
    {
     "data": {
      "text/html": [
       "\n",
       "        <iframe\n",
       "            width=\"100%\"\n",
       "            height=\"650\"\n",
       "            src=\"http://127.0.0.1:58478/\"\n",
       "            frameborder=\"0\"\n",
       "            allowfullscreen\n",
       "            \n",
       "        ></iframe>\n",
       "        "
      ],
      "text/plain": [
       "<IPython.lib.display.IFrame at 0x11c6c3188d0>"
      ]
     },
     "metadata": {},
     "output_type": "display_data"
    }
   ],
   "source": [
    "import socket\n",
    "import psutil\n",
    "import os\n",
    "from dash import Dash, html, dcc\n",
    "from dash.dependencies import Input, Output\n",
    "\n",
    "DEFAULT_PORT = 8050  # Porta padrão\n",
    "\n",
    "def find_free_port():\n",
    "    \"\"\"Tenta usar a porta padrão; se estiver ocupada, encontra uma livre.\"\"\"\n",
    "    with socket.socket(socket.AF_INET, socket.SOCK_STREAM) as s:\n",
    "        if s.connect_ex((\"127.0.0.1\", DEFAULT_PORT)) != 0:\n",
    "            return DEFAULT_PORT  # Porta padrão está livre, então usa ela.\n",
    "\n",
    "    # Se a porta padrão estiver ocupada, busca uma nova\n",
    "    with socket.socket(socket.AF_INET, socket.SOCK_STREAM) as s:\n",
    "        s.bind((\"127.0.0.1\", 0))  # Pega uma porta livre automaticamente\n",
    "        return s.getsockname()[1]  # Retorna o número da porta disponível\n",
    "\n",
    "def kill_previous_process(port):\n",
    "    \"\"\"Encerra processos rodando na porta especificada (Windows compatível).\"\"\"\n",
    "    for proc in psutil.process_iter(attrs=['pid', 'name']):\n",
    "        try:\n",
    "            for conn in proc.connections(kind='inet'):\n",
    "                if conn.laddr.port == port:\n",
    "                    print(f\"Encerrando processo {proc.pid} ({proc.name()}) na porta {port}...\")\n",
    "                    os.kill(proc.pid, 9)  # Mata o processo\n",
    "        except (psutil.NoSuchProcess, psutil.AccessDenied, psutil.ZombieProcess):\n",
    "            pass  # Ignora processos inacessíveis\n",
    "\n",
    "app = Dash(__name__)\n",
    "\n",
    "app.layout = html.Div([\n",
    "    html.H3(\"Anscombe's Quartet\"),\n",
    "    dcc.Dropdown(id=\"dropdown\", options=df[\"dataset\"].unique()),\n",
    "    dcc.Graph(\n",
    "        id=\"visual\",\n",
    "        figure = px.scatter(\n",
    "            df.query (f\"dataset == 'II' \"),\n",
    "            x=\"x\",\n",
    "            y=\"y\"\n",
    "        ))\n",
    "])\n",
    "\n",
    "@app.callback(Output(\"visual\", \"figure\"), Input(\"dropdown\", \"value\"))\n",
    "def anscombes_scatter(dataset):\n",
    "    figure=px.scatter(\n",
    "        df.query (f\"dataset == '{dataset}'\"),\n",
    "        x=\"x\",\n",
    "        y=\"y\"\n",
    "        )\n",
    "    return figure\n",
    "\n",
    "if __name__ == \"__main__\":\n",
    "    port = find_free_port()\n",
    "    kill_previous_process(port)\n",
    "    print(f\"Rodando na porta {port}\")\n",
    "    app.run(port=port)"
   ]
  }
 ],
 "metadata": {
  "kernelspec": {
   "display_name": "Python 3",
   "language": "python",
   "name": "python3"
  },
  "language_info": {
   "codemirror_mode": {
    "name": "ipython",
    "version": 3
   },
   "file_extension": ".py",
   "mimetype": "text/x-python",
   "name": "python",
   "nbconvert_exporter": "python",
   "pygments_lexer": "ipython3",
   "version": "3.11.9"
  }
 },
 "nbformat": 4,
 "nbformat_minor": 2
}
