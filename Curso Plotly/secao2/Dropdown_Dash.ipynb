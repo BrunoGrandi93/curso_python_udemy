{
 "cells": [
  {
   "cell_type": "code",
   "execution_count": 6,
   "metadata": {},
   "outputs": [
    {
     "name": "stderr",
     "output_type": "stream",
     "text": [
      "C:\\Users\\bgran\\AppData\\Local\\Temp\\ipykernel_2084\\2817144321.py:24: DeprecationWarning:\n",
      "\n",
      "connections() is deprecated and will be removed; use net_connections() instead\n",
      "\n"
     ]
    },
    {
     "name": "stdout",
     "output_type": "stream",
     "text": [
      "Rodando na porta 55758\n"
     ]
    },
    {
     "data": {
      "text/html": [
       "\n",
       "        <iframe\n",
       "            width=\"100%\"\n",
       "            height=\"650\"\n",
       "            src=\"http://127.0.0.1:55758/\"\n",
       "            frameborder=\"0\"\n",
       "            allowfullscreen\n",
       "            \n",
       "        ></iframe>\n",
       "        "
      ],
      "text/plain": [
       "<IPython.lib.display.IFrame at 0x1a33b12d090>"
      ]
     },
     "metadata": {},
     "output_type": "display_data"
    }
   ],
   "source": [
    "import socket\n",
    "import psutil\n",
    "import os\n",
    "from dash import Dash, html, dcc\n",
    "from dash.dependencies import Input, Output\n",
    "\n",
    "DEFAULT_PORT = 8050  # Porta padrão\n",
    "\n",
    "def find_free_port():\n",
    "    \"\"\"Tenta usar a porta padrão; se estiver ocupada, encontra uma livre.\"\"\"\n",
    "    with socket.socket(socket.AF_INET, socket.SOCK_STREAM) as s:\n",
    "        if s.connect_ex((\"127.0.0.1\", DEFAULT_PORT)) != 0:\n",
    "            return DEFAULT_PORT  # Porta padrão está livre, então usa ela.\n",
    "\n",
    "    # Se a porta padrão estiver ocupada, busca uma nova\n",
    "    with socket.socket(socket.AF_INET, socket.SOCK_STREAM) as s:\n",
    "        s.bind((\"127.0.0.1\", 0))  # Pega uma porta livre automaticamente\n",
    "        return s.getsockname()[1]  # Retorna o número da porta disponível\n",
    "\n",
    "def kill_previous_process(port):\n",
    "    \"\"\"Encerra processos rodando na porta especificada (Windows compatível).\"\"\"\n",
    "    for proc in psutil.process_iter(attrs=['pid', 'name']):\n",
    "        try:\n",
    "            for conn in proc.connections(kind='inet'):\n",
    "                if conn.laddr.port == port:\n",
    "                    print(f\"Encerrando processo {proc.pid} ({proc.name()}) na porta {port}...\")\n",
    "                    os.kill(proc.pid, 9)  # Mata o processo\n",
    "        except (psutil.NoSuchProcess, psutil.AccessDenied, psutil.ZombieProcess):\n",
    "            pass  # Ignora processos inacessíveis\n",
    "\n",
    "app = Dash(__name__)\n",
    "\n",
    "app.layout = html.Div([\n",
    "    \"Escolha um país\",\n",
    "    dcc.Dropdown(\n",
    "    options=[\"Brasil\", \"Alemanha\", \"Espanha\", \"China\"],\n",
    "    value=\"Espanha\",\n",
    "    id=\"country_dropdown\"\n",
    "    ),\n",
    "    html.H3(id=\"country_output\")\n",
    "])\n",
    "\n",
    "@app.callback(\n",
    "    Output(\"country_output\",\"children\"),\n",
    "    Input(\"country_dropdown\",\"value\")\n",
    "    )\n",
    "def country_picker(country):\n",
    "    return f\"Meu país é: {country}\"\n",
    "\n",
    "if __name__ == \"__main__\":\n",
    "    port = find_free_port()\n",
    "    kill_previous_process(port)\n",
    "    print(f\"Rodando na porta {port}\")\n",
    "    app.run(port=port)"
   ]
  }
 ],
 "metadata": {
  "kernelspec": {
   "display_name": "Python 3",
   "language": "python",
   "name": "python3"
  },
  "language_info": {
   "codemirror_mode": {
    "name": "ipython",
    "version": 3
   },
   "file_extension": ".py",
   "mimetype": "text/x-python",
   "name": "python",
   "nbconvert_exporter": "python",
   "pygments_lexer": "ipython3",
   "version": "3.11.9"
  }
 },
 "nbformat": 4,
 "nbformat_minor": 2
}
