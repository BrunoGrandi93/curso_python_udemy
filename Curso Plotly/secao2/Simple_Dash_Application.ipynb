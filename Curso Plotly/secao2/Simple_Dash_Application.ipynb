{
 "cells": [
  {
   "cell_type": "code",
   "execution_count": 5,
   "metadata": {},
   "outputs": [
    {
     "name": "stderr",
     "output_type": "stream",
     "text": [
      "C:\\Users\\bgran\\AppData\\Local\\Temp\\ipykernel_30444\\3050605412.py:24: DeprecationWarning:\n",
      "\n",
      "connections() is deprecated and will be removed; use net_connections() instead\n",
      "\n"
     ]
    },
    {
     "name": "stdout",
     "output_type": "stream",
     "text": [
      "Rodando na porta 59186\n"
     ]
    },
    {
     "data": {
      "text/html": [
       "\n",
       "        <iframe\n",
       "            width=\"100%\"\n",
       "            height=\"650\"\n",
       "            src=\"http://127.0.0.1:59186/\"\n",
       "            frameborder=\"0\"\n",
       "            allowfullscreen\n",
       "            \n",
       "        ></iframe>\n",
       "        "
      ],
      "text/plain": [
       "<IPython.lib.display.IFrame at 0x26e9bf61e10>"
      ]
     },
     "metadata": {},
     "output_type": "display_data"
    },
    {
     "name": "stderr",
     "output_type": "stream",
     "text": [
      "[2025-03-16 13:10:31,653] ERROR in app: Exception on /_dash-update-component [POST]\n",
      "Traceback (most recent call last):\n",
      "  File \"C:\\Users\\bgran\\AppData\\Local\\Packages\\PythonSoftwareFoundation.Python.3.11_qbz5n2kfra8p0\\LocalCache\\local-packages\\Python311\\site-packages\\flask\\app.py\", line 1473, in wsgi_app\n",
      "    response = self.full_dispatch_request()\n",
      "               ^^^^^^^^^^^^^^^^^^^^^^^^^^^^\n",
      "  File \"C:\\Users\\bgran\\AppData\\Local\\Packages\\PythonSoftwareFoundation.Python.3.11_qbz5n2kfra8p0\\LocalCache\\local-packages\\Python311\\site-packages\\flask\\app.py\", line 882, in full_dispatch_request\n",
      "    rv = self.handle_user_exception(e)\n",
      "         ^^^^^^^^^^^^^^^^^^^^^^^^^^^^^\n",
      "  File \"C:\\Users\\bgran\\AppData\\Local\\Packages\\PythonSoftwareFoundation.Python.3.11_qbz5n2kfra8p0\\LocalCache\\local-packages\\Python311\\site-packages\\flask\\app.py\", line 880, in full_dispatch_request\n",
      "    rv = self.dispatch_request()\n",
      "         ^^^^^^^^^^^^^^^^^^^^^^^\n",
      "  File \"C:\\Users\\bgran\\AppData\\Local\\Packages\\PythonSoftwareFoundation.Python.3.11_qbz5n2kfra8p0\\LocalCache\\local-packages\\Python311\\site-packages\\flask\\app.py\", line 865, in dispatch_request\n",
      "    return self.ensure_sync(self.view_functions[rule.endpoint])(**view_args)  # type: ignore[no-any-return]\n",
      "           ^^^^^^^^^^^^^^^^^^^^^^^^^^^^^^^^^^^^^^^^^^^^^^^^^^^^^^^^^^^^^^^^^\n",
      "  File \"C:\\Users\\bgran\\AppData\\Local\\Packages\\PythonSoftwareFoundation.Python.3.11_qbz5n2kfra8p0\\LocalCache\\local-packages\\Python311\\site-packages\\dash\\dash.py\", line 1376, in dispatch\n",
      "    ctx.run(\n",
      "  File \"C:\\Users\\bgran\\AppData\\Local\\Packages\\PythonSoftwareFoundation.Python.3.11_qbz5n2kfra8p0\\LocalCache\\local-packages\\Python311\\site-packages\\dash\\_callback.py\", line 507, in add_context\n",
      "    raise err\n",
      "  File \"C:\\Users\\bgran\\AppData\\Local\\Packages\\PythonSoftwareFoundation.Python.3.11_qbz5n2kfra8p0\\LocalCache\\local-packages\\Python311\\site-packages\\dash\\_callback.py\", line 496, in add_context\n",
      "    output_value = _invoke_callback(func, *func_args, **func_kwargs)\n",
      "                   ^^^^^^^^^^^^^^^^^^^^^^^^^^^^^^^^^^^^^^^^^^^^^^^^^\n",
      "  File \"C:\\Users\\bgran\\AppData\\Local\\Packages\\PythonSoftwareFoundation.Python.3.11_qbz5n2kfra8p0\\LocalCache\\local-packages\\Python311\\site-packages\\dash\\_callback.py\", line 43, in _invoke_callback\n",
      "    return func(*args, **kwargs)  # %% callback invoked %%\n",
      "           ^^^^^^^^^^^^^^^^^^^^^\n",
      "  File \"C:\\Users\\bgran\\AppData\\Local\\Temp\\ipykernel_30444\\3050605412.py\", line 49, in update_output_div\n",
      "    raise PreventUpdate\n",
      "          ^^^^^^^^^^^^^\n",
      "NameError: name 'PreventUpdate' is not defined\n"
     ]
    }
   ],
   "source": [
    "import socket\n",
    "import psutil\n",
    "import os\n",
    "from dash import Dash, html, dcc\n",
    "from dash.dependencies import Input, Output\n",
    "\n",
    "DEFAULT_PORT = 8050  # Porta padrão\n",
    "\n",
    "def find_free_port():\n",
    "    \"\"\"Tenta usar a porta padrão; se estiver ocupada, encontra uma livre.\"\"\"\n",
    "    with socket.socket(socket.AF_INET, socket.SOCK_STREAM) as s:\n",
    "        if s.connect_ex((\"127.0.0.1\", DEFAULT_PORT)) != 0:\n",
    "            return DEFAULT_PORT  # Porta padrão está livre, então usa ela.\n",
    "\n",
    "    # Se a porta padrão estiver ocupada, busca uma nova\n",
    "    with socket.socket(socket.AF_INET, socket.SOCK_STREAM) as s:\n",
    "        s.bind((\"127.0.0.1\", 0))  # Pega uma porta livre automaticamente\n",
    "        return s.getsockname()[1]  # Retorna o número da porta disponível\n",
    "\n",
    "def kill_previous_process(port):\n",
    "    \"\"\"Encerra processos rodando na porta especificada (Windows compatível).\"\"\"\n",
    "    for proc in psutil.process_iter(attrs=['pid', 'name']):\n",
    "        try:\n",
    "            for conn in proc.connections(kind='inet'):\n",
    "                if conn.laddr.port == port:\n",
    "                    print(f\"Encerrando processo {proc.pid} ({proc.name()}) na porta {port}...\")\n",
    "                    os.kill(proc.pid, 9)  # Mata o processo\n",
    "        except (psutil.NoSuchProcess, psutil.AccessDenied, psutil.ZombieProcess):\n",
    "            pass  # Ignora processos inacessíveis\n",
    "\n",
    "app = Dash(__name__)\n",
    "\n",
    "app.layout = html.Div(\n",
    "    [\"Selecione um estado para analisar:\",\n",
    "     dcc.Dropdown(\n",
    "         id=\"Dropdown Estados\",\n",
    "         options=[\"São Paulo\",\"Rio de Janeiro\",\"Minas Gerais\"]\n",
    "     ),\n",
    "     html.Div(id=\"text_output\")]\n",
    ")\n",
    "\n",
    "@app.callback(\n",
    "    Output(\"text_output\", \"children\"),\n",
    "    Input(\"Dropdown Estados\", \"value\")\n",
    ")\n",
    "\n",
    "def update_output_div(state):\n",
    "    if not state:\n",
    "        raise PreventUpdate\n",
    "    return f\"Estado Selecionado: {state}\"\n",
    "\n",
    "if __name__ == \"__main__\":\n",
    "    port = find_free_port()\n",
    "    kill_previous_process(port)\n",
    "    print(f\"Rodando na porta {port}\")\n",
    "    app.run(port=port)"
   ]
  }
 ],
 "metadata": {
  "kernelspec": {
   "display_name": "Python 3",
   "language": "python",
   "name": "python3"
  },
  "language_info": {
   "codemirror_mode": {
    "name": "ipython",
    "version": 3
   },
   "file_extension": ".py",
   "mimetype": "text/x-python",
   "name": "python",
   "nbconvert_exporter": "python",
   "pygments_lexer": "ipython3",
   "version": "3.11.9"
  }
 },
 "nbformat": 4,
 "nbformat_minor": 2
}
