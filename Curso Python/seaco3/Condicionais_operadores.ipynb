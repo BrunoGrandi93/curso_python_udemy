{
 "cells": [
  {
   "cell_type": "markdown",
   "metadata": {},
   "source": [
    "# Seção 3 - Condionais e loops\n",
    "\n",
    "Palavras chave: *Control flow* ou *Control structures*\n",
    "\n",
    "Essa aula é inspirada em: https://docs.python.org/3/tutorial/controlflow.html"
   ]
  },
  {
   "cell_type": "markdown",
   "metadata": {},
   "source": [
    "## 3.1 Condicional *if*\n",
    "\n",
    "### Construções\n",
    "- **if** condição:\n",
    "- **elif** condição:\n",
    "- **else:**\n",
    "\n",
    "### Operações booleanas\n",
    "Além dos comparadores, também podemos fazer operações booleanas. Elas são úteis em estruturas condicionais. Duas delas são: **or** e **and**.\n",
    "\n",
    "\n",
    "Acesse: https://docs.python.org/3/library/stdtypes.html#"
   ]
  },
  {
   "cell_type": "code",
   "execution_count": 8,
   "metadata": {},
   "outputs": [
    {
     "name": "stdout",
     "output_type": "stream",
     "text": [
      "Positivo\n"
     ]
    }
   ],
   "source": [
    "x = 5\n",
    "\n",
    "if x > 0:\n",
    "    print('Positivo')\n",
    "elif x < 0:\n",
    "    print('Negativo')\n",
    "else:\n",
    "    print('NDA')"
   ]
  },
  {
   "cell_type": "code",
   "execution_count": 11,
   "metadata": {},
   "outputs": [
    {
     "name": "stdout",
     "output_type": "stream",
     "text": [
      "Numero\n"
     ]
    }
   ],
   "source": [
    "x = 'Numero'\n",
    "\n",
    "if x == 'Numero':\n",
    "    print(x)"
   ]
  },
  {
   "cell_type": "code",
   "execution_count": 19,
   "metadata": {},
   "outputs": [
    {
     "name": "stdout",
     "output_type": "stream",
     "text": [
      "string\n"
     ]
    }
   ],
   "source": [
    "y = 'adhaushd'\n",
    "\n",
    "if type(y) is str:\n",
    "    print('string')"
   ]
  },
  {
   "cell_type": "code",
   "execution_count": 20,
   "metadata": {},
   "outputs": [
    {
     "name": "stdout",
     "output_type": "stream",
     "text": [
      "5\n"
     ]
    }
   ],
   "source": [
    "z = 5\n",
    "\n",
    "if type(z) is not str:\n",
    "    print(z)"
   ]
  },
  {
   "cell_type": "code",
   "execution_count": 28,
   "metadata": {},
   "outputs": [
    {
     "name": "stdout",
     "output_type": "stream",
     "text": [
      "9\n"
     ]
    }
   ],
   "source": [
    "x = 9\n",
    "\n",
    "if x > 4 and x < 10:\n",
    "    print(x)"
   ]
  },
  {
   "cell_type": "code",
   "execution_count": 27,
   "metadata": {},
   "outputs": [
    {
     "name": "stdout",
     "output_type": "stream",
     "text": [
      "-9\n"
     ]
    }
   ],
   "source": [
    "x = -9\n",
    "\n",
    "if x > 4 or x < 10:\n",
    "    print(x)"
   ]
  },
  {
   "cell_type": "markdown",
   "metadata": {},
   "source": [
    "## 3.2 Loop *for*\n",
    "\n",
    "\n",
    "- **for** variável **in** o_que_será_iterado:\n",
    "\n",
    "Há uma série de tipos que podem ser utilizado como iteradores, como:\n",
    "- range --> seus elementos são inteiros\n",
    "- list --> seus elementos são os que estão contidos na lista\n",
    "- enumerate --> seus elementos são tuplas que contem inteiros e valores\n",
    "\n"
   ]
  },
  {
   "cell_type": "code",
   "execution_count": 29,
   "metadata": {},
   "outputs": [
    {
     "name": "stdout",
     "output_type": "stream",
     "text": [
      "a\n",
      "2\n",
      "b\n",
      "4\n",
      "5\n"
     ]
    }
   ],
   "source": [
    "lista = ['a',2,'b',4,5]\n",
    "\n",
    "for i in lista:\n",
    "    print(i)"
   ]
  },
  {
   "cell_type": "code",
   "execution_count": 32,
   "metadata": {},
   "outputs": [
    {
     "name": "stdout",
     "output_type": "stream",
     "text": [
      "0\n",
      "1\n",
      "2\n",
      "3\n",
      "4\n",
      "5\n"
     ]
    }
   ],
   "source": [
    "lista = ['a',2,'b',4,5,6]\n",
    "\n",
    "for i in range(len(lista)):\n",
    "    print(i)"
   ]
  },
  {
   "cell_type": "code",
   "execution_count": 36,
   "metadata": {},
   "outputs": [
    {
     "name": "stdout",
     "output_type": "stream",
     "text": [
      "(0, 'a')\n",
      "(1, 2)\n",
      "(2, 'b')\n",
      "(3, 4)\n",
      "(4, 5)\n",
      "(5, 6)\n",
      "(6, 'w')\n"
     ]
    }
   ],
   "source": [
    "lista = ['a',2,'b',4,5,6,'w']\n",
    "\n",
    "for i in enumerate(lista):\n",
    "    print(i)"
   ]
  },
  {
   "cell_type": "code",
   "execution_count": 38,
   "metadata": {},
   "outputs": [
    {
     "name": "stdout",
     "output_type": "stream",
     "text": [
      "a\n",
      "2\n",
      "b\n",
      "4\n",
      "5\n",
      "6\n",
      "w\n"
     ]
    }
   ],
   "source": [
    "lista = ['a',2,'b',4,5,6,'w']\n",
    "\n",
    "for i in enumerate(lista):\n",
    "    print(i[1])"
   ]
  },
  {
   "cell_type": "markdown",
   "metadata": {},
   "source": [
    "## 3.3 Loop *while*\n",
    "- **while** condição:\n",
    "\n",
    "Enquanto a condição for verdadeira, o programa executará os comandos\n",
    "\n",
    "Uma noção sobre tipos booleanos é interessante para executar esse comando\n"
   ]
  },
  {
   "cell_type": "code",
   "execution_count": 51,
   "metadata": {},
   "outputs": [
    {
     "name": "stdout",
     "output_type": "stream",
     "text": [
      "10\n",
      "11\n",
      "12\n",
      "13\n",
      "14\n",
      "15\n",
      "16\n",
      "17\n",
      "18\n",
      "19\n",
      "20\n"
     ]
    }
   ],
   "source": [
    "x = 10\n",
    "\n",
    "while x > 5:\n",
    "    print(x)\n",
    "    x += 1\n",
    "    if x > 20:\n",
    "        break"
   ]
  },
  {
   "cell_type": "markdown",
   "metadata": {},
   "source": [
    "## 3.4 Exercício 1 - \n",
    "Crie um condicional que, dada uma variável, faça as operações:\n",
    "- Se for número positivo, retorna \"Número positivo\"\n",
    "- Se for número negativo, retorna \"Número negativo\"\n",
    "- Se for zero, retorna \"zero\"\n",
    "- Se não for número, retorna \"Não é um número\""
   ]
  },
  {
   "cell_type": "code",
   "execution_count": 98,
   "metadata": {},
   "outputs": [
    {
     "name": "stdout",
     "output_type": "stream",
     "text": [
      "dsdsd não é um número\n"
     ]
    }
   ],
   "source": [
    "x = 'dsdsd'\n",
    "\n",
    "if type(x) is str:\n",
    "    print(x, 'não é um número')\n",
    "elif x > 0:\n",
    "        print(x, 'é um número positivo')\n",
    "elif x < 0:\n",
    "        print(x , 'é um número negativo')\n",
    "elif x == 0:\n",
    "        print(x, 'é zero')\n",
    "    "
   ]
  },
  {
   "cell_type": "markdown",
   "metadata": {},
   "source": [
    "## 3.5 Exercício 2 - \n",
    "Faça um loop **for** para criar uma lista que intercale os valores das listas a seguir:\n",
    "- valores = [1,2,3,4,5] \n",
    "- letras = ['a','b','c','d','e']\n",
    "\n",
    "Dica: você pode utilizar o método .append() que adiciona um elemento ao final da lista."
   ]
  },
  {
   "cell_type": "code",
   "execution_count": 121,
   "metadata": {},
   "outputs": [
    {
     "name": "stdout",
     "output_type": "stream",
     "text": [
      "[1, 'a', 2, 'b', 3, 'c', 4, 'd', 5, 'e', 6, 'f']\n"
     ]
    },
    {
     "data": {
      "text/plain": [
       "12"
      ]
     },
     "execution_count": 121,
     "metadata": {},
     "output_type": "execute_result"
    }
   ],
   "source": [
    "valores = [1,2,3,4,5,0] \n",
    "letras = ['a','b','c','d','e','f']\n",
    "\n",
    "nova = []\n",
    "\n",
    "valores[5] = 6\n",
    "\n",
    "for i in range(len(valores)):\n",
    "    nova.append(valores[i])\n",
    "    nova.append(letras[i])\n",
    "\n",
    "print(nova)\n",
    "len(nova)"
   ]
  },
  {
   "cell_type": "markdown",
   "metadata": {},
   "source": [
    "## 3.6 Exercício 3 - \n",
    "Dado um número inteiro, faça um operador while que calcule o fatorial desse número. Dicas: utilize as operações ***=** e também **-=**"
   ]
  },
  {
   "cell_type": "code",
   "execution_count": 139,
   "metadata": {},
   "outputs": [
    {
     "data": {
      "text/plain": [
       "3628800"
      ]
     },
     "execution_count": 139,
     "metadata": {},
     "output_type": "execute_result"
    }
   ],
   "source": [
    "x = 10\n",
    "fact_x = 1\n",
    "\n",
    "if type(x) is int:\n",
    "    while x > 0:\n",
    "        fact_x *= x\n",
    "        x -= 1\n",
    "fact_x\n"
   ]
  },
  {
   "cell_type": "markdown",
   "metadata": {},
   "source": [
    "## 3.7 Desafio 1 - Números primos\n",
    "Crie uma lista com os cinquenta primeiros números primos.\n",
    "\n",
    "Dica: pode ser utilizado o comando break e continue"
   ]
  },
  {
   "cell_type": "code",
   "execution_count": null,
   "metadata": {},
   "outputs": [
    {
     "name": "stdout",
     "output_type": "stream",
     "text": [
      "[2, 3, 5, 7, 11, 13, 17, 19, 23, 29, 31, 37, 41, 43, 47, 53, 59, 61, 67, 71, 73, 79, 83, 89, 97, 101, 103, 107, 109, 113, 127, 131, 137, 139, 149, 151, 157, 163, 167, 173, 179, 181, 191, 193, 197, 199, 211, 223, 227, 229]\n"
     ]
    },
    {
     "data": {
      "text/plain": [
       "50"
      ]
     },
     "execution_count": 163,
     "metadata": {},
     "output_type": "execute_result"
    }
   ],
   "source": [
    "lista = [2]\n",
    "proximo_elemento = 2\n",
    "\n",
    "while len(lista) < 50:\n",
    "    proximo_elemento += 1\n",
    "    proximo_elemento_status = \"\"\n",
    "\n",
    "    for elemento in lista:\n",
    "        quociente = proximo_elemento / elemento\n",
    "        quociente_inteiro = proximo_elemento // elemento\n",
    "\n",
    "        if quociente_inteiro == quociente:\n",
    "            proximo_elemento_status = \"pula\"\n",
    "            break\n",
    "\n",
    "    if proximo_elemento_status == \"pula\":\n",
    "        continue\n",
    "    else:\n",
    "        lista.append(proximo_elemento)\n",
    "print(lista)\n",
    "len(lista)"
   ]
  },
  {
   "cell_type": "code",
   "execution_count": 160,
   "metadata": {},
   "outputs": [
    {
     "name": "stdout",
     "output_type": "stream",
     "text": [
      "[2, 3, 5, 7, 11, 13, 17, 19, 23, 29, 31, 37, 41, 43, 47, 53, 59, 61, 67, 71, 73, 79, 83, 89, 97, 101, 103, 107, 109, 113, 127, 131, 137, 139, 149, 151, 157, 163, 167, 173, 179, 181, 191, 193, 197, 199, 211, 223, 227, 229]\n"
     ]
    },
    {
     "data": {
      "text/plain": [
       "50"
      ]
     },
     "execution_count": 160,
     "metadata": {},
     "output_type": "execute_result"
    }
   ],
   "source": [
    "def eh_primo(n):\n",
    "    if n < 2:\n",
    "        return False\n",
    "    for i in range(2, int(n ** 0.5) + 1):\n",
    "        if n % i == 0:\n",
    "            return False\n",
    "    return True\n",
    "\n",
    "def primeiros_primos(qtd):\n",
    "    primos = []\n",
    "    num = 2\n",
    "    while len(primos) < qtd:\n",
    "        if eh_primo(num):\n",
    "            primos.append(num)\n",
    "        num += 1\n",
    "    return primos\n",
    "\n",
    "# Gerando os 50 primeiros números primos\n",
    "primos_50 = primeiros_primos(50)\n",
    "print(primos_50)\n",
    "len(primos_50)\n",
    "\n"
   ]
  }
 ],
 "metadata": {
  "kernelspec": {
   "display_name": "Python 3",
   "language": "python",
   "name": "python3"
  },
  "language_info": {
   "codemirror_mode": {
    "name": "ipython",
    "version": 3
   },
   "file_extension": ".py",
   "mimetype": "text/x-python",
   "name": "python",
   "nbconvert_exporter": "python",
   "pygments_lexer": "ipython3",
   "version": "3.11.9"
  }
 },
 "nbformat": 4,
 "nbformat_minor": 2
}
