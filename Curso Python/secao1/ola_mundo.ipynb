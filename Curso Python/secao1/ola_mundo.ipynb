{
 "cells": [
  {
   "cell_type": "markdown",
   "metadata": {},
   "source": [
    "# Programa inicial \"Hello World\" mas com decisão \"If/Else\" para determinação de idioma\n",
    "\n",
    "\"\"\"\n",
    "Comentários\n",
    "de\n",
    "muitas\n",
    "linhas\n",
    "\"\"\""
   ]
  },
  {
   "cell_type": "code",
   "execution_count": 4,
   "metadata": {},
   "outputs": [
    {
     "name": "stdout",
     "output_type": "stream",
     "text": [
      "Ola mundo!\n"
     ]
    }
   ],
   "source": [
    "EN = str(\"Hello World!\")\n",
    "PT = str(\"Ola mundo!\")\n",
    "Idioma = input(\"Escolha a lingua para o programa (EN/PT)\")\n",
    "if Idioma == \"EN\": \n",
    "    print (EN)\n",
    "else:\n",
    "    print (PT)"
   ]
  }
 ],
 "metadata": {
  "kernelspec": {
   "display_name": "Python 3",
   "language": "python",
   "name": "python3"
  },
  "language_info": {
   "codemirror_mode": {
    "name": "ipython",
    "version": 3
   },
   "file_extension": ".py",
   "mimetype": "text/x-python",
   "name": "python",
   "nbconvert_exporter": "python",
   "pygments_lexer": "ipython3",
   "version": "3.11.9"
  }
 },
 "nbformat": 4,
 "nbformat_minor": 2
}
