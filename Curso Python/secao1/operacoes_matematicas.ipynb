{
 "cells": [
  {
   "cell_type": "markdown",
   "metadata": {},
   "source": [
    "# Programação de operações matemáticas simples utilizando Python"
   ]
  },
  {
   "cell_type": "code",
   "execution_count": 1,
   "metadata": {},
   "outputs": [
    {
     "name": "stdout",
     "output_type": "stream",
     "text": [
      "Operação de Adição 2 + 2: 4\n",
      "Operação de Subtração 2 - 2: 0\n",
      "Operação de Multiplicação 2 x 2: 4\n",
      "Operação de Divisão 2 / 2: 1\n",
      "Operação de Exponenciação 2 elevado à 3: 8\n",
      "Restante da divisão de 10 / 3: 1\n"
     ]
    }
   ],
   "source": [
    "print(\"Operação de Adição 2 + 2:\", 2 + 2)\n",
    "\n",
    "print(\"Operação de Subtração 2 - 2:\", 2 - 2)\n",
    "\n",
    "print(\"Operação de Multiplicação 2 x 2:\", 2 * 2)\n",
    "\n",
    "print(\"Operação de Divisão 2 / 2:\", int(2 / 2))\n",
    "\n",
    "print(\"Operação de Exponenciação 2 elevado à 3:\", int(2 ** 3))\n",
    "\n",
    "#Retornar o módulo de uma operação de divisão:\n",
    "print(\"Restante da divisão de 10 / 3:\", 10%3)"
   ]
  }
 ],
 "metadata": {
  "kernelspec": {
   "display_name": "Python 3",
   "language": "python",
   "name": "python3"
  },
  "language_info": {
   "codemirror_mode": {
    "name": "ipython",
    "version": 3
   },
   "file_extension": ".py",
   "mimetype": "text/x-python",
   "name": "python",
   "nbconvert_exporter": "python",
   "pygments_lexer": "ipython3",
   "version": "3.11.9"
  }
 },
 "nbformat": 4,
 "nbformat_minor": 2
}
