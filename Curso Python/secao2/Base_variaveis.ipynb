{
 "cells": [
  {
   "cell_type": "markdown",
   "metadata": {},
   "source": [
    "## 2.1 Iniciando os estudos\n",
    "\n",
    "### Tipo de variáveis (*built-in types*):\n",
    "- int = número inteiro\n",
    "- float = número real\n",
    "- complex = número complexo\n",
    "- str = texto\n",
    "\n",
    "Estes tipos de valores podem ser armazenados dentro de variáveis.\n",
    "\n",
    "### Primeiras funções\n",
    "\n",
    "\n",
    "| Função | Descrição |\n",
    "| :-- | :-- |\n",
    "| print() | exibe um dado input |\n",
    "| input()                  | retorna uma **string** dada pelo usuário |\n",
    "| int(), float(), str() | conversão de tipo |\n",
    "| type()                   | retorna o tipo da variável |"
   ]
  },
  {
   "cell_type": "code",
   "execution_count": 31,
   "metadata": {},
   "outputs": [
    {
     "name": "stdout",
     "output_type": "stream",
     "text": [
      "Olá Mundo!\n"
     ]
    }
   ],
   "source": [
    "a = 'Olá Mundo!'\n",
    "print(a)"
   ]
  },
  {
   "cell_type": "code",
   "execution_count": 32,
   "metadata": {},
   "outputs": [],
   "source": [
    "b = input('Digite um número:')"
   ]
  },
  {
   "cell_type": "code",
   "execution_count": 33,
   "metadata": {},
   "outputs": [
    {
     "name": "stdout",
     "output_type": "stream",
     "text": [
      "45\n"
     ]
    },
    {
     "data": {
      "text/plain": [
       "str"
      ]
     },
     "execution_count": 33,
     "metadata": {},
     "output_type": "execute_result"
    }
   ],
   "source": [
    "print(b)\n",
    "\n",
    "type(b)"
   ]
  },
  {
   "cell_type": "code",
   "execution_count": null,
   "metadata": {},
   "outputs": [
    {
     "name": "stdout",
     "output_type": "stream",
     "text": [
      "10\n"
     ]
    },
    {
     "data": {
      "text/plain": [
       "int"
      ]
     },
     "execution_count": 34,
     "metadata": {},
     "output_type": "execute_result"
    }
   ],
   "source": [
    "c = 10\n",
    "\n",
    "print(c)\n",
    "type(c)"
   ]
  },
  {
   "cell_type": "code",
   "execution_count": 63,
   "metadata": {},
   "outputs": [
    {
     "data": {
      "text/plain": [
       "15129.0"
      ]
     },
     "execution_count": 63,
     "metadata": {},
     "output_type": "execute_result"
    }
   ],
   "source": [
    "string_n = '123'\n",
    "n_1 = float(string_n)\n",
    "n_1 * n_1\n"
   ]
  },
  {
   "cell_type": "markdown",
   "metadata": {},
   "source": [
    "## 2.2 Números\n",
    "\n",
    "**Operações básicas:**\n",
    "\n",
    "| Símbolo | Descrição |\n",
    "| :-- | :-- |\n",
    "| (+) | soma |\n",
    "| (-) | subtração |\n",
    "| (*) | multiplicação |\n",
    "| (/)| divisão |\n",
    "| (//) | parte inteira da divisão |\n",
    "| (**) | exponencial |\n",
    "| += | adiciona para a variável |\n",
    "| *= | multiplica pela variável |\n",
    "\n",
    "- LEE, Kent D. Python Programming Fundamentals. Second Edition. Springer - Verlag London 2014.\n",
    "- https://link.springer.com/chapter/10.1007%2F978-1-4471-6642-9_8\n",
    "- https://link.springer.com/chapter/10.1007%2F978-1-4471-6642-9_9"
   ]
  },
  {
   "cell_type": "code",
   "execution_count": null,
   "metadata": {},
   "outputs": [
    {
     "name": "stdout",
     "output_type": "stream",
     "text": [
      "10.0\n"
     ]
    },
    {
     "data": {
      "text/plain": [
       "5.0"
      ]
     },
     "execution_count": 46,
     "metadata": {},
     "output_type": "execute_result"
    }
   ],
   "source": [
    "a = 5\n",
    "b = 5.\n",
    "\n",
    "c = a + b\n",
    "print(c)\n",
    "type(c)"
   ]
  },
  {
   "cell_type": "code",
   "execution_count": 47,
   "metadata": {},
   "outputs": [
    {
     "data": {
      "text/plain": [
       "15"
      ]
     },
     "execution_count": 47,
     "metadata": {},
     "output_type": "execute_result"
    }
   ],
   "source": [
    "d = 10\n",
    "d += 5\n",
    "d"
   ]
  },
  {
   "cell_type": "code",
   "execution_count": null,
   "metadata": {},
   "outputs": [
    {
     "data": {
      "text/plain": [
       "100"
      ]
     },
     "execution_count": 48,
     "metadata": {},
     "output_type": "execute_result"
    }
   ],
   "source": [
    "e = 10 ** 2\n",
    "e"
   ]
  },
  {
   "cell_type": "code",
   "execution_count": 59,
   "metadata": {},
   "outputs": [
    {
     "name": "stdout",
     "output_type": "stream",
     "text": [
      "(-1+0j)\n"
     ]
    },
    {
     "data": {
      "text/plain": [
       "complex"
      ]
     },
     "execution_count": 59,
     "metadata": {},
     "output_type": "execute_result"
    }
   ],
   "source": [
    "n_1 = 1j\n",
    "n_2 = 1j\n",
    "\n",
    "print(n_1*n_2)\n",
    "type(n_1)"
   ]
  },
  {
   "cell_type": "markdown",
   "metadata": {},
   "source": [
    "## 2.3 String\n",
    "- Strings são variáveis de texto\n",
    "- Alguns caracteres, como as aspas, não podem ser adicionados diretamente. Então é necessário \\\n",
    "- \\n representa uma nova linha\n",
    "- Algumas operações básicas funcionam para manipular strings\n"
   ]
  },
  {
   "cell_type": "code",
   "execution_count": null,
   "metadata": {},
   "outputs": [
    {
     "name": "stdout",
     "output_type": "stream",
     "text": [
      "Olá ' mundo!\n",
      "Olá ' mundo\n",
      "Olá mundooo \n",
      "\n",
      "Olá ' mundo!Olá ' mundoOlá mundooo \n",
      "\n",
      "Olá mundooo \n",
      "Olá mundooo \n",
      "Olá mundooo \n",
      "Olá mundooo \n",
      "Olá mundooo \n",
      "\n"
     ]
    }
   ],
   "source": [
    "a = 'Olá \\' mundo!'\n",
    "b = \"Olá ' mundo\"\n",
    "\n",
    "c = 'Olá mundooo \\n'\n",
    "\n",
    "print(a)\n",
    "\n",
    "print(b)\n",
    "\n",
    "print(c)\n",
    "\n",
    "d = a + b + c\n",
    "print(d)\n",
    "\n",
    "e = c*5\n",
    "print(e)"
   ]
  },
  {
   "cell_type": "markdown",
   "metadata": {},
   "source": [
    "## 2.4 Listas\n",
    "Listas são conjuntos de dados que podem conter dados de diferentes tipos. Elas possuem valores indexados a partir de zero."
   ]
  },
  {
   "cell_type": "code",
   "execution_count": 79,
   "metadata": {},
   "outputs": [
    {
     "data": {
      "text/plain": [
       "[1, 'string', 3.0, [3, 4], 5]"
      ]
     },
     "execution_count": 79,
     "metadata": {},
     "output_type": "execute_result"
    }
   ],
   "source": [
    "lista_a = [1,'string',3.,[3,4],5]\n",
    "lista_a"
   ]
  },
  {
   "cell_type": "code",
   "execution_count": null,
   "metadata": {},
   "outputs": [
    {
     "name": "stdout",
     "output_type": "stream",
     "text": [
      "5\n",
      "3\n",
      "2\n"
     ]
    }
   ],
   "source": [
    "lista_b = [3,4,5,1,2]\n",
    "\n",
    "print(len(lista_b))\n",
    "\n",
    "print(lista_b [0])\n",
    "print(lista_b [4])"
   ]
  },
  {
   "cell_type": "code",
   "execution_count": null,
   "metadata": {},
   "outputs": [
    {
     "data": {
      "text/plain": [
       "[1, 2, 3, 4, 3, 4, 5, 1, 2]"
      ]
     },
     "execution_count": 84,
     "metadata": {},
     "output_type": "execute_result"
    }
   ],
   "source": [
    "lista_c = [1,2,3,4]\n",
    "lista_c + lista_b"
   ]
  },
  {
   "cell_type": "markdown",
   "metadata": {},
   "source": [
    "## 2.5 Similaridades entre listas e strings\n",
    "- Ambos são indexáveis com indices a partir de [0]\n",
    "- Strings, assim como listas, podem ser fatiadas\n",
    "- A funcão len(*x*) retorna o número de elementos de uma lista e o número de caractéres de uma string\n",
    "- A operação de soma funciona de maneira parecida\n",
    "- Ambas podem ser multiplicadas por um valor inteiro\n",
    "\n",
    "Mas atenção, não são do mesmo tipo!"
   ]
  },
  {
   "cell_type": "code",
   "execution_count": 111,
   "metadata": {},
   "outputs": [
    {
     "name": "stdout",
     "output_type": "stream",
     "text": [
      "PA\n",
      "YATAHAOANA\n",
      "['PA', 'YA']\n",
      "['TA', 'HA', 'OA', 'NA']\n",
      "6\n",
      "12\n",
      "PAYATAHAOANAPAYATAHAOANAPAYATAHAOANAPAYATAHAOANA\n",
      "['PA', 'YA', 'TA', 'HA', 'OA', 'NA', 'PA', 'YA', 'TA', 'HA', 'OA', 'NA']\n"
     ]
    }
   ],
   "source": [
    "lista1 = ['PA','YA','TA','HA','OA','NA']\n",
    "string_1 = 'PAYATAHAOANA'\n",
    "\n",
    "print(string_1[:2])\n",
    "print(string_1[2:])\n",
    "\n",
    "print(lista1[:2])\n",
    "print(lista1[2:])\n",
    "\n",
    "print(len(lista1))\n",
    "print(len(string_1))\n",
    "\n",
    "print(string_1*4)\n",
    "\n",
    "print(lista1 + lista1)"
   ]
  },
  {
   "cell_type": "markdown",
   "metadata": {},
   "source": [
    "## 2.6 Valores Booleanos (*Boolean Values*)\n",
    "\n",
    "### O que é\n",
    "As variáveis do tipo *bool* armazenam constantes do tipo *True* ou *False*\n"
   ]
  },
  {
   "cell_type": "code",
   "execution_count": null,
   "metadata": {},
   "outputs": [
    {
     "name": "stdout",
     "output_type": "stream",
     "text": [
      "<class 'bool'>\n",
      "True\n"
     ]
    }
   ],
   "source": [
    "a = True\n",
    "b = False\n",
    "\n",
    "print(a)\n",
    "print(type(a))"
   ]
  },
  {
   "cell_type": "markdown",
   "metadata": {},
   "source": [
    "### Comparações\n",
    "Comparações retornam variáveis do tipo *bool*\n",
    "\n",
    "| Comparação | Descrição |\n",
    "| :-- | :-- |\n",
    "| > | menor que |\n",
    "| <= | menor ou igual a |\n",
    "| > | maior que |\n",
    "| >= | maior ou igual a |\n",
    "| == | igual a |\n",
    "| != | diferente de |\n",
    "\n",
    "Fonte: https://docs.python.org/3/library/stdtypes.html#iterator-types"
   ]
  },
  {
   "cell_type": "code",
   "execution_count": null,
   "metadata": {},
   "outputs": [
    {
     "name": "stdout",
     "output_type": "stream",
     "text": [
      "True\n",
      "False\n",
      "True\n"
     ]
    }
   ],
   "source": [
    "a = 5 == 5\n",
    "print(a)\n",
    "\n",
    "b = 5 == 6\n",
    "print(b)\n",
    "\n",
    "c = 5 != 6\n",
    "print(c)"
   ]
  }
 ],
 "metadata": {
  "kernelspec": {
   "display_name": "Python 3",
   "language": "python",
   "name": "python3"
  },
  "language_info": {
   "codemirror_mode": {
    "name": "ipython",
    "version": 3
   },
   "file_extension": ".py",
   "mimetype": "text/x-python",
   "name": "python",
   "nbconvert_exporter": "python",
   "pygments_lexer": "ipython3",
   "version": "3.11.9"
  }
 },
 "nbformat": 4,
 "nbformat_minor": 2
}
