{
 "cells": [
  {
   "cell_type": "markdown",
   "metadata": {},
   "source": [
    "# Seção 4 - Estrutura de dados\n",
    "\n",
    "\n",
    "Essa aula é inspirada em:\n",
    "- https://docs.python.org/3/tutorial/datastructures.html\n",
    "- LEE, Kent D. Python Programming Fundamentals. Second Edition. Springer - Verlag London 2014."
   ]
  },
  {
   "cell_type": "markdown",
   "metadata": {},
   "source": [
    "## 4.1 Métodos para listas\n",
    "\n",
    "| Método | Descrição |\n",
    "| :-- | :-- |\n",
    "| .append(*variável*) | Adiciona a variável no final |\n",
    "| .extend(*outra_lista*) | Adiciona os elementos ao final |\n",
    "| .remove(*variável*) | Remove o primeiro elemento com valor *variável* |\n",
    "| .count(*variável*) | Conta o número de elementos com o valor *variável* |\n",
    "| .sort() | Reordena elementos em ordem numérica ou alfabética |\n",
    "| .reverse() | Inverte a ordem dos elementos |\n",
    "| .copy() | Retorna uma cópia da lista |\n",
    "| .index(*variável*) | Retorna o índice da primeira *variável* da lista |"
   ]
  },
  {
   "cell_type": "code",
   "execution_count": null,
   "metadata": {},
   "outputs": [
    {
     "name": "stdout",
     "output_type": "stream",
     "text": [
      "[1, 2, 3, 4, 5, 6, 7, 8, 9]\n"
     ]
    }
   ],
   "source": [
    "inteiros = [1,2,3,4,5]\n",
    "\n",
    "inteiros2 = [7,8,9]\n",
    "\n",
    "inteiros.append(6)\n",
    "\n",
    "inteiros.extend(inteiros2)\n",
    "\n",
    "print(inteiros)"
   ]
  },
  {
   "cell_type": "code",
   "execution_count": 7,
   "metadata": {},
   "outputs": [
    {
     "name": "stdout",
     "output_type": "stream",
     "text": [
      "3\n"
     ]
    }
   ],
   "source": [
    "letras = ['a','b','c','a','a']\n",
    "n_vezes = letras.count('a')\n",
    "print(n_vezes)"
   ]
  },
  {
   "cell_type": "code",
   "execution_count": 8,
   "metadata": {},
   "outputs": [
    {
     "data": {
      "text/plain": [
       "[1, 3, 5, 8, 10]"
      ]
     },
     "execution_count": 8,
     "metadata": {},
     "output_type": "execute_result"
    }
   ],
   "source": [
    "lista3 = [1,10,5,3,8]\n",
    "lista3.sort()\n",
    "lista3"
   ]
  },
  {
   "cell_type": "code",
   "execution_count": 11,
   "metadata": {},
   "outputs": [
    {
     "name": "stdout",
     "output_type": "stream",
     "text": [
      "['1', '10', '5', 'a', 'a', 'a', 'b', 'c']\n"
     ]
    }
   ],
   "source": [
    "letras = ['a','b','c','a','a', '10', '1', '5']\n",
    "letras.sort()\n",
    "print(letras)"
   ]
  },
  {
   "cell_type": "markdown",
   "metadata": {},
   "source": [
    "## 4.2 Formas de trabalhar com listas\n",
    "\n",
    "| Função | Descrição |\n",
    "| :-- | :-- |\n",
    "| range(*inteiro*) | retorna um iterável do tipo range |\n",
    "| lambda x: *função_x* | Retorna uma função |\n",
    "| map(*função*,*lista*) | Retorna um iterável do tipo map |\n",
    "| list(*iterável*) | Cria uma lista a partir de um iterável |\n",
    "\n",
    "Atenção, este não é um tutorial sobre programação funcional! Quem se interessar pode pesquisar por: *Functional Programming* ou Programação Funcional."
   ]
  },
  {
   "cell_type": "code",
   "execution_count": 14,
   "metadata": {},
   "outputs": [
    {
     "data": {
      "text/plain": [
       "[0, 1, 4, 9, 16]"
      ]
     },
     "execution_count": 14,
     "metadata": {},
     "output_type": "execute_result"
    }
   ],
   "source": [
    "quadrados = []\n",
    "\n",
    "for i in range(5):\n",
    "    quadrados.append(i**2)\n",
    "quadrados\n"
   ]
  },
  {
   "cell_type": "code",
   "execution_count": 17,
   "metadata": {},
   "outputs": [
    {
     "data": {
      "text/plain": [
       "[0, 1, 2, 3, 4, 5, 6, 7, 8, 9]"
      ]
     },
     "execution_count": 17,
     "metadata": {},
     "output_type": "execute_result"
    }
   ],
   "source": [
    "a = list(range(10))\n",
    "a"
   ]
  },
  {
   "cell_type": "code",
   "execution_count": null,
   "metadata": {},
   "outputs": [
    {
     "data": {
      "text/plain": [
       "100"
      ]
     },
     "execution_count": 20,
     "metadata": {},
     "output_type": "execute_result"
    }
   ],
   "source": [
    "numeros = [1,2,3,4,5]\n",
    "\n",
    "f = lambda x: x**2\n",
    "\n",
    "f(10)"
   ]
  },
  {
   "cell_type": "code",
   "execution_count": 23,
   "metadata": {},
   "outputs": [
    {
     "data": {
      "text/plain": [
       "[1, 4, 9, 16, 25]"
      ]
     },
     "execution_count": 23,
     "metadata": {},
     "output_type": "execute_result"
    }
   ],
   "source": [
    "numeros = [1,2,3,4,5]\n",
    "\n",
    "f = lambda x: x**2\n",
    "\n",
    "z = list(map(f,numeros))\n",
    "z"
   ]
  },
  {
   "cell_type": "code",
   "execution_count": 24,
   "metadata": {},
   "outputs": [
    {
     "data": {
      "text/plain": [
       "[0, 1, 4, 9, 16, 25]"
      ]
     },
     "execution_count": 24,
     "metadata": {},
     "output_type": "execute_result"
    }
   ],
   "source": [
    "quadrados_2 = [x**2 for x in range(6)]\n",
    "quadrados_2"
   ]
  },
  {
   "cell_type": "markdown",
   "metadata": {},
   "source": [
    "## 4.3 Tuplas, conjuntos e dicionários\n",
    "\n",
    "| Tipo | Descrição | Sintaxe |\n",
    "| :-- | :-- | :-- |\n",
    "| tuple | tupla: uma sequência de dados que é imutável | vogais = ('a','e','i','o','u')|\n",
    "| set | conjunto: elementos não possuem ordem e não se repetem  | alg_decimais = {0,1,2,3,4,5,6,7,8,9}\n",
    "| dict | dicionário: são indexaxos por uma chave *keys* | alg_romanos = {'I':1,\"II\":2,'III':3,'IV':4,'V':5,'X':10}\n"
   ]
  },
  {
   "cell_type": "code",
   "execution_count": null,
   "metadata": {},
   "outputs": [
    {
     "name": "stdout",
     "output_type": "stream",
     "text": [
      "o\n",
      "5\n"
     ]
    }
   ],
   "source": [
    "vogais = ('a','e','i','o','u')\n",
    "\n",
    "print(vogais [3])\n",
    "print(len(vogais))"
   ]
  },
  {
   "cell_type": "code",
   "execution_count": 44,
   "metadata": {},
   "outputs": [
    {
     "name": "stdout",
     "output_type": "stream",
     "text": [
      "a\n",
      "e\n",
      "i\n",
      "o\n",
      "u\n"
     ]
    }
   ],
   "source": [
    "vogais = ['a','e','i','o','u']\n",
    "\n",
    "for i in enumerate(vogais):\n",
    "    print(i[1])"
   ]
  },
  {
   "cell_type": "code",
   "execution_count": 50,
   "metadata": {},
   "outputs": [
    {
     "data": {
      "text/plain": [
       "{'a', 'e', 'i', 'o', 'u'}"
      ]
     },
     "execution_count": 50,
     "metadata": {},
     "output_type": "execute_result"
    }
   ],
   "source": [
    "set_variaveis = {'a','e','i','a','o','u','a'}\n",
    "set_variaveis"
   ]
  },
  {
   "cell_type": "code",
   "execution_count": 56,
   "metadata": {},
   "outputs": [
    {
     "name": "stdout",
     "output_type": "stream",
     "text": [
      "10\n",
      "5\n"
     ]
    }
   ],
   "source": [
    "dict_1 = {'dia':10, 'mes': 5}\n",
    "print(dict_1['dia'])\n",
    "print(dict_1['mes'])\n"
   ]
  },
  {
   "cell_type": "markdown",
   "metadata": {},
   "source": [
    "## 4.4  Métodos para dicionários\n",
    "\n",
    "| Método | Descrição |\n",
    "| :-- | :-- |\n",
    "| .items() | Retorna os itens do dicionário |\n",
    "| .keys() | Retorna as chaves do dicionário |\n",
    "| .values() | Retorna as chaves do dicionário |\n",
    "| .pop(*key*) | Remove a chave especificada e retorna o valor do item  |\n",
    "| .copy() | Retorna uma cópia |\n",
    "| .clear() | Remove os itens |\n",
    "| .get(*key*) | Retornas a váriável em *key* |\n",
    "\n",
    "Disponível em: https://link.springer.com/chapter/10.1007%2F978-1-4471-6642-9_12"
   ]
  },
  {
   "cell_type": "code",
   "execution_count": 66,
   "metadata": {},
   "outputs": [
    {
     "name": "stdout",
     "output_type": "stream",
     "text": [
      "3\n",
      "5\n",
      "{'I': 1, 'II': 2, 'III': 3, 'IV': 4}\n"
     ]
    }
   ],
   "source": [
    "alg_romanos = {'I':1,'II':2,'III':3,'IV':4,'V':5}\n",
    "\n",
    "print(alg_romanos['III'])\n",
    "\n",
    "a = alg_romanos.pop('V')\n",
    "\n",
    "print(a)\n",
    "\n",
    "print(alg_romanos)"
   ]
  },
  {
   "cell_type": "code",
   "execution_count": null,
   "metadata": {},
   "outputs": [
    {
     "data": {
      "text/plain": [
       "'III'"
      ]
     },
     "execution_count": 71,
     "metadata": {},
     "output_type": "execute_result"
    }
   ],
   "source": [
    "alg_romanos = {'I':1,'II':2,'III':3,'IV':4,'V':5}\n",
    "\n",
    "list(alg_romanos.items())[2][0]"
   ]
  },
  {
   "cell_type": "code",
   "execution_count": 73,
   "metadata": {},
   "outputs": [
    {
     "data": {
      "text/plain": [
       "['I', 'II', 'III', 'IV', 'V']"
      ]
     },
     "execution_count": 73,
     "metadata": {},
     "output_type": "execute_result"
    }
   ],
   "source": [
    "alg_romanos = {'I':1,'II':2,'III':3,'IV':4,'V':5}\n",
    "\n",
    "list(alg_romanos.keys())"
   ]
  },
  {
   "cell_type": "code",
   "execution_count": 74,
   "metadata": {},
   "outputs": [
    {
     "data": {
      "text/plain": [
       "[1, 2, 3, 4, 5]"
      ]
     },
     "execution_count": 74,
     "metadata": {},
     "output_type": "execute_result"
    }
   ],
   "source": [
    "alg_romanos = {'I':1,'II':2,'III':3,'IV':4,'V':5}\n",
    "\n",
    "list(alg_romanos.values())"
   ]
  },
  {
   "cell_type": "code",
   "execution_count": 79,
   "metadata": {},
   "outputs": [
    {
     "data": {
      "text/plain": [
       "4"
      ]
     },
     "execution_count": 79,
     "metadata": {},
     "output_type": "execute_result"
    }
   ],
   "source": [
    "alg_romanos = {'I':1,'II':2,'III':3,'IV':4,'V':5}\n",
    "\n",
    "alg_romanos.get('IV')"
   ]
  },
  {
   "cell_type": "markdown",
   "metadata": {},
   "source": [
    "## 4.5 Exercício 1 -\n",
    "Dada a lista ['P','A','Y','A','T','A','H','O','N'], conte o número de variáveis 'A' e utilize um loop para remover todos os 'A' excedente."
   ]
  },
  {
   "cell_type": "code",
   "execution_count": null,
   "metadata": {},
   "outputs": [
    {
     "name": "stdout",
     "output_type": "stream",
     "text": [
      "['P', 'Y', 'T', 'H', 'O', 'N']\n"
     ]
    }
   ],
   "source": [
    "\n",
    "lista = ['P','A','Y','A','T','A','H','O','N']\n",
    "\n",
    "a = lista.count('A')\n",
    "\n",
    "for i in enumerate(lista):\n",
    "    letra = i[1]\n",
    "\n",
    "    if letra == 'A':\n",
    "        lista.pop(i[0])\n",
    "\n",
    "print(lista)"
   ]
  },
  {
   "cell_type": "markdown",
   "metadata": {},
   "source": [
    "Utilizando somente uma linha de programação, crie uma lista que contenha os números ímpares de 1 a 51."
   ]
  },
  {
   "cell_type": "code",
   "execution_count": null,
   "metadata": {},
   "outputs": [
    {
     "name": "stdout",
     "output_type": "stream",
     "text": [
      "[1, 3, 5, 7, 9, 11, 13, 15, 17, 19, 21, 23, 25, 27, 29, 31, 33, 35, 37, 39, 41, 43, 45, 47, 49, 51]\n",
      "[1, 3, 5, 7, 9, 11, 13, 15, 17, 19, 21, 23, 25, 27, 29, 31, 33, 35, 37, 39, 41, 43, 45, 47, 49, 51]\n"
     ]
    }
   ],
   "source": [
    "lista_impares = [(i*2+1) for i in range(26)]\n",
    "print(lista_impares)\n",
    "\n",
    "f_x = lambda x:(x*2+1)\n",
    "lista_impares2 = [f_x(x) for x in range(26)]\n",
    "print(lista_impares2)"
   ]
  },
  {
   "cell_type": "markdown",
   "metadata": {},
   "source": [
    "## 4.7 Exercício 3 - \n",
    "Crie um dicionário que correlacione as seguintes listas:\n",
    "- valores = [1,2,3,4,5] \n",
    "- keys = ['a','b','c','d','e']\n",
    "\n",
    "Utilize um loop."
   ]
  },
  {
   "cell_type": "code",
   "execution_count": null,
   "metadata": {},
   "outputs": [
    {
     "data": {
      "text/plain": [
       "{'a': 1, 'b': 2, 'c': 3, 'd': 4, 'e': 5}"
      ]
     },
     "execution_count": 104,
     "metadata": {},
     "output_type": "execute_result"
    }
   ],
   "source": [
    "lista_valores = [1,2,3,4,5] \n",
    "lista_keys = ['a','b','c','d','e']\n",
    "\n",
    "dict_1 = {}\n",
    "\n",
    "for i in range(len(lista_valores)):\n",
    "    dict_1[lista_keys[i]] = lista_valores[i]\n",
    "\n",
    "dict_1"
   ]
  },
  {
   "cell_type": "markdown",
   "metadata": {},
   "source": [
    "## 4.8 Exercício 4 - \n",
    "A partir do dicionário criado no exercício anterior, recrie as listas keys e valores."
   ]
  },
  {
   "cell_type": "code",
   "execution_count": 106,
   "metadata": {},
   "outputs": [
    {
     "name": "stdout",
     "output_type": "stream",
     "text": [
      "[1, 2, 3, 4, 5]\n",
      "['a', 'b', 'c', 'd', 'e']\n"
     ]
    }
   ],
   "source": [
    "dict_2 = {'a': 1, 'b': 2, 'c': 3, 'd': 4, 'e': 5}\n",
    "\n",
    "valores = list(dict_2.values())\n",
    "keys = list(dict_2.keys())\n",
    "\n",
    "print(valores)\n",
    "print(keys)"
   ]
  },
  {
   "cell_type": "markdown",
   "metadata": {},
   "source": [
    "## 4.9 Preparação para o desafio 1 (MATPLOTLIB)\n",
    "https://matplotlib.org/tutorials/introductory/usage.html#sphx-glr-tutorials-introductory-usage-py\n"
   ]
  },
  {
   "cell_type": "code",
   "execution_count": null,
   "metadata": {},
   "outputs": [
    {
     "data": {
      "text/plain": [
       "Text(0, 0.5, 'y')"
      ]
     },
     "execution_count": 128,
     "metadata": {},
     "output_type": "execute_result"
    },
    {
     "data": {
      "image/png": "[encoded data removed]",
      "text/plain": [
       "<Figure size 640x480 with 1 Axes>"
      ]
     },
     "metadata": {},
     "output_type": "display_data"
    }
   ],
   "source": [
    "import matplotlib.pyplot as plt\n",
    "import numpy as np\n",
    "\n",
    "x = [x for x in range(101)]\n",
    "y = [y**2 for y in x]\n",
    "\n",
    "plt.plot(x,y,'+')\n",
    "plt.xlabel('x')\n",
    "plt.ylabel('y')"
   ]
  },
  {
   "cell_type": "code",
   "execution_count": 129,
   "metadata": {},
   "outputs": [
    {
     "name": "stdout",
     "output_type": "stream",
     "text": [
      "2.0\n",
      "2.0\n"
     ]
    }
   ],
   "source": [
    "from math import sqrt\n",
    "\n",
    "b = sqrt(4)\n",
    "print(b)\n",
    "a = 4**(1/2)\n",
    "print(a)"
   ]
  },
  {
   "cell_type": "markdown",
   "metadata": {},
   "source": [
    "## 4.10 Desafio 1 - Equação da circunferência\n",
    "\n",
    "Dada a equação da cirunferência, faça o gráfico.\n",
    "$$\n",
    "{(x-a)}^{2} + {(y-b)}^{2} = {r}^{2}, \n",
    "r = 100, a = 100, b = 100\n",
    "$$"
   ]
  },
  {
   "cell_type": "code",
   "execution_count": 2,
   "metadata": {},
   "outputs": [
    {
     "data": {
      "text/plain": [
       "[<matplotlib.lines.Line2D at 0x1cf44ec2550>]"
      ]
     },
     "execution_count": 2,
     "metadata": {},
     "output_type": "execute_result"
    },
    {
     "data": {
      "image/png": "[encoded data removed]",
      "text/plain": [
       "<Figure size 640x480 with 1 Axes>"
      ]
     },
     "metadata": {},
     "output_type": "display_data"
    }
   ],
   "source": [
    "from math import sqrt\n",
    "\n",
    "a,b,r = 100,100,100\n",
    "\n",
    "x = []\n",
    "y = []\n",
    "\n",
    "x = [x for x in range(2 * r + 1)]\n",
    "\n",
    "y_x = lambda x: sqrt((r**2) - (x - a)**2) + b\n",
    "y_x_menos = lambda x: -sqrt((r**2) - (x - a)**2) + b\n",
    "\n",
    "y.extend(list(map(y_x,x)))\n",
    "y.extend(list(map(y_x_menos,x)))\n",
    "\n",
    "x.extend(x)\n",
    "\n",
    "import matplotlib.pyplot as plt\n",
    "\n",
    "plt.plot(x,y,'.')"
   ]
  },
  {
   "cell_type": "markdown",
   "metadata": {},
   "source": [
    "## 4.11 Preparação para o desafio 2 (LENDO ARQUIVOS)"
   ]
  },
  {
   "cell_type": "code",
   "execution_count": 10,
   "metadata": {},
   "outputs": [
    {
     "data": {
      "text/plain": [
       "['Municípios',\n",
       " 'Estado',\n",
       " 'Posição',\n",
       " 'PIB (1 000 R$)',\n",
       " 'Participação (%)',\n",
       " 'Participação acumulada (%)\\n']"
      ]
     },
     "execution_count": 10,
     "metadata": {},
     "output_type": "execute_result"
    }
   ],
   "source": [
    "file_path = 'PIB_100_maiores_cidades_2017.txt'\n",
    "\n",
    "with open(file_path) as f:\n",
    "    f_data = f.readlines()\n",
    "    f.closed\n",
    "\n",
    "lista_colunas = f_data[0].split(',')\n",
    "lista_colunas"
   ]
  },
  {
   "cell_type": "markdown",
   "metadata": {},
   "source": [
    "## 4.12 Desafio 2 - Dados do IBGE\n",
    "\n",
    "Importe a tabela dos 100 maiores municípios em relação ao PIB e responda as seguintes perguntas:\n",
    "- Quantos municípios estão no estado de São Paulo?\n",
    "- Qual a participação acumulada desses municípios?\n",
    "\n",
    "Dicas e informações:\n",
    "- Fonte dos dados: https://www.ibge.gov.br/estatisticas/downloads-estatisticas.html\n",
    "- Arquivo para importar: ./IBGE-PIB_Municipios_2017/PIB_100_maiores_cidades_2017.txt\n",
    "- Para ler arquivos acesse o tópico 7.2 do link: https://docs.python.org/3/tutorial/inputoutput.html"
   ]
  },
  {
   "cell_type": "code",
   "execution_count": null,
   "metadata": {},
   "outputs": [
    {
     "name": "stdout",
     "output_type": "stream",
     "text": [
      "Número de municípios no estado de São Paulo: 36\n",
      "A participação de cada município em % é: 23.195820665883666\n"
     ]
    }
   ],
   "source": [
    "file_path = 'PIB_100_maiores_cidades_2017.txt'\n",
    "\n",
    "with open(file_path) as f:\n",
    "    f_data = f.readlines()\n",
    "    f.closed\n",
    "\n",
    "linhas = []\n",
    "for i in range(len(f_data)):\n",
    "    linhas.append(f_data[i].split(','))\n",
    "\n",
    "colunas_dict = {}\n",
    "\n",
    "for key in linhas[0]:\n",
    "    colunas_dict[key] = []\n",
    "\n",
    "    colunas_n = linhas[0].index(key)\n",
    "    \n",
    "    for i in range(1,len(linhas)):\n",
    "        colunas_dict[key].append(linhas[i][colunas_n])\n",
    "\n",
    "Lista_estados = colunas_dict.get('Estado')\n",
    "numero_municipios_SP = Lista_estados.count('SP')\n",
    "\n",
    "print('Número de municípios no estado de São Paulo:', numero_municipios_SP)\n",
    "\n",
    "PIB_acm_SP = 0\n",
    "\n",
    "for i in range(len(colunas_dict['Estado'])):\n",
    "    if colunas_dict['Estado'][i] == 'SP':\n",
    "        PIB_acm_SP += float(colunas_dict['Participação (%)'][i])\n",
    "\n",
    "print('A participação de cada município em % é:', PIB_acm_SP)"
   ]
  },
  {
   "cell_type": "markdown",
   "metadata": {},
   "source": [
    "## 4.13 Desafio 2 - Dados do IBGE (usando PANDAS)\n",
    "https://pandas.pydata.org/pandas-docs/stable/reference/api/pandas.DataFrame.html"
   ]
  },
  {
   "cell_type": "code",
   "execution_count": 71,
   "metadata": {},
   "outputs": [
    {
     "name": "stdout",
     "output_type": "stream",
     "text": [
      "A participação de cada município em % é: 23.195820665883673\n"
     ]
    }
   ],
   "source": [
    "import pandas as pd\n",
    "\n",
    "file_path = 'PIB_100_maiores_cidades_2017.txt'\n",
    "\n",
    "df = pd.read_csv(file_path, encoding='ISO-8859-1', engine='python')\n",
    "\n",
    "df.head\n",
    "\n",
    "contador_estados = df['Estado'].value_counts()\n",
    "\n",
    "is_SP = df['Estado'] == 'SP'\n",
    "\n",
    "df_SP = df[is_SP]\n",
    "\n",
    "df_SP.head()\n",
    "\n",
    "PIB_SP = df_SP['Participação (%)'].sum()\n",
    "\n",
    "print('A participação de cada município em % é:',PIB_SP)"
   ]
  }
 ],
 "metadata": {
  "kernelspec": {
   "display_name": "Python 3",
   "language": "python",
   "name": "python3"
  },
  "language_info": {
   "codemirror_mode": {
    "name": "ipython",
    "version": 3
   },
   "file_extension": ".py",
   "mimetype": "text/x-python",
   "name": "python",
   "nbconvert_exporter": "python",
   "pygments_lexer": "ipython3",
   "version": "3.11.9"
  }
 },
 "nbformat": 4,
 "nbformat_minor": 2
}
