{
 "cells": [
  {
   "cell_type": "markdown",
   "metadata": {},
   "source": [
    "## 6.1 Noção sobre objetos\n",
    "Sintaxe:\n",
    "\n",
    "**class** *Nome_da_classe*: #cria um novo objeto\n",
    "    \n",
    "**def \\__init\\__ (self,argumentos):** #Magic method que cria as propriedades\n",
    "\n",
    "### Método é uma função aplicada a um objeto\n",
    "\n",
    "#### <método.objeto>\n",
    "    \n",
    "https://docs.python.org/3/tutorial/classes.html\n"
   ]
  },
  {
   "cell_type": "code",
   "execution_count": 32,
   "metadata": {},
   "outputs": [
    {
     "name": "stdout",
     "output_type": "stream",
     "text": [
      "cinza\n",
      "VW\n",
      "2000\n"
     ]
    },
    {
     "data": {
      "text/plain": [
       "['Bruno', 'João']"
      ]
     },
     "execution_count": 32,
     "metadata": {},
     "output_type": "execute_result"
    }
   ],
   "source": [
    "class carro:\n",
    "    def __init__(self, cor_do_carro, marca_do_carro, ano_do_carro):\n",
    "        self.cor = cor_do_carro\n",
    "        self.marca = marca_do_carro\n",
    "        self.ano = ano_do_carro\n",
    "        self.donos = []\n",
    "\n",
    "    def add_donos(self, novo_dono):\n",
    "        self.donos.append(novo_dono)\n",
    "        \n",
    "meu_carro = carro('cinza','VW',2000)\n",
    "\n",
    "print(meu_carro.cor)\n",
    "print(meu_carro.marca)\n",
    "print(meu_carro.ano)\n",
    "\n",
    "meu_carro.add_donos(\"Bruno\")\n",
    "meu_carro.add_donos(\"João\")\n",
    "meu_carro.donos\n"
   ]
  },
  {
   "cell_type": "markdown",
   "metadata": {},
   "source": [
    "# Exemplo do Sololearn"
   ]
  },
  {
   "cell_type": "code",
   "execution_count": null,
   "metadata": {},
   "outputs": [
    {
     "name": "stdout",
     "output_type": "stream",
     "text": [
      "7\n",
      "8\n",
      "10.63014581273465\n"
     ]
    }
   ],
   "source": [
    "class vetor_2d:\n",
    "    def __init__(self,x,y):\n",
    "        self.x = x\n",
    "        self.y = y\n",
    "\n",
    "    def norma(vet):\n",
    "        return ((vet.x**2 + vet.y**2)**(1/2))\n",
    "\n",
    "    def __add__(vet1,vet2):\n",
    "        return vetor_2d(vet1.x + vet2.x, vet1.y + vet2.y)\n",
    "\n",
    "v_1 = vetor_2d(3,3)\n",
    "v_2 = vetor_2d(4,5)\n",
    "\n",
    "\n",
    "v_3 = v_1 + v_2\n",
    "print(v_3.x)\n",
    "print(v_3.y)\n",
    "print(v_3.norma())"
   ]
  },
  {
   "cell_type": "markdown",
   "metadata": {},
   "source": [
    "## 6.2 Executando módulos como scripts\n",
    "Estrutura:\n",
    "\n",
    "**if \\__name\\__ == \"\\__main\\__\":**\n",
    "\n",
    "Diferenciar quando rodar um módulo como script diretamente ou chamar ele através de um outro código\n",
    "      \n",
    "*Código*"
   ]
  },
  {
   "cell_type": "code",
   "execution_count": 33,
   "metadata": {},
   "outputs": [
    {
     "data": {
      "text/plain": [
       "'__main__'"
      ]
     },
     "execution_count": 33,
     "metadata": {},
     "output_type": "execute_result"
    }
   ],
   "source": [
    "__name__"
   ]
  },
  {
   "cell_type": "markdown",
   "metadata": {},
   "source": [
    "## 6.3 Manipulando strings\n",
    "**Alguns métodos de manipulação de strings:**\n",
    "\n",
    "\n",
    "| Método | Descrição |\n",
    "| :-- | :-- |\n",
    "| upper() | retorna letras maiúsculas |\n",
    "| lower() | retorna letras minúsculas |\n",
    "| replace(arg_ant,arg_nov) | substiuí arg_ant pelo arg_nov  |\n",
    "| find(arg)| retorna a posição da primeira ocorrencia |\n",
    "| rfind() | retorna a posição da última ocorrência |\n",
    "\n",
    "\n",
    "Atenção: Esses métodos não modificam a string original se ela estiver armazenada em uma variável.\n",
    "\n",
    "fonte: https://panda.ime.usp.br/pensepy/static/pensepy/08-Strings/strings.html\n"
   ]
  },
  {
   "cell_type": "code",
   "execution_count": null,
   "metadata": {},
   "outputs": [
    {
     "name": "stdout",
     "output_type": "stream",
     "text": [
      "PYTHON\n",
      "python\n",
      "1\n",
      "14\n",
      "a\n",
      "python\n",
      "['py', 'tho', 'n']\n"
     ]
    }
   ],
   "source": [
    "string_1 = \"python\"\n",
    "print(string_1.upper())\n",
    "\n",
    "string_2 = \"PYTHON\"\n",
    "print(string_2.lower())\n",
    "\n",
    "string_3 = \"uahsuahushausha\"\n",
    "print(string_3.find(\"a\"))\n",
    "print(string_3.rfind(\"a\"))\n",
    "print(string_3[14])\n",
    "\n",
    "string_4 = \"pyathoan\"\n",
    "print(string_4.replace(\"a\",\"\"))\n",
    "print(string_4.split(\"a\"))"
   ]
  },
  {
   "cell_type": "markdown",
   "metadata": {},
   "source": [
    "## 6.4 Escrevendo arquivos\n",
    "**Estrutura para ler:**\n",
    "\n",
    "**with open(**caminho_string**) as f:**\n",
    "    \n",
    "variavel = **f.read()**\n",
    "    \n",
    "**f.close**\n",
    "\n",
    "**Estrutura para escrever:**\n",
    "\n",
    "**with open(**nome_novo_arquivo**) as f:**\n",
    "    \n",
    "f.write('nova_string','w')\n",
    "    \n",
    "**f.close**\n"
   ]
  },
  {
   "cell_type": "code",
   "execution_count": null,
   "metadata": {},
   "outputs": [],
   "source": [
    "old_file = 'Arquivo_sujo.txt'\n",
    "\n",
    "with open(old_file) as f:\n",
    "    linhas = f.read()\n",
    "    f.close\n",
    "\n",
    "linhas_new = linhas.replace(\"p\",\"\").replace(\" \",\"\")\n",
    "linhas_new\n",
    "\n",
    "new_file = 'Arquivo_limpo.txt'\n",
    "\n",
    "with open(new_file, \"w\") as f:\n",
    "    f.write(linhas_new)\n",
    "    f.close"
   ]
  }
 ],
 "metadata": {
  "kernelspec": {
   "display_name": "Python 3",
   "language": "python",
   "name": "python3"
  },
  "language_info": {
   "codemirror_mode": {
    "name": "ipython",
    "version": 3
   },
   "file_extension": ".py",
   "mimetype": "text/x-python",
   "name": "python",
   "nbconvert_exporter": "python",
   "pygments_lexer": "ipython3",
   "version": "3.11.9"
  }
 },
 "nbformat": 4,
 "nbformat_minor": 2
}
