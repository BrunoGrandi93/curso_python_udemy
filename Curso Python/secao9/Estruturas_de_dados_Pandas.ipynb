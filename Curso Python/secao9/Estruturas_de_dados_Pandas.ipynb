{
 "cells": [
  {
   "cell_type": "markdown",
   "metadata": {},
   "source": [
    "## 9.1 - Estrutura de dados no Pandas\n",
    "\n",
    "*Series* - *Series* são estruturas de dados 1D e podem ser criadas a partir de dicionários, arrays, entre outros. É muito parecido com os arrays em termos de propriedades e métodos.\n",
    "- pd.Series(data, index=index)"
   ]
  },
  {
   "cell_type": "code",
   "execution_count": 126,
   "metadata": {},
   "outputs": [],
   "source": [
    "lista_a = [11,22,33,44,55]\n",
    "lista_b = ['a','b','c','d','e']\n",
    "\n",
    "import pandas as pd"
   ]
  },
  {
   "cell_type": "code",
   "execution_count": 127,
   "metadata": {},
   "outputs": [
    {
     "name": "stdout",
     "output_type": "stream",
     "text": [
      "0    11\n",
      "1    22\n",
      "2    33\n",
      "3    44\n",
      "4    55\n",
      "dtype: int64\n"
     ]
    }
   ],
   "source": [
    "serie_1 = pd.Series(lista_a)\n",
    "print(serie_1)"
   ]
  },
  {
   "cell_type": "code",
   "execution_count": 128,
   "metadata": {},
   "outputs": [
    {
     "name": "stdout",
     "output_type": "stream",
     "text": [
      "55\n"
     ]
    }
   ],
   "source": [
    "serie_2 = pd.Series(lista_a)\n",
    "print(serie_2[4])"
   ]
  },
  {
   "cell_type": "code",
   "execution_count": 129,
   "metadata": {},
   "outputs": [
    {
     "name": "stdout",
     "output_type": "stream",
     "text": [
      "(5,)\n"
     ]
    }
   ],
   "source": [
    "serie_3 = pd.Series(lista_a)\n",
    "print(serie_3.shape)"
   ]
  },
  {
   "cell_type": "code",
   "execution_count": 130,
   "metadata": {},
   "outputs": [
    {
     "name": "stdout",
     "output_type": "stream",
     "text": [
      "1\n"
     ]
    }
   ],
   "source": [
    "serie_4 = pd.Series(lista_a)\n",
    "print(serie_4.ndim)"
   ]
  },
  {
   "cell_type": "code",
   "execution_count": 131,
   "metadata": {},
   "outputs": [
    {
     "name": "stdout",
     "output_type": "stream",
     "text": [
      "5\n"
     ]
    }
   ],
   "source": [
    "serie_5 = pd.Series(lista_a)\n",
    "print(serie_4.size)"
   ]
  },
  {
   "cell_type": "code",
   "execution_count": 132,
   "metadata": {},
   "outputs": [
    {
     "name": "stdout",
     "output_type": "stream",
     "text": [
      "0     11\n",
      "1     33\n",
      "2     66\n",
      "3    110\n",
      "4    165\n",
      "dtype: int64\n"
     ]
    }
   ],
   "source": [
    "serie_6 = pd.Series(lista_a)\n",
    "print(serie_6.cumsum())"
   ]
  },
  {
   "cell_type": "code",
   "execution_count": 133,
   "metadata": {},
   "outputs": [
    {
     "name": "stdout",
     "output_type": "stream",
     "text": [
      "33.0\n"
     ]
    }
   ],
   "source": [
    "serie_7 = pd.Series(lista_a)\n",
    "print(serie_7.mean())"
   ]
  },
  {
   "cell_type": "code",
   "execution_count": 134,
   "metadata": {},
   "outputs": [
    {
     "name": "stdout",
     "output_type": "stream",
     "text": [
      "a    11\n",
      "b    22\n",
      "c    33\n",
      "d    44\n",
      "e    55\n",
      "dtype: int64\n"
     ]
    }
   ],
   "source": [
    "serie_8 = pd.Series(lista_a,index=lista_b)\n",
    "print(serie_8)"
   ]
  },
  {
   "cell_type": "code",
   "execution_count": 135,
   "metadata": {},
   "outputs": [
    {
     "name": "stdout",
     "output_type": "stream",
     "text": [
      "22\n"
     ]
    }
   ],
   "source": [
    "serie_9 = pd.Series(lista_a,index=lista_b)\n",
    "print(serie_9['b'])"
   ]
  },
  {
   "cell_type": "code",
   "execution_count": 136,
   "metadata": {},
   "outputs": [
    {
     "name": "stdout",
     "output_type": "stream",
     "text": [
      "11    a\n",
      "22    b\n",
      "33    c\n",
      "44    d\n",
      "55    e\n",
      "dtype: object\n"
     ]
    }
   ],
   "source": [
    "serie_10 = pd.Series(lista_b,index=lista_a)\n",
    "print(serie_10)"
   ]
  },
  {
   "cell_type": "code",
   "execution_count": 137,
   "metadata": {},
   "outputs": [
    {
     "name": "stdout",
     "output_type": "stream",
     "text": [
      "b\n"
     ]
    }
   ],
   "source": [
    "serie_11 = pd.Series(lista_b,index=lista_a)\n",
    "print(serie_11[22])"
   ]
  },
  {
   "cell_type": "code",
   "execution_count": 138,
   "metadata": {},
   "outputs": [],
   "source": [
    "import numpy as np\n",
    "\n",
    "arr = np.arange(10)**2\n",
    "\n",
    "dic = {'a':123,'b':456,'c':789}"
   ]
  },
  {
   "cell_type": "code",
   "execution_count": 139,
   "metadata": {},
   "outputs": [
    {
     "name": "stdout",
     "output_type": "stream",
     "text": [
      "0     0\n",
      "1     1\n",
      "2     4\n",
      "3     9\n",
      "4    16\n",
      "5    25\n",
      "6    36\n",
      "7    49\n",
      "8    64\n",
      "9    81\n",
      "dtype: int64\n"
     ]
    }
   ],
   "source": [
    "serie_12 = pd.Series(arr)\n",
    "print(serie_12)"
   ]
  },
  {
   "cell_type": "code",
   "execution_count": 140,
   "metadata": {},
   "outputs": [
    {
     "name": "stdout",
     "output_type": "stream",
     "text": [
      "a    123\n",
      "b    456\n",
      "c    789\n",
      "dtype: int64\n"
     ]
    }
   ],
   "source": [
    "serie_13 = pd.Series(dic)\n",
    "print(serie_13)"
   ]
  },
  {
   "cell_type": "code",
   "execution_count": 141,
   "metadata": {},
   "outputs": [
    {
     "name": "stdout",
     "output_type": "stream",
     "text": [
      "456\n"
     ]
    }
   ],
   "source": [
    "serie_14 = pd.Series(dic)\n",
    "print(serie_14['b'])"
   ]
  },
  {
   "cell_type": "markdown",
   "metadata": {},
   "source": [
    "*DataFrame* - *DataFrames* são estruturas de dados 2D e podem ser criadas a partir de dicionários, dados estruturados em 2D, arquivos csv, etc. Em resumo, DataFrame é uma **tabela**.\n",
    "- pd.DataFrame({'key_1': pd.Series(...), 'key_n':pd.Series(...)})\n",
    "- pd.read_csv(file)"
   ]
  },
  {
   "cell_type": "code",
   "execution_count": 142,
   "metadata": {},
   "outputs": [
    {
     "data": {
      "text/plain": [
       "{'coluna1': array([ 0,  5, 10, 15, 20, 25, 30, 35, 40, 45]),\n",
       " 'coluna2': array([ 0,  1,  4,  9, 16, 25, 36, 49, 64, 81]),\n",
       " 'coluna3': array([1., 1., 1., 1., 1., 1., 1., 1., 1., 1.])}"
      ]
     },
     "execution_count": 142,
     "metadata": {},
     "output_type": "execute_result"
    }
   ],
   "source": [
    "dic2 = {'coluna1':np.arange(10)*5,'coluna2':np.arange(10)**2,'coluna3':np.ones(10)}\n",
    "dic2"
   ]
  },
  {
   "cell_type": "code",
   "execution_count": 143,
   "metadata": {},
   "outputs": [
    {
     "data": {
      "text/plain": [
       "array([ 0,  1,  4,  9, 16, 25, 36, 49, 64, 81])"
      ]
     },
     "execution_count": 143,
     "metadata": {},
     "output_type": "execute_result"
    }
   ],
   "source": [
    "dic2 = {'coluna1':np.arange(10)*5,'coluna2':np.arange(10)**2,'coluna3':np.ones(10)}\n",
    "dic2['coluna2']"
   ]
  },
  {
   "cell_type": "code",
   "execution_count": 144,
   "metadata": {},
   "outputs": [
    {
     "name": "stdout",
     "output_type": "stream",
     "text": [
      "   coluna1  coluna2  coluna3\n",
      "0        0        0      1.0\n",
      "1        5        1      1.0\n",
      "2       10        4      1.0\n",
      "3       15        9      1.0\n",
      "4       20       16      1.0\n",
      "5       25       25      1.0\n",
      "6       30       36      1.0\n",
      "7       35       49      1.0\n",
      "8       40       64      1.0\n",
      "9       45       81      1.0\n"
     ]
    }
   ],
   "source": [
    "df1 = pd.DataFrame(dic2)\n",
    "print(df1) ## type(df1) = pandas.core.frame.DataFrame"
   ]
  },
  {
   "cell_type": "code",
   "execution_count": 145,
   "metadata": {},
   "outputs": [
    {
     "name": "stdout",
     "output_type": "stream",
     "text": [
      "0     0\n",
      "1     1\n",
      "2     4\n",
      "3     9\n",
      "4    16\n",
      "5    25\n",
      "6    36\n",
      "7    49\n",
      "8    64\n",
      "9    81\n",
      "Name: coluna2, dtype: int64\n"
     ]
    }
   ],
   "source": [
    "df1 = pd.DataFrame(dic2)\n",
    "print(df1['coluna2']) ##type(df1['coluna2']) = pandas.core.series.Series"
   ]
  },
  {
   "cell_type": "code",
   "execution_count": 146,
   "metadata": {},
   "outputs": [
    {
     "name": "stdout",
     "output_type": "stream",
     "text": [
      "[[ 0  1  2]\n",
      " [ 3  4  5]\n",
      " [ 6  7  8]\n",
      " [ 9 10 11]\n",
      " [12 13 14]]\n"
     ]
    }
   ],
   "source": [
    "arr2 = np.arange(15).reshape(5,3)\n",
    "print(arr2)"
   ]
  },
  {
   "cell_type": "code",
   "execution_count": 147,
   "metadata": {},
   "outputs": [
    {
     "name": "stdout",
     "output_type": "stream",
     "text": [
      "    0   1   2\n",
      "0   0   1   2\n",
      "1   3   4   5\n",
      "2   6   7   8\n",
      "3   9  10  11\n",
      "4  12  13  14\n"
     ]
    }
   ],
   "source": [
    "df2 = pd.DataFrame(arr2)\n",
    "print(df2)"
   ]
  },
  {
   "cell_type": "code",
   "execution_count": 150,
   "metadata": {},
   "outputs": [
    {
     "data": {
      "text/html": [
       "<div>\n",
       "<style scoped>\n",
       "    .dataframe tbody tr th:only-of-type {\n",
       "        vertical-align: middle;\n",
       "    }\n",
       "\n",
       "    .dataframe tbody tr th {\n",
       "        vertical-align: top;\n",
       "    }\n",
       "\n",
       "    .dataframe thead th {\n",
       "        text-align: right;\n",
       "    }\n",
       "</style>\n",
       "<table border=\"1\" class=\"dataframe\">\n",
       "  <thead>\n",
       "    <tr style=\"text-align: right;\">\n",
       "      <th></th>\n",
       "      <th>Unnamed: 0</th>\n",
       "      <th>Player</th>\n",
       "      <th>height</th>\n",
       "      <th>weight</th>\n",
       "      <th>collage</th>\n",
       "      <th>born</th>\n",
       "      <th>birth_city</th>\n",
       "      <th>birth_state</th>\n",
       "    </tr>\n",
       "  </thead>\n",
       "  <tbody>\n",
       "    <tr>\n",
       "      <th>0</th>\n",
       "      <td>0</td>\n",
       "      <td>Curly Armstrong</td>\n",
       "      <td>180.0</td>\n",
       "      <td>77.0</td>\n",
       "      <td>Indiana University</td>\n",
       "      <td>1918.0</td>\n",
       "      <td>NaN</td>\n",
       "      <td>NaN</td>\n",
       "    </tr>\n",
       "    <tr>\n",
       "      <th>1</th>\n",
       "      <td>1</td>\n",
       "      <td>Cliff Barker</td>\n",
       "      <td>188.0</td>\n",
       "      <td>83.0</td>\n",
       "      <td>University of Kentucky</td>\n",
       "      <td>1921.0</td>\n",
       "      <td>Yorktown</td>\n",
       "      <td>Indiana</td>\n",
       "    </tr>\n",
       "    <tr>\n",
       "      <th>2</th>\n",
       "      <td>2</td>\n",
       "      <td>Leo Barnhorst</td>\n",
       "      <td>193.0</td>\n",
       "      <td>86.0</td>\n",
       "      <td>University of Notre Dame</td>\n",
       "      <td>1924.0</td>\n",
       "      <td>NaN</td>\n",
       "      <td>NaN</td>\n",
       "    </tr>\n",
       "    <tr>\n",
       "      <th>3</th>\n",
       "      <td>3</td>\n",
       "      <td>Ed Bartels</td>\n",
       "      <td>196.0</td>\n",
       "      <td>88.0</td>\n",
       "      <td>North Carolina State University</td>\n",
       "      <td>1925.0</td>\n",
       "      <td>NaN</td>\n",
       "      <td>NaN</td>\n",
       "    </tr>\n",
       "    <tr>\n",
       "      <th>4</th>\n",
       "      <td>4</td>\n",
       "      <td>Ralph Beard</td>\n",
       "      <td>178.0</td>\n",
       "      <td>79.0</td>\n",
       "      <td>University of Kentucky</td>\n",
       "      <td>1927.0</td>\n",
       "      <td>Hardinsburg</td>\n",
       "      <td>Kentucky</td>\n",
       "    </tr>\n",
       "    <tr>\n",
       "      <th>...</th>\n",
       "      <td>...</td>\n",
       "      <td>...</td>\n",
       "      <td>...</td>\n",
       "      <td>...</td>\n",
       "      <td>...</td>\n",
       "      <td>...</td>\n",
       "      <td>...</td>\n",
       "      <td>...</td>\n",
       "    </tr>\n",
       "    <tr>\n",
       "      <th>3917</th>\n",
       "      <td>3917</td>\n",
       "      <td>Troy Williams</td>\n",
       "      <td>198.0</td>\n",
       "      <td>97.0</td>\n",
       "      <td>South Carolina State University</td>\n",
       "      <td>1969.0</td>\n",
       "      <td>Columbia</td>\n",
       "      <td>South Carolina</td>\n",
       "    </tr>\n",
       "    <tr>\n",
       "      <th>3918</th>\n",
       "      <td>3918</td>\n",
       "      <td>Kyle Wiltjer</td>\n",
       "      <td>208.0</td>\n",
       "      <td>108.0</td>\n",
       "      <td>Gonzaga University</td>\n",
       "      <td>1992.0</td>\n",
       "      <td>Portland</td>\n",
       "      <td>Oregon</td>\n",
       "    </tr>\n",
       "    <tr>\n",
       "      <th>3919</th>\n",
       "      <td>3919</td>\n",
       "      <td>Stephen Zimmerman</td>\n",
       "      <td>213.0</td>\n",
       "      <td>108.0</td>\n",
       "      <td>University of Nevada, Las Vegas</td>\n",
       "      <td>1996.0</td>\n",
       "      <td>Hendersonville</td>\n",
       "      <td>Tennessee</td>\n",
       "    </tr>\n",
       "    <tr>\n",
       "      <th>3920</th>\n",
       "      <td>3920</td>\n",
       "      <td>Paul Zipser</td>\n",
       "      <td>203.0</td>\n",
       "      <td>97.0</td>\n",
       "      <td>NaN</td>\n",
       "      <td>1994.0</td>\n",
       "      <td>Heidelberg</td>\n",
       "      <td>Germany</td>\n",
       "    </tr>\n",
       "    <tr>\n",
       "      <th>3921</th>\n",
       "      <td>3921</td>\n",
       "      <td>Ivica Zubac</td>\n",
       "      <td>216.0</td>\n",
       "      <td>120.0</td>\n",
       "      <td>NaN</td>\n",
       "      <td>1997.0</td>\n",
       "      <td>Mostar</td>\n",
       "      <td>Bosnia and Herzegovina</td>\n",
       "    </tr>\n",
       "  </tbody>\n",
       "</table>\n",
       "<p>3922 rows × 8 columns</p>\n",
       "</div>"
      ],
      "text/plain": [
       "      Unnamed: 0             Player  height  weight  \\\n",
       "0              0    Curly Armstrong   180.0    77.0   \n",
       "1              1       Cliff Barker   188.0    83.0   \n",
       "2              2      Leo Barnhorst   193.0    86.0   \n",
       "3              3         Ed Bartels   196.0    88.0   \n",
       "4              4        Ralph Beard   178.0    79.0   \n",
       "...          ...                ...     ...     ...   \n",
       "3917        3917      Troy Williams   198.0    97.0   \n",
       "3918        3918       Kyle Wiltjer   208.0   108.0   \n",
       "3919        3919  Stephen Zimmerman   213.0   108.0   \n",
       "3920        3920        Paul Zipser   203.0    97.0   \n",
       "3921        3921        Ivica Zubac   216.0   120.0   \n",
       "\n",
       "                              collage    born      birth_city  \\\n",
       "0                  Indiana University  1918.0             NaN   \n",
       "1              University of Kentucky  1921.0        Yorktown   \n",
       "2            University of Notre Dame  1924.0             NaN   \n",
       "3     North Carolina State University  1925.0             NaN   \n",
       "4              University of Kentucky  1927.0     Hardinsburg   \n",
       "...                               ...     ...             ...   \n",
       "3917  South Carolina State University  1969.0        Columbia   \n",
       "3918               Gonzaga University  1992.0        Portland   \n",
       "3919  University of Nevada, Las Vegas  1996.0  Hendersonville   \n",
       "3920                              NaN  1994.0      Heidelberg   \n",
       "3921                              NaN  1997.0          Mostar   \n",
       "\n",
       "                 birth_state  \n",
       "0                        NaN  \n",
       "1                    Indiana  \n",
       "2                        NaN  \n",
       "3                        NaN  \n",
       "4                   Kentucky  \n",
       "...                      ...  \n",
       "3917          South Carolina  \n",
       "3918                  Oregon  \n",
       "3919               Tennessee  \n",
       "3920                 Germany  \n",
       "3921  Bosnia and Herzegovina  \n",
       "\n",
       "[3922 rows x 8 columns]"
      ]
     },
     "execution_count": 150,
     "metadata": {},
     "output_type": "execute_result"
    }
   ],
   "source": [
    "file = 'datasets_1358_30676_Players.csv'\n",
    "\n",
    "NBA_players = pd.read_csv(file)\n",
    "NBA_players"
   ]
  }
 ],
 "metadata": {
  "kernelspec": {
   "display_name": "Python 3",
   "language": "python",
   "name": "python3"
  },
  "language_info": {
   "codemirror_mode": {
    "name": "ipython",
    "version": 3
   },
   "file_extension": ".py",
   "mimetype": "text/x-python",
   "name": "python",
   "nbconvert_exporter": "python",
   "pygments_lexer": "ipython3",
   "version": "3.11.9"
  }
 },
 "nbformat": 4,
 "nbformat_minor": 2
}
